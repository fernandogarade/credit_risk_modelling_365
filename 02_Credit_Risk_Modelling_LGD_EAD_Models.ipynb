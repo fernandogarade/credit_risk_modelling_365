{
 "cells": [
  {
   "cell_type": "markdown",
   "id": "d919b7d8",
   "metadata": {},
   "source": [
    "# Credit Risk Modelling in Python\n",
    "\n",
    "From the previous notebooks we remember that:\n",
    "\n",
    "LGD: Percentage of the total exposure that was lost after the borrower defaulted. That is calculated as the money that the lender could not recover (for example after taken position of the collateral) over the EAD.\n",
    "\n",
    "EAD: Amount of the exposure at the moment the borrower defaulted.\n",
    "\n",
    "As the borrowers that defaulted, have then time to repay their debt we should not calculate this metrics on every borrower that defaulted. When building LGD and EAD models, it is a good practice to build models with data from  borrowers that have had enough time to repay part of the remaining debt. In our data, these are only the accounts that were written-off. It's 'loan_status' is 'Charged Off' and 'Does not meet the credit policy. Status: Charged Off'\n"
   ]
  },
  {
   "cell_type": "markdown",
   "id": "af44074f",
   "metadata": {},
   "source": [
    "## Importing libraries"
   ]
  },
  {
   "cell_type": "code",
   "execution_count": 1,
   "id": "9b3f212c",
   "metadata": {},
   "outputs": [],
   "source": [
    "import numpy as np\n",
    "import pandas as pd\n",
    "import matplotlib.pyplot as plt\n",
    "import seaborn as sns\n",
    "\n",
    "from sklearn.model_selection import train_test_split\n",
    "from sklearn import linear_model\n",
    "import scipy.stats as stat\n",
    "from sklearn.metrics import roc_curve, roc_auc_score\n",
    "from sklearn import linear_model\n",
    "from sklearn.metrics import mean_squared_error, r2_score\n",
    "\n",
    "import pickle"
   ]
  },
  {
   "cell_type": "markdown",
   "id": "ecaa377b",
   "metadata": {},
   "source": [
    "## Loading the data"
   ]
  },
  {
   "cell_type": "markdown",
   "id": "347ed427",
   "metadata": {},
   "source": [
    "### Import data"
   ]
  },
  {
   "cell_type": "code",
   "execution_count": 2,
   "id": "62049b5c",
   "metadata": {},
   "outputs": [
    {
     "name": "stderr",
     "output_type": "stream",
     "text": [
      "/var/folders/jz/r_v90_l50s1_y4gx6b256t2w0000gn/T/ipykernel_1063/3001466253.py:1: DtypeWarning: Columns (21,49) have mixed types. Specify dtype option on import or set low_memory=False.\n",
      "  loan_data_preprocessed_backup = pd.read_csv('loan_data_2007_2014_preprocessed.csv')\n"
     ]
    }
   ],
   "source": [
    "loan_data_preprocessed_backup = pd.read_csv('loan_data_2007_2014_preprocessed.csv')"
   ]
  },
  {
   "cell_type": "markdown",
   "id": "92e2f5ef",
   "metadata": {},
   "source": [
    "### Explore data"
   ]
  },
  {
   "cell_type": "code",
   "execution_count": 3,
   "id": "c8c0bf4a",
   "metadata": {},
   "outputs": [],
   "source": [
    "loan_data_preprocessed = loan_data_preprocessed_backup.copy()"
   ]
  },
  {
   "cell_type": "code",
   "execution_count": 4,
   "id": "67af7433",
   "metadata": {},
   "outputs": [
    {
     "data": {
      "text/html": [
       "<div>\n",
       "<style scoped>\n",
       "    .dataframe tbody tr th:only-of-type {\n",
       "        vertical-align: middle;\n",
       "    }\n",
       "\n",
       "    .dataframe tbody tr th {\n",
       "        vertical-align: top;\n",
       "    }\n",
       "\n",
       "    .dataframe thead th {\n",
       "        text-align: right;\n",
       "    }\n",
       "</style>\n",
       "<table border=\"1\" class=\"dataframe\">\n",
       "  <thead>\n",
       "    <tr style=\"text-align: right;\">\n",
       "      <th></th>\n",
       "      <th>Unnamed: 0.1</th>\n",
       "      <th>Unnamed: 0</th>\n",
       "      <th>id</th>\n",
       "      <th>member_id</th>\n",
       "      <th>loan_amnt</th>\n",
       "      <th>funded_amnt</th>\n",
       "      <th>funded_amnt_inv</th>\n",
       "      <th>term</th>\n",
       "      <th>int_rate</th>\n",
       "      <th>installment</th>\n",
       "      <th>...</th>\n",
       "      <th>addr_state:UT</th>\n",
       "      <th>addr_state:VA</th>\n",
       "      <th>addr_state:VT</th>\n",
       "      <th>addr_state:WA</th>\n",
       "      <th>addr_state:WI</th>\n",
       "      <th>addr_state:WV</th>\n",
       "      <th>addr_state:WY</th>\n",
       "      <th>initial_list_status:f</th>\n",
       "      <th>initial_list_status:w</th>\n",
       "      <th>good_bad</th>\n",
       "    </tr>\n",
       "  </thead>\n",
       "  <tbody>\n",
       "    <tr>\n",
       "      <th>0</th>\n",
       "      <td>0</td>\n",
       "      <td>0</td>\n",
       "      <td>1077501</td>\n",
       "      <td>1296599</td>\n",
       "      <td>5000</td>\n",
       "      <td>5000</td>\n",
       "      <td>4975.0</td>\n",
       "      <td>36 months</td>\n",
       "      <td>10.65</td>\n",
       "      <td>162.87</td>\n",
       "      <td>...</td>\n",
       "      <td>0</td>\n",
       "      <td>0</td>\n",
       "      <td>0</td>\n",
       "      <td>0</td>\n",
       "      <td>0</td>\n",
       "      <td>0</td>\n",
       "      <td>0</td>\n",
       "      <td>1</td>\n",
       "      <td>0</td>\n",
       "      <td>1</td>\n",
       "    </tr>\n",
       "    <tr>\n",
       "      <th>1</th>\n",
       "      <td>1</td>\n",
       "      <td>1</td>\n",
       "      <td>1077430</td>\n",
       "      <td>1314167</td>\n",
       "      <td>2500</td>\n",
       "      <td>2500</td>\n",
       "      <td>2500.0</td>\n",
       "      <td>60 months</td>\n",
       "      <td>15.27</td>\n",
       "      <td>59.83</td>\n",
       "      <td>...</td>\n",
       "      <td>0</td>\n",
       "      <td>0</td>\n",
       "      <td>0</td>\n",
       "      <td>0</td>\n",
       "      <td>0</td>\n",
       "      <td>0</td>\n",
       "      <td>0</td>\n",
       "      <td>1</td>\n",
       "      <td>0</td>\n",
       "      <td>0</td>\n",
       "    </tr>\n",
       "    <tr>\n",
       "      <th>2</th>\n",
       "      <td>2</td>\n",
       "      <td>2</td>\n",
       "      <td>1077175</td>\n",
       "      <td>1313524</td>\n",
       "      <td>2400</td>\n",
       "      <td>2400</td>\n",
       "      <td>2400.0</td>\n",
       "      <td>36 months</td>\n",
       "      <td>15.96</td>\n",
       "      <td>84.33</td>\n",
       "      <td>...</td>\n",
       "      <td>0</td>\n",
       "      <td>0</td>\n",
       "      <td>0</td>\n",
       "      <td>0</td>\n",
       "      <td>0</td>\n",
       "      <td>0</td>\n",
       "      <td>0</td>\n",
       "      <td>1</td>\n",
       "      <td>0</td>\n",
       "      <td>1</td>\n",
       "    </tr>\n",
       "    <tr>\n",
       "      <th>3</th>\n",
       "      <td>3</td>\n",
       "      <td>3</td>\n",
       "      <td>1076863</td>\n",
       "      <td>1277178</td>\n",
       "      <td>10000</td>\n",
       "      <td>10000</td>\n",
       "      <td>10000.0</td>\n",
       "      <td>36 months</td>\n",
       "      <td>13.49</td>\n",
       "      <td>339.31</td>\n",
       "      <td>...</td>\n",
       "      <td>0</td>\n",
       "      <td>0</td>\n",
       "      <td>0</td>\n",
       "      <td>0</td>\n",
       "      <td>0</td>\n",
       "      <td>0</td>\n",
       "      <td>0</td>\n",
       "      <td>1</td>\n",
       "      <td>0</td>\n",
       "      <td>1</td>\n",
       "    </tr>\n",
       "    <tr>\n",
       "      <th>4</th>\n",
       "      <td>4</td>\n",
       "      <td>4</td>\n",
       "      <td>1075358</td>\n",
       "      <td>1311748</td>\n",
       "      <td>3000</td>\n",
       "      <td>3000</td>\n",
       "      <td>3000.0</td>\n",
       "      <td>60 months</td>\n",
       "      <td>12.69</td>\n",
       "      <td>67.79</td>\n",
       "      <td>...</td>\n",
       "      <td>0</td>\n",
       "      <td>0</td>\n",
       "      <td>0</td>\n",
       "      <td>0</td>\n",
       "      <td>0</td>\n",
       "      <td>0</td>\n",
       "      <td>0</td>\n",
       "      <td>1</td>\n",
       "      <td>0</td>\n",
       "      <td>1</td>\n",
       "    </tr>\n",
       "  </tbody>\n",
       "</table>\n",
       "<p>5 rows × 209 columns</p>\n",
       "</div>"
      ],
      "text/plain": [
       "   Unnamed: 0.1  Unnamed: 0       id  member_id  loan_amnt  funded_amnt  \\\n",
       "0             0           0  1077501    1296599       5000         5000   \n",
       "1             1           1  1077430    1314167       2500         2500   \n",
       "2             2           2  1077175    1313524       2400         2400   \n",
       "3             3           3  1076863    1277178      10000        10000   \n",
       "4             4           4  1075358    1311748       3000         3000   \n",
       "\n",
       "   funded_amnt_inv        term  int_rate  installment  ... addr_state:UT  \\\n",
       "0           4975.0   36 months     10.65       162.87  ...             0   \n",
       "1           2500.0   60 months     15.27        59.83  ...             0   \n",
       "2           2400.0   36 months     15.96        84.33  ...             0   \n",
       "3          10000.0   36 months     13.49       339.31  ...             0   \n",
       "4           3000.0   60 months     12.69        67.79  ...             0   \n",
       "\n",
       "  addr_state:VA addr_state:VT addr_state:WA addr_state:WI  addr_state:WV  \\\n",
       "0             0             0             0             0              0   \n",
       "1             0             0             0             0              0   \n",
       "2             0             0             0             0              0   \n",
       "3             0             0             0             0              0   \n",
       "4             0             0             0             0              0   \n",
       "\n",
       "  addr_state:WY initial_list_status:f initial_list_status:w good_bad  \n",
       "0             0                     1                     0        1  \n",
       "1             0                     1                     0        0  \n",
       "2             0                     1                     0        1  \n",
       "3             0                     1                     0        1  \n",
       "4             0                     1                     0        1  \n",
       "\n",
       "[5 rows x 209 columns]"
      ]
     },
     "execution_count": 4,
     "metadata": {},
     "output_type": "execute_result"
    }
   ],
   "source": [
    "loan_data_preprocessed.head()"
   ]
  },
  {
   "cell_type": "code",
   "execution_count": 5,
   "id": "f1ef9604",
   "metadata": {},
   "outputs": [],
   "source": [
    "loan_data_preprocessed.drop(['Unnamed: 0.1', 'Unnamed: 0'], axis = 1, inplace=True)"
   ]
  },
  {
   "cell_type": "code",
   "execution_count": 6,
   "id": "df23077c",
   "metadata": {},
   "outputs": [
    {
     "data": {
      "text/html": [
       "<div>\n",
       "<style scoped>\n",
       "    .dataframe tbody tr th:only-of-type {\n",
       "        vertical-align: middle;\n",
       "    }\n",
       "\n",
       "    .dataframe tbody tr th {\n",
       "        vertical-align: top;\n",
       "    }\n",
       "\n",
       "    .dataframe thead th {\n",
       "        text-align: right;\n",
       "    }\n",
       "</style>\n",
       "<table border=\"1\" class=\"dataframe\">\n",
       "  <thead>\n",
       "    <tr style=\"text-align: right;\">\n",
       "      <th></th>\n",
       "      <th>id</th>\n",
       "      <th>member_id</th>\n",
       "      <th>loan_amnt</th>\n",
       "      <th>funded_amnt</th>\n",
       "      <th>funded_amnt_inv</th>\n",
       "      <th>term</th>\n",
       "      <th>int_rate</th>\n",
       "      <th>installment</th>\n",
       "      <th>grade</th>\n",
       "      <th>sub_grade</th>\n",
       "      <th>...</th>\n",
       "      <th>addr_state:UT</th>\n",
       "      <th>addr_state:VA</th>\n",
       "      <th>addr_state:VT</th>\n",
       "      <th>addr_state:WA</th>\n",
       "      <th>addr_state:WI</th>\n",
       "      <th>addr_state:WV</th>\n",
       "      <th>addr_state:WY</th>\n",
       "      <th>initial_list_status:f</th>\n",
       "      <th>initial_list_status:w</th>\n",
       "      <th>good_bad</th>\n",
       "    </tr>\n",
       "  </thead>\n",
       "  <tbody>\n",
       "    <tr>\n",
       "      <th>0</th>\n",
       "      <td>1077501</td>\n",
       "      <td>1296599</td>\n",
       "      <td>5000</td>\n",
       "      <td>5000</td>\n",
       "      <td>4975.0</td>\n",
       "      <td>36 months</td>\n",
       "      <td>10.65</td>\n",
       "      <td>162.87</td>\n",
       "      <td>B</td>\n",
       "      <td>B2</td>\n",
       "      <td>...</td>\n",
       "      <td>0</td>\n",
       "      <td>0</td>\n",
       "      <td>0</td>\n",
       "      <td>0</td>\n",
       "      <td>0</td>\n",
       "      <td>0</td>\n",
       "      <td>0</td>\n",
       "      <td>1</td>\n",
       "      <td>0</td>\n",
       "      <td>1</td>\n",
       "    </tr>\n",
       "    <tr>\n",
       "      <th>1</th>\n",
       "      <td>1077430</td>\n",
       "      <td>1314167</td>\n",
       "      <td>2500</td>\n",
       "      <td>2500</td>\n",
       "      <td>2500.0</td>\n",
       "      <td>60 months</td>\n",
       "      <td>15.27</td>\n",
       "      <td>59.83</td>\n",
       "      <td>C</td>\n",
       "      <td>C4</td>\n",
       "      <td>...</td>\n",
       "      <td>0</td>\n",
       "      <td>0</td>\n",
       "      <td>0</td>\n",
       "      <td>0</td>\n",
       "      <td>0</td>\n",
       "      <td>0</td>\n",
       "      <td>0</td>\n",
       "      <td>1</td>\n",
       "      <td>0</td>\n",
       "      <td>0</td>\n",
       "    </tr>\n",
       "    <tr>\n",
       "      <th>2</th>\n",
       "      <td>1077175</td>\n",
       "      <td>1313524</td>\n",
       "      <td>2400</td>\n",
       "      <td>2400</td>\n",
       "      <td>2400.0</td>\n",
       "      <td>36 months</td>\n",
       "      <td>15.96</td>\n",
       "      <td>84.33</td>\n",
       "      <td>C</td>\n",
       "      <td>C5</td>\n",
       "      <td>...</td>\n",
       "      <td>0</td>\n",
       "      <td>0</td>\n",
       "      <td>0</td>\n",
       "      <td>0</td>\n",
       "      <td>0</td>\n",
       "      <td>0</td>\n",
       "      <td>0</td>\n",
       "      <td>1</td>\n",
       "      <td>0</td>\n",
       "      <td>1</td>\n",
       "    </tr>\n",
       "    <tr>\n",
       "      <th>3</th>\n",
       "      <td>1076863</td>\n",
       "      <td>1277178</td>\n",
       "      <td>10000</td>\n",
       "      <td>10000</td>\n",
       "      <td>10000.0</td>\n",
       "      <td>36 months</td>\n",
       "      <td>13.49</td>\n",
       "      <td>339.31</td>\n",
       "      <td>C</td>\n",
       "      <td>C1</td>\n",
       "      <td>...</td>\n",
       "      <td>0</td>\n",
       "      <td>0</td>\n",
       "      <td>0</td>\n",
       "      <td>0</td>\n",
       "      <td>0</td>\n",
       "      <td>0</td>\n",
       "      <td>0</td>\n",
       "      <td>1</td>\n",
       "      <td>0</td>\n",
       "      <td>1</td>\n",
       "    </tr>\n",
       "    <tr>\n",
       "      <th>4</th>\n",
       "      <td>1075358</td>\n",
       "      <td>1311748</td>\n",
       "      <td>3000</td>\n",
       "      <td>3000</td>\n",
       "      <td>3000.0</td>\n",
       "      <td>60 months</td>\n",
       "      <td>12.69</td>\n",
       "      <td>67.79</td>\n",
       "      <td>B</td>\n",
       "      <td>B5</td>\n",
       "      <td>...</td>\n",
       "      <td>0</td>\n",
       "      <td>0</td>\n",
       "      <td>0</td>\n",
       "      <td>0</td>\n",
       "      <td>0</td>\n",
       "      <td>0</td>\n",
       "      <td>0</td>\n",
       "      <td>1</td>\n",
       "      <td>0</td>\n",
       "      <td>1</td>\n",
       "    </tr>\n",
       "  </tbody>\n",
       "</table>\n",
       "<p>5 rows × 207 columns</p>\n",
       "</div>"
      ],
      "text/plain": [
       "        id  member_id  loan_amnt  funded_amnt  funded_amnt_inv        term  \\\n",
       "0  1077501    1296599       5000         5000           4975.0   36 months   \n",
       "1  1077430    1314167       2500         2500           2500.0   60 months   \n",
       "2  1077175    1313524       2400         2400           2400.0   36 months   \n",
       "3  1076863    1277178      10000        10000          10000.0   36 months   \n",
       "4  1075358    1311748       3000         3000           3000.0   60 months   \n",
       "\n",
       "   int_rate  installment grade sub_grade  ... addr_state:UT addr_state:VA  \\\n",
       "0     10.65       162.87     B        B2  ...             0             0   \n",
       "1     15.27        59.83     C        C4  ...             0             0   \n",
       "2     15.96        84.33     C        C5  ...             0             0   \n",
       "3     13.49       339.31     C        C1  ...             0             0   \n",
       "4     12.69        67.79     B        B5  ...             0             0   \n",
       "\n",
       "  addr_state:VT  addr_state:WA addr_state:WI addr_state:WV addr_state:WY  \\\n",
       "0             0              0             0             0             0   \n",
       "1             0              0             0             0             0   \n",
       "2             0              0             0             0             0   \n",
       "3             0              0             0             0             0   \n",
       "4             0              0             0             0             0   \n",
       "\n",
       "  initial_list_status:f initial_list_status:w good_bad  \n",
       "0                     1                     0        1  \n",
       "1                     1                     0        0  \n",
       "2                     1                     0        1  \n",
       "3                     1                     0        1  \n",
       "4                     1                     0        1  \n",
       "\n",
       "[5 rows x 207 columns]"
      ]
     },
     "execution_count": 6,
     "metadata": {},
     "output_type": "execute_result"
    }
   ],
   "source": [
    "loan_data_preprocessed.head()"
   ]
  },
  {
   "cell_type": "code",
   "execution_count": 7,
   "id": "471b0bf9",
   "metadata": {},
   "outputs": [],
   "source": [
    "loan_data_defaults = loan_data_preprocessed[loan_data_preprocessed.loan_status.isin(['Charged Off',\n",
    "                                                                                    'Does not meet the credit policy. Status:Charged Off'])].copy()"
   ]
  },
  {
   "cell_type": "code",
   "execution_count": 8,
   "id": "6e92e8f0",
   "metadata": {},
   "outputs": [
    {
     "data": {
      "text/plain": [
       "(43236, 207)"
      ]
     },
     "execution_count": 8,
     "metadata": {},
     "output_type": "execute_result"
    }
   ],
   "source": [
    "loan_data_defaults.shape"
   ]
  },
  {
   "cell_type": "code",
   "execution_count": 9,
   "id": "d270e5c8",
   "metadata": {},
   "outputs": [
    {
     "data": {
      "text/plain": [
       "total_bal_il                   43236\n",
       "max_bal_bc                     43236\n",
       "open_il_12m                    43236\n",
       "open_rv_12m                    43236\n",
       "verification_status_joint      43236\n",
       "dti_joint                      43236\n",
       "annual_inc_joint               43236\n",
       "il_util                        43236\n",
       "open_rv_24m                    43236\n",
       "open_acc_6m                    43236\n",
       "open_il_6m                     43236\n",
       "all_util                       43236\n",
       "inq_fi                         43236\n",
       "open_il_24m                    43236\n",
       "total_cu_tl                    43236\n",
       "inq_last_12m                   43236\n",
       "mths_since_rcnt_il             43236\n",
       "next_pymnt_d                   42475\n",
       "mths_since_last_record         37821\n",
       "mths_since_last_major_derog    35283\n",
       "desc                           27396\n",
       "mths_since_last_delinq         23950\n",
       "tot_cur_bal                    10780\n",
       "tot_coll_amt                   10780\n",
       "emp_title                       3287\n",
       "emp_length                      2337\n",
       "last_pymnt_d                     376\n",
       "revol_util                        53\n",
       "collections_12_mths_ex_med        28\n",
       "last_credit_pull_d                 6\n",
       "earliest_cr_line                   3\n",
       "title                              3\n",
       "earliest_cr_line_date              3\n",
       "dtype: int64"
      ]
     },
     "execution_count": 9,
     "metadata": {},
     "output_type": "execute_result"
    }
   ],
   "source": [
    "loan_data_defaults.isna().sum()[loan_data_defaults.isna().sum().values>0].sort_values(ascending=False)"
   ]
  },
  {
   "cell_type": "markdown",
   "id": "527d9191",
   "metadata": {},
   "source": [
    "## Independent Variables"
   ]
  },
  {
   "cell_type": "code",
   "execution_count": 10,
   "id": "a19e8e1e",
   "metadata": {},
   "outputs": [],
   "source": [
    "loan_data_defaults.loc[:,'mths_since_last_delinq'].fillna(0, inplace = True)"
   ]
  },
  {
   "cell_type": "code",
   "execution_count": 11,
   "id": "cfcea9d7",
   "metadata": {},
   "outputs": [],
   "source": [
    "loan_data_defaults.loc[:,'mths_since_last_record'].fillna(0, inplace = True)"
   ]
  },
  {
   "cell_type": "markdown",
   "id": "c6eb87a0",
   "metadata": {},
   "source": [
    "## Dependent variables"
   ]
  },
  {
   "cell_type": "markdown",
   "id": "a7f59cc3",
   "metadata": {},
   "source": [
    "#### LGD"
   ]
  },
  {
   "cell_type": "code",
   "execution_count": 12,
   "id": "c2764ecc",
   "metadata": {},
   "outputs": [
    {
     "data": {
      "text/plain": [
       "count    43236.000000\n",
       "mean         0.060820\n",
       "std          0.089770\n",
       "min          0.000000\n",
       "25%          0.000000\n",
       "50%          0.029466\n",
       "75%          0.114044\n",
       "max          1.220774\n",
       "Name: recovery_rate, dtype: float64"
      ]
     },
     "execution_count": 12,
     "metadata": {},
     "output_type": "execute_result"
    }
   ],
   "source": [
    "# We need to first calculate the % of money recovered from each defaulted borrower\n",
    "loan_data_defaults['recovery_rate'] = loan_data_defaults['recoveries'] / loan_data_defaults['funded_amnt']\n",
    "loan_data_defaults['recovery_rate'].describe()"
   ]
  },
  {
   "cell_type": "code",
   "execution_count": 13,
   "id": "fa9738c1",
   "metadata": {},
   "outputs": [],
   "source": [
    "loan_data_defaults['recovery_rate'] = np.where(loan_data_defaults['recovery_rate'] >1, 1,loan_data_defaults['recovery_rate'])\n",
    "loan_data_defaults['recovery_rate'] = np.where(loan_data_defaults['recovery_rate'] <0,0,loan_data_defaults['recovery_rate'])"
   ]
  },
  {
   "cell_type": "code",
   "execution_count": 14,
   "id": "5e2b05f5",
   "metadata": {},
   "outputs": [
    {
     "data": {
      "text/plain": [
       "count    43236.000000\n",
       "mean         0.060770\n",
       "std          0.089202\n",
       "min          0.000000\n",
       "25%          0.000000\n",
       "50%          0.029466\n",
       "75%          0.114044\n",
       "max          1.000000\n",
       "Name: recovery_rate, dtype: float64"
      ]
     },
     "execution_count": 14,
     "metadata": {},
     "output_type": "execute_result"
    }
   ],
   "source": [
    "loan_data_defaults['recovery_rate'].describe()"
   ]
  },
  {
   "cell_type": "markdown",
   "id": "898ed1eb",
   "metadata": {},
   "source": [
    "This recovery rate will be our dependent variable for the LGD model. Then, LGD can be calculated as:\n",
    "\n",
    "LGD = 1 - recovery rate"
   ]
  },
  {
   "cell_type": "markdown",
   "id": "8d43f08c",
   "metadata": {},
   "source": [
    "#### EAD"
   ]
  },
  {
   "cell_type": "markdown",
   "id": "dbbbc122",
   "metadata": {},
   "source": [
    "At the moment a borrower defaults, a certain amount of money may already been repaid. The % of the funded amount that was still not repaid at a moment a borrower defaults is called as credit conversion factor.\n",
    "\n",
    "Therefore the EAD can then be calculated as:\n",
    "\n",
    "EAD = credit conversion factor * funded amount"
   ]
  },
  {
   "cell_type": "code",
   "execution_count": 15,
   "id": "c0c91ebd",
   "metadata": {},
   "outputs": [
    {
     "data": {
      "text/plain": [
       "count    43236.000000\n",
       "mean         0.735952\n",
       "std          0.200742\n",
       "min          0.000438\n",
       "25%          0.632088\n",
       "50%          0.789908\n",
       "75%          0.888543\n",
       "max          1.000000\n",
       "Name: ccf, dtype: float64"
      ]
     },
     "execution_count": 15,
     "metadata": {},
     "output_type": "execute_result"
    }
   ],
   "source": [
    "loan_data_defaults['ccf'] = (loan_data_defaults['funded_amnt'] - loan_data_defaults['total_rec_prncp'])/ loan_data_defaults['funded_amnt']\n",
    "loan_data_defaults['ccf'].describe()"
   ]
  },
  {
   "cell_type": "code",
   "execution_count": 16,
   "id": "437366d7",
   "metadata": {},
   "outputs": [],
   "source": [
    "loan_data_defaults.to_csv('loan_data_defaults.csv')"
   ]
  },
  {
   "cell_type": "markdown",
   "id": "9c87f414",
   "metadata": {},
   "source": [
    "## Extra Dependent variables"
   ]
  },
  {
   "cell_type": "code",
   "execution_count": 17,
   "id": "f7e1bc51",
   "metadata": {},
   "outputs": [],
   "source": [
    "sns.set()"
   ]
  },
  {
   "cell_type": "code",
   "execution_count": 18,
   "id": "4118009a",
   "metadata": {},
   "outputs": [
    {
     "data": {
      "text/plain": [
       "(array([2.1023e+04, 1.8370e+03, 3.8730e+03, 1.3940e+03, 2.1330e+03,\n",
       "        3.3440e+03, 4.7650e+03, 1.7130e+03, 1.1790e+03, 4.0600e+02,\n",
       "        3.4100e+02, 2.7400e+02, 1.1700e+02, 9.3000e+01, 8.1000e+01,\n",
       "        7.3000e+01, 5.4000e+01, 7.2000e+01, 5.7000e+01, 3.0000e+01,\n",
       "        4.7000e+01, 2.7000e+01, 1.7000e+01, 1.5000e+01, 2.0000e+01,\n",
       "        2.3000e+01, 1.7000e+01, 7.0000e+00, 1.1000e+01, 7.0000e+00,\n",
       "        8.0000e+00, 7.0000e+00, 7.0000e+00, 8.0000e+00, 7.0000e+00,\n",
       "        1.0000e+01, 6.0000e+00, 1.1000e+01, 9.0000e+00, 9.0000e+00,\n",
       "        6.0000e+00, 6.0000e+00, 6.0000e+00, 3.0000e+00, 9.0000e+00,\n",
       "        9.0000e+00, 1.5000e+01, 8.0000e+00, 9.0000e+00, 3.3000e+01]),\n",
       " array([0.  , 0.02, 0.04, 0.06, 0.08, 0.1 , 0.12, 0.14, 0.16, 0.18, 0.2 ,\n",
       "        0.22, 0.24, 0.26, 0.28, 0.3 , 0.32, 0.34, 0.36, 0.38, 0.4 , 0.42,\n",
       "        0.44, 0.46, 0.48, 0.5 , 0.52, 0.54, 0.56, 0.58, 0.6 , 0.62, 0.64,\n",
       "        0.66, 0.68, 0.7 , 0.72, 0.74, 0.76, 0.78, 0.8 , 0.82, 0.84, 0.86,\n",
       "        0.88, 0.9 , 0.92, 0.94, 0.96, 0.98, 1.  ]),\n",
       " <BarContainer object of 50 artists>)"
      ]
     },
     "execution_count": 18,
     "metadata": {},
     "output_type": "execute_result"
    },
    {
     "data": {
      "image/png": "[encoded data removed]",
      "text/plain": [
       "<Figure size 640x480 with 1 Axes>"
      ]
     },
     "metadata": {},
     "output_type": "display_data"
    }
   ],
   "source": [
    "plt.hist(loan_data_defaults['recovery_rate'], bins = 50)"
   ]
  },
  {
   "cell_type": "markdown",
   "id": "dd732e83",
   "metadata": {},
   "source": [
    "For the recovery_rate as lots of observations have a value of zero, we are going to take a 2-step approach:\n",
    "1) Is recovery rate equal to 0 or greater than 0? -> Logistic regression\n",
    "\n",
    "2) If recovery rate is greater than 0, how much exactly is it? -> Linear regression"
   ]
  },
  {
   "cell_type": "code",
   "execution_count": 19,
   "id": "f4a73926",
   "metadata": {
    "scrolled": true
   },
   "outputs": [
    {
     "data": {
      "text/plain": [
       "1         1\n",
       "8         1\n",
       "9         1\n",
       "12        1\n",
       "14        1\n",
       "         ..\n",
       "466254    0\n",
       "466256    0\n",
       "466276    1\n",
       "466277    0\n",
       "466281    0\n",
       "Name: recovery_rate_0_1, Length: 43236, dtype: int64"
      ]
     },
     "execution_count": 19,
     "metadata": {},
     "output_type": "execute_result"
    }
   ],
   "source": [
    "loan_data_defaults['recovery_rate_0_1'] = np.where(loan_data_defaults['recovery_rate']==0,0,1)\n",
    "loan_data_defaults['recovery_rate_0_1']"
   ]
  },
  {
   "cell_type": "markdown",
   "id": "db87b4bb",
   "metadata": {},
   "source": [
    "With this approach we are going to:\n",
    "\n",
    "1) Apply the logistic regression to see if the recovery rate is greater than 0 or not. If it is, it will remain 0. If not, then we go further with step 2.\n",
    "\n",
    "2) Using linear regression we will estimate the recovery rate for those recovery rates greater than 0."
   ]
  },
  {
   "cell_type": "code",
   "execution_count": 20,
   "id": "a65af45b",
   "metadata": {},
   "outputs": [
    {
     "data": {
      "text/plain": [
       "(array([   3.,   17.,   16.,   44.,   16.,   13.,   71.,   26.,    7.,\n",
       "          63.,   67.,   17.,   60.,   90.,   23.,   55.,   82.,   42.,\n",
       "          47.,  123.,   82.,   70.,  122.,   86.,   89.,  110.,  117.,\n",
       "         111.,  122.,  120.,  135.,  141.,  154.,  146.,  160.,  175.,\n",
       "         152.,  187.,  202.,  174.,  204.,  208.,  210.,  211.,  241.,\n",
       "         264.,  281.,  224.,  308.,  267.,  287.,  296.,  340.,  274.,\n",
       "         365.,  370.,  392.,  364.,  393.,  419.,  411.,  429.,  445.,\n",
       "         497.,  481.,  478.,  569.,  568.,  599.,  618.,  727.,  691.,\n",
       "         626.,  805.,  804.,  776.,  881.,  851.,  916.,  934.,  925.,\n",
       "        1078.,  933., 1218., 1041., 1082., 1336., 1040., 1374., 1073.,\n",
       "        1406., 1287.,  952., 1414.,  795., 1320.,  578.,  949.,  343.,\n",
       "         531.]),\n",
       " array([4.3800000e-04, 1.0433620e-02, 2.0429240e-02, 3.0424860e-02,\n",
       "        4.0420480e-02, 5.0416100e-02, 6.0411720e-02, 7.0407340e-02,\n",
       "        8.0402960e-02, 9.0398580e-02, 1.0039420e-01, 1.1038982e-01,\n",
       "        1.2038544e-01, 1.3038106e-01, 1.4037668e-01, 1.5037230e-01,\n",
       "        1.6036792e-01, 1.7036354e-01, 1.8035916e-01, 1.9035478e-01,\n",
       "        2.0035040e-01, 2.1034602e-01, 2.2034164e-01, 2.3033726e-01,\n",
       "        2.4033288e-01, 2.5032850e-01, 2.6032412e-01, 2.7031974e-01,\n",
       "        2.8031536e-01, 2.9031098e-01, 3.0030660e-01, 3.1030222e-01,\n",
       "        3.2029784e-01, 3.3029346e-01, 3.4028908e-01, 3.5028470e-01,\n",
       "        3.6028032e-01, 3.7027594e-01, 3.8027156e-01, 3.9026718e-01,\n",
       "        4.0026280e-01, 4.1025842e-01, 4.2025404e-01, 4.3024966e-01,\n",
       "        4.4024528e-01, 4.5024090e-01, 4.6023652e-01, 4.7023214e-01,\n",
       "        4.8022776e-01, 4.9022338e-01, 5.0021900e-01, 5.1021462e-01,\n",
       "        5.2021024e-01, 5.3020586e-01, 5.4020148e-01, 5.5019710e-01,\n",
       "        5.6019272e-01, 5.7018834e-01, 5.8018396e-01, 5.9017958e-01,\n",
       "        6.0017520e-01, 6.1017082e-01, 6.2016644e-01, 6.3016206e-01,\n",
       "        6.4015768e-01, 6.5015330e-01, 6.6014892e-01, 6.7014454e-01,\n",
       "        6.8014016e-01, 6.9013578e-01, 7.0013140e-01, 7.1012702e-01,\n",
       "        7.2012264e-01, 7.3011826e-01, 7.4011388e-01, 7.5010950e-01,\n",
       "        7.6010512e-01, 7.7010074e-01, 7.8009636e-01, 7.9009198e-01,\n",
       "        8.0008760e-01, 8.1008322e-01, 8.2007884e-01, 8.3007446e-01,\n",
       "        8.4007008e-01, 8.5006570e-01, 8.6006132e-01, 8.7005694e-01,\n",
       "        8.8005256e-01, 8.9004818e-01, 9.0004380e-01, 9.1003942e-01,\n",
       "        9.2003504e-01, 9.3003066e-01, 9.4002628e-01, 9.5002190e-01,\n",
       "        9.6001752e-01, 9.7001314e-01, 9.8000876e-01, 9.9000438e-01,\n",
       "        1.0000000e+00]),\n",
       " <BarContainer object of 100 artists>)"
      ]
     },
     "execution_count": 20,
     "metadata": {},
     "output_type": "execute_result"
    },
    {
     "data": {
      "image/png": "[encoded data removed]",
      "text/plain": [
       "<Figure size 640x480 with 1 Axes>"
      ]
     },
     "metadata": {},
     "output_type": "display_data"
    }
   ],
   "source": [
    "plt.hist(loan_data_defaults['ccf'], bins = 100)"
   ]
  },
  {
   "cell_type": "markdown",
   "id": "49bee321",
   "metadata": {},
   "source": [
    "As credit conversion factor distribution is much more homogeneous we will use a linear regression straightforward."
   ]
  },
  {
   "cell_type": "markdown",
   "id": "d268031c",
   "metadata": {},
   "source": [
    "## LGD Model"
   ]
  },
  {
   "cell_type": "markdown",
   "id": "bea63d3a",
   "metadata": {},
   "source": [
    "### Splitting data"
   ]
  },
  {
   "cell_type": "code",
   "execution_count": 21,
   "id": "e54ffae1",
   "metadata": {},
   "outputs": [],
   "source": [
    "lgd_inputs_stage_1_train, lgd_inputs_stage_1_test, lgd_targets_stage_1_train, lgd_targets_stage_1_test = train_test_split(loan_data_defaults.drop(['good_bad','recovery_rate','recovery_rate_0_1', 'ccf'], axis=1),loan_data_defaults['recovery_rate_0_1'], test_size = 0.2, random_state = 42)"
   ]
  },
  {
   "cell_type": "code",
   "execution_count": 22,
   "id": "d4fae78c",
   "metadata": {},
   "outputs": [
    {
     "data": {
      "text/plain": [
       "(34588, 206)"
      ]
     },
     "execution_count": 22,
     "metadata": {},
     "output_type": "execute_result"
    }
   ],
   "source": [
    "lgd_inputs_stage_1_train.shape"
   ]
  },
  {
   "cell_type": "code",
   "execution_count": 23,
   "id": "535d2917",
   "metadata": {},
   "outputs": [
    {
     "data": {
      "text/plain": [
       "(34588,)"
      ]
     },
     "execution_count": 23,
     "metadata": {},
     "output_type": "execute_result"
    }
   ],
   "source": [
    "lgd_targets_stage_1_train.shape"
   ]
  },
  {
   "cell_type": "code",
   "execution_count": 24,
   "id": "32dab905",
   "metadata": {},
   "outputs": [
    {
     "data": {
      "text/plain": [
       "(8648, 206)"
      ]
     },
     "execution_count": 24,
     "metadata": {},
     "output_type": "execute_result"
    }
   ],
   "source": [
    "lgd_inputs_stage_1_test.shape"
   ]
  },
  {
   "cell_type": "code",
   "execution_count": 25,
   "id": "bb983a46",
   "metadata": {},
   "outputs": [
    {
     "data": {
      "text/plain": [
       "(8648,)"
      ]
     },
     "execution_count": 25,
     "metadata": {},
     "output_type": "execute_result"
    }
   ],
   "source": [
    "lgd_targets_stage_1_test.shape"
   ]
  },
  {
   "cell_type": "markdown",
   "id": "0c8a7136",
   "metadata": {},
   "source": [
    "### Preparing the inputs"
   ]
  },
  {
   "cell_type": "code",
   "execution_count": 26,
   "id": "e835cbda",
   "metadata": {},
   "outputs": [],
   "source": [
    "# Here we do not need to transform the numerical variables into categorical\n",
    "features_all = ['grade:A',\n",
    "'grade:B',\n",
    "'grade:C',\n",
    "'grade:D',\n",
    "'grade:E',\n",
    "'grade:F',\n",
    "'grade:G',\n",
    "'home_ownership:MORTGAGE',\n",
    "'home_ownership:NONE',\n",
    "'home_ownership:OTHER',\n",
    "'home_ownership:OWN',\n",
    "'home_ownership:RENT',\n",
    "'verification_status:Not Verified',\n",
    "'verification_status:Source Verified',\n",
    "'verification_status:Verified',\n",
    "'purpose:car',\n",
    "'purpose:credit_card',\n",
    "'purpose:debt_consolidation',\n",
    "'purpose:educational',\n",
    "'purpose:home_improvement',\n",
    "'purpose:house',\n",
    "'purpose:major_purchase',\n",
    "'purpose:medical',\n",
    "'purpose:moving',\n",
    "'purpose:other',\n",
    "'purpose:renewable_energy',\n",
    "'purpose:small_business',\n",
    "'purpose:vacation',\n",
    "'purpose:wedding',\n",
    "'initial_list_status:f',\n",
    "'initial_list_status:w',\n",
    "'term_int',\n",
    "'emp_length_int',\n",
    "'mths_since_issue_d',\n",
    "'mths_since_earliest_cr_line',\n",
    "'funded_amnt',\n",
    "'int_rate',\n",
    "'installment',\n",
    "'annual_inc',\n",
    "'dti',\n",
    "'delinq_2yrs',\n",
    "'inq_last_6mths',\n",
    "'mths_since_last_delinq',\n",
    "'mths_since_last_record',\n",
    "'open_acc',\n",
    "'pub_rec',\n",
    "'total_acc',\n",
    "'acc_now_delinq',\n",
    "'total_rev_hi_lim']"
   ]
  },
  {
   "cell_type": "code",
   "execution_count": 27,
   "id": "756c7b9c-e05a-42a1-900e-3b858b26f5a3",
   "metadata": {},
   "outputs": [],
   "source": [
    "with open(\"features_lgd\", \"wb\") as fp:\n",
    "    pickle.dump(features_all, fp)"
   ]
  },
  {
   "cell_type": "code",
   "execution_count": 28,
   "id": "ddb9529b",
   "metadata": {},
   "outputs": [],
   "source": [
    "# We only need reference categories for the categorical variables\n",
    "features_reference_cat = ['grade:G',\n",
    "'home_ownership:RENT',\n",
    "'verification_status:Verified',\n",
    "'purpose:credit_card',\n",
    "'initial_list_status:f']"
   ]
  },
  {
   "cell_type": "code",
   "execution_count": 29,
   "id": "9bb2a3fc-19ff-4cdd-81a0-cdd06f0c145a",
   "metadata": {},
   "outputs": [],
   "source": [
    "with open(\"features_reference_cat_lgd\", \"wb\") as fp:\n",
    "    pickle.dump(features_reference_cat, fp)"
   ]
  },
  {
   "cell_type": "code",
   "execution_count": 30,
   "id": "6f3c8578",
   "metadata": {},
   "outputs": [],
   "source": [
    "lgd_inputs_stage_1_train = lgd_inputs_stage_1_train[features_all]"
   ]
  },
  {
   "cell_type": "code",
   "execution_count": 31,
   "id": "1662106a",
   "metadata": {},
   "outputs": [],
   "source": [
    "lgd_inputs_stage_1_train = lgd_inputs_stage_1_train.drop(features_reference_cat, axis = 1)"
   ]
  },
  {
   "cell_type": "code",
   "execution_count": 32,
   "id": "8ae87472",
   "metadata": {},
   "outputs": [
    {
     "data": {
      "text/plain": [
       "grade:A                                0\n",
       "grade:B                                0\n",
       "grade:C                                0\n",
       "grade:D                                0\n",
       "grade:E                                0\n",
       "grade:F                                0\n",
       "home_ownership:MORTGAGE                0\n",
       "home_ownership:NONE                    0\n",
       "home_ownership:OTHER                   0\n",
       "home_ownership:OWN                     0\n",
       "verification_status:Not Verified       0\n",
       "verification_status:Source Verified    0\n",
       "purpose:car                            0\n",
       "purpose:debt_consolidation             0\n",
       "purpose:educational                    0\n",
       "purpose:home_improvement               0\n",
       "purpose:house                          0\n",
       "purpose:major_purchase                 0\n",
       "purpose:medical                        0\n",
       "purpose:moving                         0\n",
       "purpose:other                          0\n",
       "purpose:renewable_energy               0\n",
       "purpose:small_business                 0\n",
       "purpose:vacation                       0\n",
       "purpose:wedding                        0\n",
       "initial_list_status:w                  0\n",
       "term_int                               0\n",
       "emp_length_int                         0\n",
       "mths_since_issue_d                     0\n",
       "mths_since_earliest_cr_line            0\n",
       "funded_amnt                            0\n",
       "int_rate                               0\n",
       "installment                            0\n",
       "annual_inc                             0\n",
       "dti                                    0\n",
       "delinq_2yrs                            0\n",
       "inq_last_6mths                         0\n",
       "mths_since_last_delinq                 0\n",
       "mths_since_last_record                 0\n",
       "open_acc                               0\n",
       "pub_rec                                0\n",
       "total_acc                              0\n",
       "acc_now_delinq                         0\n",
       "total_rev_hi_lim                       0\n",
       "dtype: int64"
      ]
     },
     "execution_count": 32,
     "metadata": {},
     "output_type": "execute_result"
    }
   ],
   "source": [
    "lgd_inputs_stage_1_train.isnull().sum()"
   ]
  },
  {
   "cell_type": "markdown",
   "id": "c7ed4ff5",
   "metadata": {},
   "source": [
    "### Estimating the model"
   ]
  },
  {
   "cell_type": "code",
   "execution_count": 33,
   "id": "d794037d",
   "metadata": {},
   "outputs": [],
   "source": [
    "class LogisticRegression_with_p_values:\n",
    "    \n",
    "    def __init__(self,*args,**kwargs):\n",
    "        self.model = linear_model.LogisticRegression(*args,**kwargs)\n",
    "\n",
    "    def fit(self,X,y):\n",
    "        self.model.fit(X,y)\n",
    "        denom = (2.0 * (1.0 + np.cosh(self.model.decision_function(X))))\n",
    "        denom = np.tile(denom,(X.shape[1],1)).T\n",
    "        F_ij = np.dot((X / denom).T,X)\n",
    "        Cramer_Rao = np.linalg.inv(F_ij)\n",
    "        sigma_estimates = np.sqrt(np.diagonal(Cramer_Rao))\n",
    "        z_scores = self.model.coef_[0] / sigma_estimates\n",
    "        p_values = [stat.norm.sf(abs(x)) * 2 for x in z_scores]\n",
    "        self.coef_ = self.model.coef_\n",
    "        self.intercept_ = self.model.intercept_\n",
    "        self.p_values = p_values"
   ]
  },
  {
   "cell_type": "code",
   "execution_count": 34,
   "id": "75e9a8ee",
   "metadata": {},
   "outputs": [],
   "source": [
    "reg_lgd_st_1 = LogisticRegression_with_p_values(max_iter=300)\n",
    "reg_lgd_st_1.fit(lgd_inputs_stage_1_train, lgd_targets_stage_1_train)"
   ]
  },
  {
   "cell_type": "code",
   "execution_count": 35,
   "id": "7cb2011b",
   "metadata": {},
   "outputs": [],
   "source": [
    "feature_name = lgd_inputs_stage_1_train.columns.values"
   ]
  },
  {
   "cell_type": "code",
   "execution_count": 36,
   "id": "e8ee4794",
   "metadata": {},
   "outputs": [
    {
     "data": {
      "text/html": [
       "<div>\n",
       "<style scoped>\n",
       "    .dataframe tbody tr th:only-of-type {\n",
       "        vertical-align: middle;\n",
       "    }\n",
       "\n",
       "    .dataframe tbody tr th {\n",
       "        vertical-align: top;\n",
       "    }\n",
       "\n",
       "    .dataframe thead th {\n",
       "        text-align: right;\n",
       "    }\n",
       "</style>\n",
       "<table border=\"1\" class=\"dataframe\">\n",
       "  <thead>\n",
       "    <tr style=\"text-align: right;\">\n",
       "      <th></th>\n",
       "      <th>Feature name</th>\n",
       "      <th>Coefficients</th>\n",
       "      <th>p_values</th>\n",
       "    </tr>\n",
       "  </thead>\n",
       "  <tbody>\n",
       "    <tr>\n",
       "      <th>0</th>\n",
       "      <td>Intercept</td>\n",
       "      <td>-2.455908e-04</td>\n",
       "      <td>NaN</td>\n",
       "    </tr>\n",
       "    <tr>\n",
       "      <th>1</th>\n",
       "      <td>grade:A</td>\n",
       "      <td>-2.978260e-05</td>\n",
       "      <td>9.997219e-01</td>\n",
       "    </tr>\n",
       "    <tr>\n",
       "      <th>2</th>\n",
       "      <td>grade:B</td>\n",
       "      <td>-1.564048e-04</td>\n",
       "      <td>9.981904e-01</td>\n",
       "    </tr>\n",
       "    <tr>\n",
       "      <th>3</th>\n",
       "      <td>grade:C</td>\n",
       "      <td>-2.813972e-04</td>\n",
       "      <td>9.966212e-01</td>\n",
       "    </tr>\n",
       "    <tr>\n",
       "      <th>4</th>\n",
       "      <td>grade:D</td>\n",
       "      <td>2.644066e-05</td>\n",
       "      <td>9.996948e-01</td>\n",
       "    </tr>\n",
       "    <tr>\n",
       "      <th>5</th>\n",
       "      <td>grade:E</td>\n",
       "      <td>2.550163e-05</td>\n",
       "      <td>9.997330e-01</td>\n",
       "    </tr>\n",
       "    <tr>\n",
       "      <th>6</th>\n",
       "      <td>grade:F</td>\n",
       "      <td>1.463556e-04</td>\n",
       "      <td>9.986663e-01</td>\n",
       "    </tr>\n",
       "    <tr>\n",
       "      <th>7</th>\n",
       "      <td>home_ownership:MORTGAGE</td>\n",
       "      <td>-7.115361e-05</td>\n",
       "      <td>9.977766e-01</td>\n",
       "    </tr>\n",
       "    <tr>\n",
       "      <th>8</th>\n",
       "      <td>home_ownership:NONE</td>\n",
       "      <td>1.772376e-06</td>\n",
       "      <td>9.999982e-01</td>\n",
       "    </tr>\n",
       "    <tr>\n",
       "      <th>9</th>\n",
       "      <td>home_ownership:OTHER</td>\n",
       "      <td>5.971637e-07</td>\n",
       "      <td>9.999989e-01</td>\n",
       "    </tr>\n",
       "    <tr>\n",
       "      <th>10</th>\n",
       "      <td>home_ownership:OWN</td>\n",
       "      <td>-1.235632e-05</td>\n",
       "      <td>9.997626e-01</td>\n",
       "    </tr>\n",
       "    <tr>\n",
       "      <th>11</th>\n",
       "      <td>verification_status:Not Verified</td>\n",
       "      <td>-1.831966e-04</td>\n",
       "      <td>9.951686e-01</td>\n",
       "    </tr>\n",
       "    <tr>\n",
       "      <th>12</th>\n",
       "      <td>verification_status:Source Verified</td>\n",
       "      <td>-3.521248e-04</td>\n",
       "      <td>9.897346e-01</td>\n",
       "    </tr>\n",
       "    <tr>\n",
       "      <th>13</th>\n",
       "      <td>purpose:car</td>\n",
       "      <td>2.226328e-05</td>\n",
       "      <td>9.998495e-01</td>\n",
       "    </tr>\n",
       "    <tr>\n",
       "      <th>14</th>\n",
       "      <td>purpose:debt_consolidation</td>\n",
       "      <td>-3.305642e-04</td>\n",
       "      <td>9.913417e-01</td>\n",
       "    </tr>\n",
       "    <tr>\n",
       "      <th>15</th>\n",
       "      <td>purpose:educational</td>\n",
       "      <td>7.697996e-07</td>\n",
       "      <td>9.999980e-01</td>\n",
       "    </tr>\n",
       "    <tr>\n",
       "      <th>16</th>\n",
       "      <td>purpose:home_improvement</td>\n",
       "      <td>2.023411e-05</td>\n",
       "      <td>9.997193e-01</td>\n",
       "    </tr>\n",
       "    <tr>\n",
       "      <th>17</th>\n",
       "      <td>purpose:house</td>\n",
       "      <td>2.195479e-05</td>\n",
       "      <td>9.998790e-01</td>\n",
       "    </tr>\n",
       "    <tr>\n",
       "      <th>18</th>\n",
       "      <td>purpose:major_purchase</td>\n",
       "      <td>3.323893e-05</td>\n",
       "      <td>9.996967e-01</td>\n",
       "    </tr>\n",
       "    <tr>\n",
       "      <th>19</th>\n",
       "      <td>purpose:medical</td>\n",
       "      <td>2.270417e-06</td>\n",
       "      <td>9.999830e-01</td>\n",
       "    </tr>\n",
       "    <tr>\n",
       "      <th>20</th>\n",
       "      <td>purpose:moving</td>\n",
       "      <td>5.214145e-06</td>\n",
       "      <td>9.999656e-01</td>\n",
       "    </tr>\n",
       "    <tr>\n",
       "      <th>21</th>\n",
       "      <td>purpose:other</td>\n",
       "      <td>6.910352e-05</td>\n",
       "      <td>9.989637e-01</td>\n",
       "    </tr>\n",
       "    <tr>\n",
       "      <th>22</th>\n",
       "      <td>purpose:renewable_energy</td>\n",
       "      <td>6.233559e-06</td>\n",
       "      <td>9.999855e-01</td>\n",
       "    </tr>\n",
       "    <tr>\n",
       "      <th>23</th>\n",
       "      <td>purpose:small_business</td>\n",
       "      <td>9.532290e-05</td>\n",
       "      <td>9.989524e-01</td>\n",
       "    </tr>\n",
       "    <tr>\n",
       "      <th>24</th>\n",
       "      <td>purpose:vacation</td>\n",
       "      <td>7.403981e-06</td>\n",
       "      <td>9.999595e-01</td>\n",
       "    </tr>\n",
       "    <tr>\n",
       "      <th>25</th>\n",
       "      <td>purpose:wedding</td>\n",
       "      <td>2.000844e-05</td>\n",
       "      <td>9.998932e-01</td>\n",
       "    </tr>\n",
       "    <tr>\n",
       "      <th>26</th>\n",
       "      <td>initial_list_status:w</td>\n",
       "      <td>-1.532535e-03</td>\n",
       "      <td>9.547505e-01</td>\n",
       "    </tr>\n",
       "    <tr>\n",
       "      <th>27</th>\n",
       "      <td>term_int</td>\n",
       "      <td>-6.172998e-03</td>\n",
       "      <td>1.429791e-02</td>\n",
       "    </tr>\n",
       "    <tr>\n",
       "      <th>28</th>\n",
       "      <td>emp_length_int</td>\n",
       "      <td>-8.636214e-04</td>\n",
       "      <td>7.794435e-01</td>\n",
       "    </tr>\n",
       "    <tr>\n",
       "      <th>29</th>\n",
       "      <td>mths_since_issue_d</td>\n",
       "      <td>2.513014e-02</td>\n",
       "      <td>2.304858e-168</td>\n",
       "    </tr>\n",
       "    <tr>\n",
       "      <th>30</th>\n",
       "      <td>mths_since_earliest_cr_line</td>\n",
       "      <td>-1.952110e-03</td>\n",
       "      <td>1.999675e-40</td>\n",
       "    </tr>\n",
       "    <tr>\n",
       "      <th>31</th>\n",
       "      <td>funded_amnt</td>\n",
       "      <td>3.597067e-05</td>\n",
       "      <td>3.379528e-04</td>\n",
       "    </tr>\n",
       "    <tr>\n",
       "      <th>32</th>\n",
       "      <td>int_rate</td>\n",
       "      <td>-1.489866e-04</td>\n",
       "      <td>9.797338e-01</td>\n",
       "    </tr>\n",
       "    <tr>\n",
       "      <th>33</th>\n",
       "      <td>installment</td>\n",
       "      <td>-7.305583e-04</td>\n",
       "      <td>1.919803e-02</td>\n",
       "    </tr>\n",
       "    <tr>\n",
       "      <th>34</th>\n",
       "      <td>annual_inc</td>\n",
       "      <td>3.566572e-07</td>\n",
       "      <td>3.061216e-01</td>\n",
       "    </tr>\n",
       "    <tr>\n",
       "      <th>35</th>\n",
       "      <td>dti</td>\n",
       "      <td>-1.138394e-02</td>\n",
       "      <td>3.897829e-12</td>\n",
       "    </tr>\n",
       "    <tr>\n",
       "      <th>36</th>\n",
       "      <td>delinq_2yrs</td>\n",
       "      <td>-9.916739e-05</td>\n",
       "      <td>9.946210e-01</td>\n",
       "    </tr>\n",
       "    <tr>\n",
       "      <th>37</th>\n",
       "      <td>inq_last_6mths</td>\n",
       "      <td>2.936713e-04</td>\n",
       "      <td>9.755942e-01</td>\n",
       "    </tr>\n",
       "    <tr>\n",
       "      <th>38</th>\n",
       "      <td>mths_since_last_delinq</td>\n",
       "      <td>-1.562191e-03</td>\n",
       "      <td>2.170182e-03</td>\n",
       "    </tr>\n",
       "    <tr>\n",
       "      <th>39</th>\n",
       "      <td>mths_since_last_record</td>\n",
       "      <td>-1.480900e-03</td>\n",
       "      <td>1.722923e-02</td>\n",
       "    </tr>\n",
       "    <tr>\n",
       "      <th>40</th>\n",
       "      <td>open_acc</td>\n",
       "      <td>-4.492765e-03</td>\n",
       "      <td>1.721979e-01</td>\n",
       "    </tr>\n",
       "    <tr>\n",
       "      <th>41</th>\n",
       "      <td>pub_rec</td>\n",
       "      <td>-6.449973e-05</td>\n",
       "      <td>9.987034e-01</td>\n",
       "    </tr>\n",
       "    <tr>\n",
       "      <th>42</th>\n",
       "      <td>total_acc</td>\n",
       "      <td>-1.054786e-02</td>\n",
       "      <td>5.213126e-13</td>\n",
       "    </tr>\n",
       "    <tr>\n",
       "      <th>43</th>\n",
       "      <td>acc_now_delinq</td>\n",
       "      <td>7.050566e-06</td>\n",
       "      <td>9.999679e-01</td>\n",
       "    </tr>\n",
       "    <tr>\n",
       "      <th>44</th>\n",
       "      <td>total_rev_hi_lim</td>\n",
       "      <td>-1.557894e-06</td>\n",
       "      <td>1.835799e-02</td>\n",
       "    </tr>\n",
       "  </tbody>\n",
       "</table>\n",
       "</div>"
      ],
      "text/plain": [
       "                           Feature name  Coefficients       p_values\n",
       "0                             Intercept -2.455908e-04            NaN\n",
       "1                               grade:A -2.978260e-05   9.997219e-01\n",
       "2                               grade:B -1.564048e-04   9.981904e-01\n",
       "3                               grade:C -2.813972e-04   9.966212e-01\n",
       "4                               grade:D  2.644066e-05   9.996948e-01\n",
       "5                               grade:E  2.550163e-05   9.997330e-01\n",
       "6                               grade:F  1.463556e-04   9.986663e-01\n",
       "7               home_ownership:MORTGAGE -7.115361e-05   9.977766e-01\n",
       "8                   home_ownership:NONE  1.772376e-06   9.999982e-01\n",
       "9                  home_ownership:OTHER  5.971637e-07   9.999989e-01\n",
       "10                   home_ownership:OWN -1.235632e-05   9.997626e-01\n",
       "11     verification_status:Not Verified -1.831966e-04   9.951686e-01\n",
       "12  verification_status:Source Verified -3.521248e-04   9.897346e-01\n",
       "13                          purpose:car  2.226328e-05   9.998495e-01\n",
       "14           purpose:debt_consolidation -3.305642e-04   9.913417e-01\n",
       "15                  purpose:educational  7.697996e-07   9.999980e-01\n",
       "16             purpose:home_improvement  2.023411e-05   9.997193e-01\n",
       "17                        purpose:house  2.195479e-05   9.998790e-01\n",
       "18               purpose:major_purchase  3.323893e-05   9.996967e-01\n",
       "19                      purpose:medical  2.270417e-06   9.999830e-01\n",
       "20                       purpose:moving  5.214145e-06   9.999656e-01\n",
       "21                        purpose:other  6.910352e-05   9.989637e-01\n",
       "22             purpose:renewable_energy  6.233559e-06   9.999855e-01\n",
       "23               purpose:small_business  9.532290e-05   9.989524e-01\n",
       "24                     purpose:vacation  7.403981e-06   9.999595e-01\n",
       "25                      purpose:wedding  2.000844e-05   9.998932e-01\n",
       "26                initial_list_status:w -1.532535e-03   9.547505e-01\n",
       "27                             term_int -6.172998e-03   1.429791e-02\n",
       "28                       emp_length_int -8.636214e-04   7.794435e-01\n",
       "29                   mths_since_issue_d  2.513014e-02  2.304858e-168\n",
       "30          mths_since_earliest_cr_line -1.952110e-03   1.999675e-40\n",
       "31                          funded_amnt  3.597067e-05   3.379528e-04\n",
       "32                             int_rate -1.489866e-04   9.797338e-01\n",
       "33                          installment -7.305583e-04   1.919803e-02\n",
       "34                           annual_inc  3.566572e-07   3.061216e-01\n",
       "35                                  dti -1.138394e-02   3.897829e-12\n",
       "36                          delinq_2yrs -9.916739e-05   9.946210e-01\n",
       "37                       inq_last_6mths  2.936713e-04   9.755942e-01\n",
       "38               mths_since_last_delinq -1.562191e-03   2.170182e-03\n",
       "39               mths_since_last_record -1.480900e-03   1.722923e-02\n",
       "40                             open_acc -4.492765e-03   1.721979e-01\n",
       "41                              pub_rec -6.449973e-05   9.987034e-01\n",
       "42                            total_acc -1.054786e-02   5.213126e-13\n",
       "43                       acc_now_delinq  7.050566e-06   9.999679e-01\n",
       "44                     total_rev_hi_lim -1.557894e-06   1.835799e-02"
      ]
     },
     "execution_count": 36,
     "metadata": {},
     "output_type": "execute_result"
    }
   ],
   "source": [
    "summary_table = pd.DataFrame(columns = ['Feature name'], data = feature_name)\n",
    "summary_table['Coefficients'] = np.transpose(reg_lgd_st_1.coef_)\n",
    "summary_table.index = summary_table.index + 1\n",
    "summary_table.loc[0] = ['Intercept', reg_lgd_st_1.intercept_[0]]\n",
    "summary_table = summary_table.sort_index()\n",
    "p_values = reg_lgd_st_1.p_values\n",
    "p_values = np.append(np.nan,np.array(p_values))\n",
    "summary_table['p_values'] = p_values\n",
    "summary_table"
   ]
  },
  {
   "cell_type": "markdown",
   "id": "066b27a6",
   "metadata": {},
   "source": [
    "In the case of the continuous variables, their coefficients reflect the change in log-odds that results from a unit change in the property the continuous variable measures."
   ]
  },
  {
   "cell_type": "markdown",
   "id": "0971acee",
   "metadata": {},
   "source": [
    "### Testing the model"
   ]
  },
  {
   "cell_type": "code",
   "execution_count": 37,
   "id": "ab1709ff",
   "metadata": {},
   "outputs": [],
   "source": [
    "lgd_inputs_stage_1_test = lgd_inputs_stage_1_test[features_all]"
   ]
  },
  {
   "cell_type": "code",
   "execution_count": 38,
   "id": "59374244",
   "metadata": {},
   "outputs": [],
   "source": [
    "lgd_inputs_stage_1_test = lgd_inputs_stage_1_test.drop(features_reference_cat, axis = 1)"
   ]
  },
  {
   "cell_type": "code",
   "execution_count": 39,
   "id": "ed00f33b",
   "metadata": {},
   "outputs": [],
   "source": [
    "y_hat_test_lgd_stage_1 = reg_lgd_st_1.model.predict(lgd_inputs_stage_1_test)"
   ]
  },
  {
   "cell_type": "code",
   "execution_count": 40,
   "id": "42c822ab",
   "metadata": {},
   "outputs": [
    {
     "data": {
      "text/plain": [
       "array([1, 1, 0, ..., 1, 1, 0])"
      ]
     },
     "execution_count": 40,
     "metadata": {},
     "output_type": "execute_result"
    }
   ],
   "source": [
    "y_hat_test_lgd_stage_1"
   ]
  },
  {
   "cell_type": "code",
   "execution_count": 41,
   "id": "524d7406",
   "metadata": {},
   "outputs": [],
   "source": [
    "y_hat_test_proba_lgd_stage_1 = reg_lgd_st_1.model.predict_proba(lgd_inputs_stage_1_test)"
   ]
  },
  {
   "cell_type": "code",
   "execution_count": 42,
   "id": "dd3f13e5",
   "metadata": {},
   "outputs": [
    {
     "data": {
      "text/plain": [
       "array([[0.42652525, 0.57347475],\n",
       "       [0.37899685, 0.62100315],\n",
       "       [0.51410414, 0.48589586],\n",
       "       ...,\n",
       "       [0.43090945, 0.56909055],\n",
       "       [0.40974914, 0.59025086],\n",
       "       [0.52526738, 0.47473262]])"
      ]
     },
     "execution_count": 42,
     "metadata": {},
     "output_type": "execute_result"
    }
   ],
   "source": [
    "y_hat_test_proba_lgd_stage_1"
   ]
  },
  {
   "cell_type": "code",
   "execution_count": 43,
   "id": "8913b650",
   "metadata": {},
   "outputs": [],
   "source": [
    "y_hat_test_proba_lgd_stage_1 = y_hat_test_proba_lgd_stage_1[: ][: , 1]"
   ]
  },
  {
   "cell_type": "code",
   "execution_count": 44,
   "id": "e26f5cae",
   "metadata": {},
   "outputs": [
    {
     "data": {
      "text/plain": [
       "array([0.57347475, 0.62100315, 0.48589586, ..., 0.56909055, 0.59025086,\n",
       "       0.47473262])"
      ]
     },
     "execution_count": 44,
     "metadata": {},
     "output_type": "execute_result"
    }
   ],
   "source": [
    "y_hat_test_proba_lgd_stage_1"
   ]
  },
  {
   "cell_type": "code",
   "execution_count": 45,
   "id": "c27f731c",
   "metadata": {},
   "outputs": [],
   "source": [
    "lgd_targets_stage_1_test_temp = lgd_targets_stage_1_test"
   ]
  },
  {
   "cell_type": "code",
   "execution_count": 46,
   "id": "27c46d8d",
   "metadata": {},
   "outputs": [],
   "source": [
    "lgd_targets_stage_1_test_temp.reset_index(drop = True, inplace = True)"
   ]
  },
  {
   "cell_type": "code",
   "execution_count": 47,
   "id": "640c9e97",
   "metadata": {},
   "outputs": [],
   "source": [
    "df_actual_predicted_probs = pd.concat([lgd_targets_stage_1_test_temp, pd.DataFrame(y_hat_test_proba_lgd_stage_1)], axis = 1)"
   ]
  },
  {
   "cell_type": "code",
   "execution_count": 48,
   "id": "e832bc50",
   "metadata": {},
   "outputs": [],
   "source": [
    "df_actual_predicted_probs.columns = ['lgd_targets_stage_1_test', 'y_hat_test_proba_lgd_stage_1']"
   ]
  },
  {
   "cell_type": "code",
   "execution_count": 49,
   "id": "7c0f25c8",
   "metadata": {},
   "outputs": [],
   "source": [
    "df_actual_predicted_probs.index = lgd_inputs_stage_1_test.index"
   ]
  },
  {
   "cell_type": "code",
   "execution_count": 50,
   "id": "5ce7339f",
   "metadata": {},
   "outputs": [
    {
     "data": {
      "text/html": [
       "<div>\n",
       "<style scoped>\n",
       "    .dataframe tbody tr th:only-of-type {\n",
       "        vertical-align: middle;\n",
       "    }\n",
       "\n",
       "    .dataframe tbody tr th {\n",
       "        vertical-align: top;\n",
       "    }\n",
       "\n",
       "    .dataframe thead th {\n",
       "        text-align: right;\n",
       "    }\n",
       "</style>\n",
       "<table border=\"1\" class=\"dataframe\">\n",
       "  <thead>\n",
       "    <tr style=\"text-align: right;\">\n",
       "      <th></th>\n",
       "      <th>lgd_targets_stage_1_test</th>\n",
       "      <th>y_hat_test_proba_lgd_stage_1</th>\n",
       "    </tr>\n",
       "  </thead>\n",
       "  <tbody>\n",
       "    <tr>\n",
       "      <th>178928</th>\n",
       "      <td>1</td>\n",
       "      <td>0.573475</td>\n",
       "    </tr>\n",
       "    <tr>\n",
       "      <th>69814</th>\n",
       "      <td>1</td>\n",
       "      <td>0.621003</td>\n",
       "    </tr>\n",
       "    <tr>\n",
       "      <th>101396</th>\n",
       "      <td>0</td>\n",
       "      <td>0.485896</td>\n",
       "    </tr>\n",
       "    <tr>\n",
       "      <th>463268</th>\n",
       "      <td>1</td>\n",
       "      <td>0.531412</td>\n",
       "    </tr>\n",
       "    <tr>\n",
       "      <th>253729</th>\n",
       "      <td>0</td>\n",
       "      <td>0.417950</td>\n",
       "    </tr>\n",
       "  </tbody>\n",
       "</table>\n",
       "</div>"
      ],
      "text/plain": [
       "        lgd_targets_stage_1_test  y_hat_test_proba_lgd_stage_1\n",
       "178928                         1                      0.573475\n",
       "69814                          1                      0.621003\n",
       "101396                         0                      0.485896\n",
       "463268                         1                      0.531412\n",
       "253729                         0                      0.417950"
      ]
     },
     "execution_count": 50,
     "metadata": {},
     "output_type": "execute_result"
    }
   ],
   "source": [
    "df_actual_predicted_probs.head()"
   ]
  },
  {
   "cell_type": "markdown",
   "id": "69fa2751",
   "metadata": {},
   "source": [
    "### Estimating the Аccuracy of the Мodel"
   ]
  },
  {
   "cell_type": "code",
   "execution_count": 51,
   "id": "4e8ff1ee",
   "metadata": {},
   "outputs": [],
   "source": [
    "tr = 0.5\n",
    "df_actual_predicted_probs['y_hat_test_lgd_stage_1'] = np.where(df_actual_predicted_probs['y_hat_test_proba_lgd_stage_1'] > tr, 1, 0)"
   ]
  },
  {
   "cell_type": "code",
   "execution_count": 52,
   "id": "42c4a358",
   "metadata": {},
   "outputs": [
    {
     "data": {
      "text/html": [
       "<div>\n",
       "<style scoped>\n",
       "    .dataframe tbody tr th:only-of-type {\n",
       "        vertical-align: middle;\n",
       "    }\n",
       "\n",
       "    .dataframe tbody tr th {\n",
       "        vertical-align: top;\n",
       "    }\n",
       "\n",
       "    .dataframe thead th {\n",
       "        text-align: right;\n",
       "    }\n",
       "</style>\n",
       "<table border=\"1\" class=\"dataframe\">\n",
       "  <thead>\n",
       "    <tr style=\"text-align: right;\">\n",
       "      <th>Predicted</th>\n",
       "      <th>0</th>\n",
       "      <th>1</th>\n",
       "    </tr>\n",
       "    <tr>\n",
       "      <th>Actual</th>\n",
       "      <th></th>\n",
       "      <th></th>\n",
       "    </tr>\n",
       "  </thead>\n",
       "  <tbody>\n",
       "    <tr>\n",
       "      <th>0</th>\n",
       "      <td>1387</td>\n",
       "      <td>2375</td>\n",
       "    </tr>\n",
       "    <tr>\n",
       "      <th>1</th>\n",
       "      <td>939</td>\n",
       "      <td>3947</td>\n",
       "    </tr>\n",
       "  </tbody>\n",
       "</table>\n",
       "</div>"
      ],
      "text/plain": [
       "Predicted     0     1\n",
       "Actual               \n",
       "0          1387  2375\n",
       "1           939  3947"
      ]
     },
     "execution_count": 52,
     "metadata": {},
     "output_type": "execute_result"
    }
   ],
   "source": [
    "pd.crosstab(df_actual_predicted_probs['lgd_targets_stage_1_test'], df_actual_predicted_probs['y_hat_test_lgd_stage_1'], rownames = ['Actual'], colnames = ['Predicted'])"
   ]
  },
  {
   "cell_type": "code",
   "execution_count": 53,
   "id": "32e2c667",
   "metadata": {
    "scrolled": true
   },
   "outputs": [
    {
     "data": {
      "text/html": [
       "<div>\n",
       "<style scoped>\n",
       "    .dataframe tbody tr th:only-of-type {\n",
       "        vertical-align: middle;\n",
       "    }\n",
       "\n",
       "    .dataframe tbody tr th {\n",
       "        vertical-align: top;\n",
       "    }\n",
       "\n",
       "    .dataframe thead th {\n",
       "        text-align: right;\n",
       "    }\n",
       "</style>\n",
       "<table border=\"1\" class=\"dataframe\">\n",
       "  <thead>\n",
       "    <tr style=\"text-align: right;\">\n",
       "      <th>Predicted</th>\n",
       "      <th>0</th>\n",
       "      <th>1</th>\n",
       "    </tr>\n",
       "    <tr>\n",
       "      <th>Actual</th>\n",
       "      <th></th>\n",
       "      <th></th>\n",
       "    </tr>\n",
       "  </thead>\n",
       "  <tbody>\n",
       "    <tr>\n",
       "      <th>0</th>\n",
       "      <td>0.160384</td>\n",
       "      <td>0.274630</td>\n",
       "    </tr>\n",
       "    <tr>\n",
       "      <th>1</th>\n",
       "      <td>0.108580</td>\n",
       "      <td>0.456406</td>\n",
       "    </tr>\n",
       "  </tbody>\n",
       "</table>\n",
       "</div>"
      ],
      "text/plain": [
       "Predicted         0         1\n",
       "Actual                       \n",
       "0          0.160384  0.274630\n",
       "1          0.108580  0.456406"
      ]
     },
     "execution_count": 53,
     "metadata": {},
     "output_type": "execute_result"
    }
   ],
   "source": [
    "pd.crosstab(df_actual_predicted_probs['lgd_targets_stage_1_test'], df_actual_predicted_probs['y_hat_test_lgd_stage_1'], rownames = ['Actual'], colnames = ['Predicted']) / df_actual_predicted_probs.shape[0]"
   ]
  },
  {
   "cell_type": "markdown",
   "id": "07f23050",
   "metadata": {},
   "source": [
    "As we then are going to estimate the LGD for values greater than 0, here it is more important to have a large proportion of correctly classified values that are greater than 0, than to have correctly classifed 0s.\n",
    "\n",
    "This is because during the 2nd stage some of the values classified as > 1 may be estimated to be = 0, thus correcting the current misclassification."
   ]
  },
  {
   "cell_type": "code",
   "execution_count": 54,
   "id": "d8ecddee",
   "metadata": {},
   "outputs": [
    {
     "data": {
      "text/plain": [
       "0.6167900092506938"
      ]
     },
     "execution_count": 54,
     "metadata": {},
     "output_type": "execute_result"
    }
   ],
   "source": [
    "(pd.crosstab(df_actual_predicted_probs['lgd_targets_stage_1_test'], df_actual_predicted_probs['y_hat_test_lgd_stage_1'], rownames = ['Actual'], colnames = ['Predicted']) / df_actual_predicted_probs.shape[0]).iloc[0, 0] + (pd.crosstab(df_actual_predicted_probs['lgd_targets_stage_1_test'], df_actual_predicted_probs['y_hat_test_lgd_stage_1'], rownames = ['Actual'], colnames = ['Predicted']) / df_actual_predicted_probs.shape[0]).iloc[1, 1]"
   ]
  },
  {
   "cell_type": "code",
   "execution_count": 55,
   "id": "fa12b3ef",
   "metadata": {},
   "outputs": [],
   "source": [
    "fpr, tpr, thresholds = roc_curve(df_actual_predicted_probs['lgd_targets_stage_1_test'], df_actual_predicted_probs['y_hat_test_proba_lgd_stage_1'])"
   ]
  },
  {
   "cell_type": "code",
   "execution_count": 56,
   "id": "b5d9b16a",
   "metadata": {},
   "outputs": [
    {
     "data": {
      "text/plain": [
       "Text(0.5, 1.0, 'ROC curve')"
      ]
     },
     "execution_count": 56,
     "metadata": {},
     "output_type": "execute_result"
    },
    {
     "data": {
      "image/png": "[encoded data removed]",
      "text/plain": [
       "<Figure size 640x480 with 1 Axes>"
      ]
     },
     "metadata": {},
     "output_type": "display_data"
    }
   ],
   "source": [
    "plt.plot(fpr, tpr)\n",
    "plt.plot(fpr, fpr, linestyle = '--', color = 'k')\n",
    "plt.xlabel('False positive rate')\n",
    "plt.ylabel('True positive rate')\n",
    "plt.title('ROC curve')"
   ]
  },
  {
   "cell_type": "code",
   "execution_count": 57,
   "id": "cb585e68",
   "metadata": {},
   "outputs": [
    {
     "data": {
      "text/plain": [
       "0.6508142153595329"
      ]
     },
     "execution_count": 57,
     "metadata": {},
     "output_type": "execute_result"
    }
   ],
   "source": [
    "AUROC = roc_auc_score(df_actual_predicted_probs['lgd_targets_stage_1_test'], df_actual_predicted_probs['y_hat_test_proba_lgd_stage_1'])\n",
    "AUROC"
   ]
  },
  {
   "cell_type": "markdown",
   "id": "355634a7",
   "metadata": {},
   "source": [
    "### Saving the Model"
   ]
  },
  {
   "cell_type": "code",
   "execution_count": 58,
   "id": "6acca7a2",
   "metadata": {},
   "outputs": [],
   "source": [
    "pickle.dump(reg_lgd_st_1, open('lgd_model_stage_1.sav', 'wb'))"
   ]
  },
  {
   "cell_type": "markdown",
   "id": "9621d7f7",
   "metadata": {},
   "source": [
    "### Stage 2 – Linear Regression"
   ]
  },
  {
   "cell_type": "code",
   "execution_count": 59,
   "id": "cedf79d0",
   "metadata": {},
   "outputs": [],
   "source": [
    "lgd_stage_2_data = loan_data_defaults[loan_data_defaults['recovery_rate_0_1'] == 1]"
   ]
  },
  {
   "cell_type": "code",
   "execution_count": 60,
   "id": "bee470db",
   "metadata": {},
   "outputs": [],
   "source": [
    "lgd_inputs_stage_2_train, lgd_inputs_stage_2_test, lgd_targets_stage_2_train, lgd_targets_stage_2_test = train_test_split(lgd_stage_2_data.drop(['good_bad', 'recovery_rate', 'recovery_rate_0_1', 'ccf'], axis = 1), lgd_stage_2_data['recovery_rate'], test_size = 0.2, random_state = 42)"
   ]
  },
  {
   "cell_type": "code",
   "execution_count": 61,
   "id": "b4c3bb0d",
   "metadata": {},
   "outputs": [],
   "source": [
    "class LinearRegression(linear_model.LinearRegression):\n",
    "    def __init__(self, fit_intercept=True, normalize=False, copy_X=True,\n",
    "                 n_jobs=1):\n",
    "        super().__init__(fit_intercept=fit_intercept, normalize=normalize, copy_X=copy_X, n_jobs=n_jobs)\n",
    "        self.fit_intercept = fit_intercept\n",
    "        self.normalize = normalize\n",
    "        self.copy_X = copy_X\n",
    "        self.n_jobs = n_jobs\n",
    "    def fit(self, X, y, n_jobs=1):\n",
    "        self = super(LinearRegression, self).fit(X, y, n_jobs)\n",
    "        sse = np.sum((self.predict(X) - y) ** 2, axis=0) / float(X.shape[0] - X.shape[1])\n",
    "        se = np.array([np.sqrt(np.diagonal(sse * np.linalg.inv(np.dot(X.T, X))))])\n",
    "        self.t = self.coef_ / se\n",
    "        self.p = np.squeeze(2 * (1 - stat.t.cdf(np.abs(self.t), y.shape[0] - X.shape[1])))\n",
    "        return self"
   ]
  },
  {
   "cell_type": "code",
   "execution_count": 62,
   "id": "e0a13502",
   "metadata": {},
   "outputs": [],
   "source": [
    "lgd_inputs_stage_2_train = lgd_inputs_stage_2_train[features_all]"
   ]
  },
  {
   "cell_type": "code",
   "execution_count": 63,
   "id": "289bd1e5",
   "metadata": {},
   "outputs": [],
   "source": [
    "lgd_inputs_stage_2_train = lgd_inputs_stage_2_train.drop(features_reference_cat, axis = 1)"
   ]
  },
  {
   "cell_type": "code",
   "execution_count": 64,
   "id": "713c7dad",
   "metadata": {},
   "outputs": [
    {
     "name": "stderr",
     "output_type": "stream",
     "text": [
      "/Users/fernandoemirgarade/opt/anaconda3/envs/ibk_env/lib/python3.10/site-packages/sklearn/linear_model/_base.py:148: FutureWarning: 'normalize' was deprecated in version 1.0 and will be removed in 1.2. Please leave the normalize parameter to its default value to silence this warning. The default behavior of this estimator is to not do any normalization. If normalization is needed please use sklearn.preprocessing.StandardScaler instead.\n",
      "  warnings.warn(\n"
     ]
    },
    {
     "data": {
      "text/html": [
       "<style>#sk-container-id-1 {color: black;background-color: white;}#sk-container-id-1 pre{padding: 0;}#sk-container-id-1 div.sk-toggleable {background-color: white;}#sk-container-id-1 label.sk-toggleable__label {cursor: pointer;display: block;width: 100%;margin-bottom: 0;padding: 0.3em;box-sizing: border-box;text-align: center;}#sk-container-id-1 label.sk-toggleable__label-arrow:before {content: \"▸\";float: left;margin-right: 0.25em;color: #696969;}#sk-container-id-1 label.sk-toggleable__label-arrow:hover:before {color: black;}#sk-container-id-1 div.sk-estimator:hover label.sk-toggleable__label-arrow:before {color: black;}#sk-container-id-1 div.sk-toggleable__content {max-height: 0;max-width: 0;overflow: hidden;text-align: left;background-color: #f0f8ff;}#sk-container-id-1 div.sk-toggleable__content pre {margin: 0.2em;color: black;border-radius: 0.25em;background-color: #f0f8ff;}#sk-container-id-1 input.sk-toggleable__control:checked~div.sk-toggleable__content {max-height: 200px;max-width: 100%;overflow: auto;}#sk-container-id-1 input.sk-toggleable__control:checked~label.sk-toggleable__label-arrow:before {content: \"▾\";}#sk-container-id-1 div.sk-estimator input.sk-toggleable__control:checked~label.sk-toggleable__label {background-color: #d4ebff;}#sk-container-id-1 div.sk-label input.sk-toggleable__control:checked~label.sk-toggleable__label {background-color: #d4ebff;}#sk-container-id-1 input.sk-hidden--visually {border: 0;clip: rect(1px 1px 1px 1px);clip: rect(1px, 1px, 1px, 1px);height: 1px;margin: -1px;overflow: hidden;padding: 0;position: absolute;width: 1px;}#sk-container-id-1 div.sk-estimator {font-family: monospace;background-color: #f0f8ff;border: 1px dotted black;border-radius: 0.25em;box-sizing: border-box;margin-bottom: 0.5em;}#sk-container-id-1 div.sk-estimator:hover {background-color: #d4ebff;}#sk-container-id-1 div.sk-parallel-item::after {content: \"\";width: 100%;border-bottom: 1px solid gray;flex-grow: 1;}#sk-container-id-1 div.sk-label:hover label.sk-toggleable__label {background-color: #d4ebff;}#sk-container-id-1 div.sk-serial::before {content: \"\";position: absolute;border-left: 1px solid gray;box-sizing: border-box;top: 0;bottom: 0;left: 50%;z-index: 0;}#sk-container-id-1 div.sk-serial {display: flex;flex-direction: column;align-items: center;background-color: white;padding-right: 0.2em;padding-left: 0.2em;position: relative;}#sk-container-id-1 div.sk-item {position: relative;z-index: 1;}#sk-container-id-1 div.sk-parallel {display: flex;align-items: stretch;justify-content: center;background-color: white;position: relative;}#sk-container-id-1 div.sk-item::before, #sk-container-id-1 div.sk-parallel-item::before {content: \"\";position: absolute;border-left: 1px solid gray;box-sizing: border-box;top: 0;bottom: 0;left: 50%;z-index: -1;}#sk-container-id-1 div.sk-parallel-item {display: flex;flex-direction: column;z-index: 1;position: relative;background-color: white;}#sk-container-id-1 div.sk-parallel-item:first-child::after {align-self: flex-end;width: 50%;}#sk-container-id-1 div.sk-parallel-item:last-child::after {align-self: flex-start;width: 50%;}#sk-container-id-1 div.sk-parallel-item:only-child::after {width: 0;}#sk-container-id-1 div.sk-dashed-wrapped {border: 1px dashed gray;margin: 0 0.4em 0.5em 0.4em;box-sizing: border-box;padding-bottom: 0.4em;background-color: white;}#sk-container-id-1 div.sk-label label {font-family: monospace;font-weight: bold;display: inline-block;line-height: 1.2em;}#sk-container-id-1 div.sk-label-container {text-align: center;}#sk-container-id-1 div.sk-container {/* jupyter's `normalize.less` sets `[hidden] { display: none; }` but bootstrap.min.css set `[hidden] { display: none !important; }` so we also need the `!important` here to be able to override the default hidden behavior on the sphinx rendered scikit-learn.org. See: https://github.com/scikit-learn/scikit-learn/issues/21755 */display: inline-block !important;position: relative;}#sk-container-id-1 div.sk-text-repr-fallback {display: none;}</style><div id=\"sk-container-id-1\" class=\"sk-top-container\"><div class=\"sk-text-repr-fallback\"><pre>LinearRegression()</pre><b>In a Jupyter environment, please rerun this cell to show the HTML representation or trust the notebook. <br />On GitHub, the HTML representation is unable to render, please try loading this page with nbviewer.org.</b></div><div class=\"sk-container\" hidden><div class=\"sk-item\"><div class=\"sk-estimator sk-toggleable\"><input class=\"sk-toggleable__control sk-hidden--visually\" id=\"sk-estimator-id-1\" type=\"checkbox\" checked><label for=\"sk-estimator-id-1\" class=\"sk-toggleable__label sk-toggleable__label-arrow\">LinearRegression</label><div class=\"sk-toggleable__content\"><pre>LinearRegression()</pre></div></div></div></div></div>"
      ],
      "text/plain": [
       "LinearRegression()"
      ]
     },
     "execution_count": 64,
     "metadata": {},
     "output_type": "execute_result"
    }
   ],
   "source": [
    "reg_lgd_st_2 = LinearRegression()\n",
    "reg_lgd_st_2.fit(lgd_inputs_stage_2_train, lgd_targets_stage_2_train)"
   ]
  },
  {
   "cell_type": "code",
   "execution_count": 65,
   "id": "1f146246",
   "metadata": {},
   "outputs": [],
   "source": [
    "feature_name = lgd_inputs_stage_2_train.columns.values"
   ]
  },
  {
   "cell_type": "code",
   "execution_count": 66,
   "id": "8e5deff3",
   "metadata": {},
   "outputs": [
    {
     "data": {
      "text/html": [
       "<div>\n",
       "<style scoped>\n",
       "    .dataframe tbody tr th:only-of-type {\n",
       "        vertical-align: middle;\n",
       "    }\n",
       "\n",
       "    .dataframe tbody tr th {\n",
       "        vertical-align: top;\n",
       "    }\n",
       "\n",
       "    .dataframe thead th {\n",
       "        text-align: right;\n",
       "    }\n",
       "</style>\n",
       "<table border=\"1\" class=\"dataframe\">\n",
       "  <thead>\n",
       "    <tr style=\"text-align: right;\">\n",
       "      <th></th>\n",
       "      <th>Feature name</th>\n",
       "      <th>Coefficients</th>\n",
       "      <th>p_values</th>\n",
       "    </tr>\n",
       "  </thead>\n",
       "  <tbody>\n",
       "    <tr>\n",
       "      <th>0</th>\n",
       "      <td>Intercept</td>\n",
       "      <td>2.406858e-01</td>\n",
       "      <td>NaN</td>\n",
       "    </tr>\n",
       "    <tr>\n",
       "      <th>1</th>\n",
       "      <td>grade:A</td>\n",
       "      <td>-6.826892e-02</td>\n",
       "      <td>0.000</td>\n",
       "    </tr>\n",
       "    <tr>\n",
       "      <th>2</th>\n",
       "      <td>grade:B</td>\n",
       "      <td>-5.083556e-02</td>\n",
       "      <td>0.000</td>\n",
       "    </tr>\n",
       "    <tr>\n",
       "      <th>3</th>\n",
       "      <td>grade:C</td>\n",
       "      <td>-3.748066e-02</td>\n",
       "      <td>0.000</td>\n",
       "    </tr>\n",
       "    <tr>\n",
       "      <th>4</th>\n",
       "      <td>grade:D</td>\n",
       "      <td>-2.717310e-02</td>\n",
       "      <td>0.000</td>\n",
       "    </tr>\n",
       "    <tr>\n",
       "      <th>5</th>\n",
       "      <td>grade:E</td>\n",
       "      <td>-1.315941e-02</td>\n",
       "      <td>0.002</td>\n",
       "    </tr>\n",
       "    <tr>\n",
       "      <th>6</th>\n",
       "      <td>grade:F</td>\n",
       "      <td>-5.260168e-03</td>\n",
       "      <td>0.275</td>\n",
       "    </tr>\n",
       "    <tr>\n",
       "      <th>7</th>\n",
       "      <td>home_ownership:MORTGAGE</td>\n",
       "      <td>2.832212e-03</td>\n",
       "      <td>0.061</td>\n",
       "    </tr>\n",
       "    <tr>\n",
       "      <th>8</th>\n",
       "      <td>home_ownership:NONE</td>\n",
       "      <td>1.459035e-01</td>\n",
       "      <td>0.000</td>\n",
       "    </tr>\n",
       "    <tr>\n",
       "      <th>9</th>\n",
       "      <td>home_ownership:OTHER</td>\n",
       "      <td>-9.475922e-03</td>\n",
       "      <td>0.644</td>\n",
       "    </tr>\n",
       "    <tr>\n",
       "      <th>10</th>\n",
       "      <td>home_ownership:OWN</td>\n",
       "      <td>5.000678e-03</td>\n",
       "      <td>0.040</td>\n",
       "    </tr>\n",
       "    <tr>\n",
       "      <th>11</th>\n",
       "      <td>verification_status:Not Verified</td>\n",
       "      <td>1.056585e-03</td>\n",
       "      <td>0.553</td>\n",
       "    </tr>\n",
       "    <tr>\n",
       "      <th>12</th>\n",
       "      <td>verification_status:Source Verified</td>\n",
       "      <td>-1.009915e-03</td>\n",
       "      <td>0.535</td>\n",
       "    </tr>\n",
       "    <tr>\n",
       "      <th>13</th>\n",
       "      <td>purpose:car</td>\n",
       "      <td>-2.995960e-03</td>\n",
       "      <td>0.634</td>\n",
       "    </tr>\n",
       "    <tr>\n",
       "      <th>14</th>\n",
       "      <td>purpose:debt_consolidation</td>\n",
       "      <td>8.206319e-05</td>\n",
       "      <td>0.965</td>\n",
       "    </tr>\n",
       "    <tr>\n",
       "      <th>15</th>\n",
       "      <td>purpose:educational</td>\n",
       "      <td>7.625467e-02</td>\n",
       "      <td>0.000</td>\n",
       "    </tr>\n",
       "    <tr>\n",
       "      <th>16</th>\n",
       "      <td>purpose:home_improvement</td>\n",
       "      <td>-3.702374e-03</td>\n",
       "      <td>0.273</td>\n",
       "    </tr>\n",
       "    <tr>\n",
       "      <th>17</th>\n",
       "      <td>purpose:house</td>\n",
       "      <td>-3.786803e-03</td>\n",
       "      <td>0.620</td>\n",
       "    </tr>\n",
       "    <tr>\n",
       "      <th>18</th>\n",
       "      <td>purpose:major_purchase</td>\n",
       "      <td>2.914439e-03</td>\n",
       "      <td>0.538</td>\n",
       "    </tr>\n",
       "    <tr>\n",
       "      <th>19</th>\n",
       "      <td>purpose:medical</td>\n",
       "      <td>1.078825e-02</td>\n",
       "      <td>0.074</td>\n",
       "    </tr>\n",
       "    <tr>\n",
       "      <th>20</th>\n",
       "      <td>purpose:moving</td>\n",
       "      <td>1.398692e-02</td>\n",
       "      <td>0.039</td>\n",
       "    </tr>\n",
       "    <tr>\n",
       "      <th>21</th>\n",
       "      <td>purpose:other</td>\n",
       "      <td>4.841345e-03</td>\n",
       "      <td>0.109</td>\n",
       "    </tr>\n",
       "    <tr>\n",
       "      <th>22</th>\n",
       "      <td>purpose:renewable_energy</td>\n",
       "      <td>2.420645e-02</td>\n",
       "      <td>0.142</td>\n",
       "    </tr>\n",
       "    <tr>\n",
       "      <th>23</th>\n",
       "      <td>purpose:small_business</td>\n",
       "      <td>6.212343e-04</td>\n",
       "      <td>0.869</td>\n",
       "    </tr>\n",
       "    <tr>\n",
       "      <th>24</th>\n",
       "      <td>purpose:vacation</td>\n",
       "      <td>-3.002398e-03</td>\n",
       "      <td>0.731</td>\n",
       "    </tr>\n",
       "    <tr>\n",
       "      <th>25</th>\n",
       "      <td>purpose:wedding</td>\n",
       "      <td>2.034853e-02</td>\n",
       "      <td>0.006</td>\n",
       "    </tr>\n",
       "    <tr>\n",
       "      <th>26</th>\n",
       "      <td>initial_list_status:w</td>\n",
       "      <td>1.464671e-02</td>\n",
       "      <td>0.000</td>\n",
       "    </tr>\n",
       "    <tr>\n",
       "      <th>27</th>\n",
       "      <td>term_int</td>\n",
       "      <td>3.316229e-04</td>\n",
       "      <td>0.020</td>\n",
       "    </tr>\n",
       "    <tr>\n",
       "      <th>28</th>\n",
       "      <td>emp_length_int</td>\n",
       "      <td>8.727462e-05</td>\n",
       "      <td>0.635</td>\n",
       "    </tr>\n",
       "    <tr>\n",
       "      <th>29</th>\n",
       "      <td>mths_since_issue_d</td>\n",
       "      <td>-1.521649e-03</td>\n",
       "      <td>0.000</td>\n",
       "    </tr>\n",
       "    <tr>\n",
       "      <th>30</th>\n",
       "      <td>mths_since_earliest_cr_line</td>\n",
       "      <td>3.418678e-05</td>\n",
       "      <td>0.000</td>\n",
       "    </tr>\n",
       "    <tr>\n",
       "      <th>31</th>\n",
       "      <td>funded_amnt</td>\n",
       "      <td>-2.186999e-07</td>\n",
       "      <td>0.699</td>\n",
       "    </tr>\n",
       "    <tr>\n",
       "      <th>32</th>\n",
       "      <td>int_rate</td>\n",
       "      <td>-2.544714e-03</td>\n",
       "      <td>0.000</td>\n",
       "    </tr>\n",
       "    <tr>\n",
       "      <th>33</th>\n",
       "      <td>installment</td>\n",
       "      <td>-1.037621e-05</td>\n",
       "      <td>0.557</td>\n",
       "    </tr>\n",
       "    <tr>\n",
       "      <th>34</th>\n",
       "      <td>annual_inc</td>\n",
       "      <td>6.389841e-08</td>\n",
       "      <td>0.001</td>\n",
       "    </tr>\n",
       "    <tr>\n",
       "      <th>35</th>\n",
       "      <td>dti</td>\n",
       "      <td>1.775655e-04</td>\n",
       "      <td>0.069</td>\n",
       "    </tr>\n",
       "    <tr>\n",
       "      <th>36</th>\n",
       "      <td>delinq_2yrs</td>\n",
       "      <td>1.757943e-03</td>\n",
       "      <td>0.050</td>\n",
       "    </tr>\n",
       "    <tr>\n",
       "      <th>37</th>\n",
       "      <td>inq_last_6mths</td>\n",
       "      <td>1.274095e-03</td>\n",
       "      <td>0.018</td>\n",
       "    </tr>\n",
       "    <tr>\n",
       "      <th>38</th>\n",
       "      <td>mths_since_last_delinq</td>\n",
       "      <td>-1.094747e-06</td>\n",
       "      <td>0.971</td>\n",
       "    </tr>\n",
       "    <tr>\n",
       "      <th>39</th>\n",
       "      <td>mths_since_last_record</td>\n",
       "      <td>-5.558083e-05</td>\n",
       "      <td>0.181</td>\n",
       "    </tr>\n",
       "    <tr>\n",
       "      <th>40</th>\n",
       "      <td>open_acc</td>\n",
       "      <td>-1.196505e-03</td>\n",
       "      <td>0.000</td>\n",
       "    </tr>\n",
       "    <tr>\n",
       "      <th>41</th>\n",
       "      <td>pub_rec</td>\n",
       "      <td>3.447322e-03</td>\n",
       "      <td>0.208</td>\n",
       "    </tr>\n",
       "    <tr>\n",
       "      <th>42</th>\n",
       "      <td>total_acc</td>\n",
       "      <td>4.766629e-04</td>\n",
       "      <td>0.000</td>\n",
       "    </tr>\n",
       "    <tr>\n",
       "      <th>43</th>\n",
       "      <td>acc_now_delinq</td>\n",
       "      <td>4.278394e-03</td>\n",
       "      <td>0.658</td>\n",
       "    </tr>\n",
       "    <tr>\n",
       "      <th>44</th>\n",
       "      <td>total_rev_hi_lim</td>\n",
       "      <td>2.263456e-07</td>\n",
       "      <td>0.000</td>\n",
       "    </tr>\n",
       "  </tbody>\n",
       "</table>\n",
       "</div>"
      ],
      "text/plain": [
       "                           Feature name  Coefficients  p_values\n",
       "0                             Intercept  2.406858e-01       NaN\n",
       "1                               grade:A -6.826892e-02     0.000\n",
       "2                               grade:B -5.083556e-02     0.000\n",
       "3                               grade:C -3.748066e-02     0.000\n",
       "4                               grade:D -2.717310e-02     0.000\n",
       "5                               grade:E -1.315941e-02     0.002\n",
       "6                               grade:F -5.260168e-03     0.275\n",
       "7               home_ownership:MORTGAGE  2.832212e-03     0.061\n",
       "8                   home_ownership:NONE  1.459035e-01     0.000\n",
       "9                  home_ownership:OTHER -9.475922e-03     0.644\n",
       "10                   home_ownership:OWN  5.000678e-03     0.040\n",
       "11     verification_status:Not Verified  1.056585e-03     0.553\n",
       "12  verification_status:Source Verified -1.009915e-03     0.535\n",
       "13                          purpose:car -2.995960e-03     0.634\n",
       "14           purpose:debt_consolidation  8.206319e-05     0.965\n",
       "15                  purpose:educational  7.625467e-02     0.000\n",
       "16             purpose:home_improvement -3.702374e-03     0.273\n",
       "17                        purpose:house -3.786803e-03     0.620\n",
       "18               purpose:major_purchase  2.914439e-03     0.538\n",
       "19                      purpose:medical  1.078825e-02     0.074\n",
       "20                       purpose:moving  1.398692e-02     0.039\n",
       "21                        purpose:other  4.841345e-03     0.109\n",
       "22             purpose:renewable_energy  2.420645e-02     0.142\n",
       "23               purpose:small_business  6.212343e-04     0.869\n",
       "24                     purpose:vacation -3.002398e-03     0.731\n",
       "25                      purpose:wedding  2.034853e-02     0.006\n",
       "26                initial_list_status:w  1.464671e-02     0.000\n",
       "27                             term_int  3.316229e-04     0.020\n",
       "28                       emp_length_int  8.727462e-05     0.635\n",
       "29                   mths_since_issue_d -1.521649e-03     0.000\n",
       "30          mths_since_earliest_cr_line  3.418678e-05     0.000\n",
       "31                          funded_amnt -2.186999e-07     0.699\n",
       "32                             int_rate -2.544714e-03     0.000\n",
       "33                          installment -1.037621e-05     0.557\n",
       "34                           annual_inc  6.389841e-08     0.001\n",
       "35                                  dti  1.775655e-04     0.069\n",
       "36                          delinq_2yrs  1.757943e-03     0.050\n",
       "37                       inq_last_6mths  1.274095e-03     0.018\n",
       "38               mths_since_last_delinq -1.094747e-06     0.971\n",
       "39               mths_since_last_record -5.558083e-05     0.181\n",
       "40                             open_acc -1.196505e-03     0.000\n",
       "41                              pub_rec  3.447322e-03     0.208\n",
       "42                            total_acc  4.766629e-04     0.000\n",
       "43                       acc_now_delinq  4.278394e-03     0.658\n",
       "44                     total_rev_hi_lim  2.263456e-07     0.000"
      ]
     },
     "execution_count": 66,
     "metadata": {},
     "output_type": "execute_result"
    }
   ],
   "source": [
    "summary_table = pd.DataFrame(columns = ['Feature name'], data = feature_name)\n",
    "summary_table['Coefficients'] = np.transpose(reg_lgd_st_2.coef_)\n",
    "summary_table.index = summary_table.index + 1\n",
    "summary_table.loc[0] = ['Intercept', reg_lgd_st_2.intercept_]\n",
    "summary_table = summary_table.sort_index()\n",
    "p_values = reg_lgd_st_2.p\n",
    "p_values = np.append(np.nan,np.array(p_values))\n",
    "summary_table['p_values'] = p_values.round(3)\n",
    "summary_table"
   ]
  },
  {
   "cell_type": "markdown",
   "id": "e671ed73",
   "metadata": {},
   "source": [
    "Here, as we are using a linear regression model, a coefficient shows the change in the dependdent variable thar is going to occur as a result of a unit change in the respective independent variable."
   ]
  },
  {
   "cell_type": "markdown",
   "id": "40345fc1",
   "metadata": {},
   "source": [
    "### Stage 2 – Linear Regression Evaluation"
   ]
  },
  {
   "cell_type": "code",
   "execution_count": 67,
   "id": "2e73d98f",
   "metadata": {},
   "outputs": [],
   "source": [
    "lgd_inputs_stage_2_test = lgd_inputs_stage_2_test[features_all]"
   ]
  },
  {
   "cell_type": "code",
   "execution_count": 68,
   "id": "8477350c",
   "metadata": {},
   "outputs": [],
   "source": [
    "lgd_inputs_stage_2_test = lgd_inputs_stage_2_test.drop(features_reference_cat, axis = 1)"
   ]
  },
  {
   "cell_type": "code",
   "execution_count": 69,
   "id": "c9ae461f",
   "metadata": {},
   "outputs": [
    {
     "data": {
      "text/plain": [
       "array(['grade:A', 'grade:B', 'grade:C', 'grade:D', 'grade:E', 'grade:F',\n",
       "       'home_ownership:MORTGAGE', 'home_ownership:NONE',\n",
       "       'home_ownership:OTHER', 'home_ownership:OWN',\n",
       "       'verification_status:Not Verified',\n",
       "       'verification_status:Source Verified', 'purpose:car',\n",
       "       'purpose:debt_consolidation', 'purpose:educational',\n",
       "       'purpose:home_improvement', 'purpose:house',\n",
       "       'purpose:major_purchase', 'purpose:medical', 'purpose:moving',\n",
       "       'purpose:other', 'purpose:renewable_energy',\n",
       "       'purpose:small_business', 'purpose:vacation', 'purpose:wedding',\n",
       "       'initial_list_status:w', 'term_int', 'emp_length_int',\n",
       "       'mths_since_issue_d', 'mths_since_earliest_cr_line', 'funded_amnt',\n",
       "       'int_rate', 'installment', 'annual_inc', 'dti', 'delinq_2yrs',\n",
       "       'inq_last_6mths', 'mths_since_last_delinq',\n",
       "       'mths_since_last_record', 'open_acc', 'pub_rec', 'total_acc',\n",
       "       'acc_now_delinq', 'total_rev_hi_lim'], dtype=object)"
      ]
     },
     "execution_count": 69,
     "metadata": {},
     "output_type": "execute_result"
    }
   ],
   "source": [
    "lgd_inputs_stage_2_test.columns.values"
   ]
  },
  {
   "cell_type": "code",
   "execution_count": 70,
   "id": "726d6666",
   "metadata": {},
   "outputs": [],
   "source": [
    "y_hat_test_lgd_stage_2 = reg_lgd_st_2.predict(lgd_inputs_stage_2_test)"
   ]
  },
  {
   "cell_type": "code",
   "execution_count": 71,
   "id": "b579dd63",
   "metadata": {},
   "outputs": [],
   "source": [
    "lgd_targets_stage_2_test_temp = lgd_targets_stage_2_test"
   ]
  },
  {
   "cell_type": "code",
   "execution_count": 72,
   "id": "92bcfca5",
   "metadata": {},
   "outputs": [],
   "source": [
    "lgd_targets_stage_2_test_temp = lgd_targets_stage_2_test_temp.reset_index(drop = True)"
   ]
  },
  {
   "cell_type": "code",
   "execution_count": 73,
   "id": "e19ada02",
   "metadata": {},
   "outputs": [
    {
     "data": {
      "text/html": [
       "<div>\n",
       "<style scoped>\n",
       "    .dataframe tbody tr th:only-of-type {\n",
       "        vertical-align: middle;\n",
       "    }\n",
       "\n",
       "    .dataframe tbody tr th {\n",
       "        vertical-align: top;\n",
       "    }\n",
       "\n",
       "    .dataframe thead th {\n",
       "        text-align: right;\n",
       "    }\n",
       "</style>\n",
       "<table border=\"1\" class=\"dataframe\">\n",
       "  <thead>\n",
       "    <tr style=\"text-align: right;\">\n",
       "      <th></th>\n",
       "      <th>recovery_rate</th>\n",
       "      <th>0</th>\n",
       "    </tr>\n",
       "  </thead>\n",
       "  <tbody>\n",
       "    <tr>\n",
       "      <th>recovery_rate</th>\n",
       "      <td>1.000000</td>\n",
       "      <td>0.307996</td>\n",
       "    </tr>\n",
       "    <tr>\n",
       "      <th>0</th>\n",
       "      <td>0.307996</td>\n",
       "      <td>1.000000</td>\n",
       "    </tr>\n",
       "  </tbody>\n",
       "</table>\n",
       "</div>"
      ],
      "text/plain": [
       "               recovery_rate         0\n",
       "recovery_rate       1.000000  0.307996\n",
       "0                   0.307996  1.000000"
      ]
     },
     "execution_count": 73,
     "metadata": {},
     "output_type": "execute_result"
    }
   ],
   "source": [
    "pd.concat([lgd_targets_stage_2_test_temp, pd.DataFrame(y_hat_test_lgd_stage_2)], axis = 1).corr()"
   ]
  },
  {
   "cell_type": "code",
   "execution_count": 74,
   "id": "870a5dd4",
   "metadata": {},
   "outputs": [
    {
     "name": "stderr",
     "output_type": "stream",
     "text": [
      "/var/folders/jz/r_v90_l50s1_y4gx6b256t2w0000gn/T/ipykernel_1063/483740359.py:1: UserWarning: \n",
      "\n",
      "`distplot` is a deprecated function and will be removed in seaborn v0.14.0.\n",
      "\n",
      "Please adapt your code to use either `displot` (a figure-level function with\n",
      "similar flexibility) or `histplot` (an axes-level function for histograms).\n",
      "\n",
      "For a guide to updating your code to use the new functions, please see\n",
      "https://gist.github.com/mwaskom/de44147ed2974457ad6372750bbe5751\n",
      "\n",
      "  sns.distplot(lgd_targets_stage_2_test - y_hat_test_lgd_stage_2)\n"
     ]
    },
    {
     "data": {
      "text/plain": [
       "<AxesSubplot:xlabel='recovery_rate', ylabel='Density'>"
      ]
     },
     "execution_count": 74,
     "metadata": {},
     "output_type": "execute_result"
    },
    {
     "data": {
      "image/png": "[encoded data removed]",
      "text/plain": [
       "<Figure size 640x480 with 1 Axes>"
      ]
     },
     "metadata": {},
     "output_type": "display_data"
    }
   ],
   "source": [
    "sns.distplot(lgd_targets_stage_2_test - y_hat_test_lgd_stage_2)"
   ]
  },
  {
   "cell_type": "code",
   "execution_count": 75,
   "id": "3a025a99",
   "metadata": {},
   "outputs": [],
   "source": [
    "pickle.dump(reg_lgd_st_2, open('lgd_model_stage_2.sav', 'wb'))"
   ]
  },
  {
   "cell_type": "markdown",
   "id": "602e0a7f",
   "metadata": {},
   "source": [
    "### Combining Stage 1 and Stage 2"
   ]
  },
  {
   "cell_type": "code",
   "execution_count": 76,
   "id": "c1cf25dc",
   "metadata": {},
   "outputs": [],
   "source": [
    "y_hat_test_lgd_stage_2_all = reg_lgd_st_2.predict(lgd_inputs_stage_1_test)"
   ]
  },
  {
   "cell_type": "code",
   "execution_count": 77,
   "id": "7df0c36e",
   "metadata": {},
   "outputs": [
    {
     "data": {
      "text/plain": [
       "array([0.1193906 , 0.09605635, 0.13367631, ..., 0.12078611, 0.11587422,\n",
       "       0.15667447])"
      ]
     },
     "execution_count": 77,
     "metadata": {},
     "output_type": "execute_result"
    }
   ],
   "source": [
    "y_hat_test_lgd_stage_2_all"
   ]
  },
  {
   "cell_type": "code",
   "execution_count": 78,
   "id": "a96c3ee1",
   "metadata": {},
   "outputs": [],
   "source": [
    "y_hat_test_lgd = y_hat_test_lgd_stage_1 * y_hat_test_lgd_stage_2_all"
   ]
  },
  {
   "cell_type": "code",
   "execution_count": 79,
   "id": "b6fbbbcb",
   "metadata": {},
   "outputs": [
    {
     "data": {
      "text/html": [
       "<div>\n",
       "<style scoped>\n",
       "    .dataframe tbody tr th:only-of-type {\n",
       "        vertical-align: middle;\n",
       "    }\n",
       "\n",
       "    .dataframe tbody tr th {\n",
       "        vertical-align: top;\n",
       "    }\n",
       "\n",
       "    .dataframe thead th {\n",
       "        text-align: right;\n",
       "    }\n",
       "</style>\n",
       "<table border=\"1\" class=\"dataframe\">\n",
       "  <thead>\n",
       "    <tr style=\"text-align: right;\">\n",
       "      <th></th>\n",
       "      <th>0</th>\n",
       "    </tr>\n",
       "  </thead>\n",
       "  <tbody>\n",
       "    <tr>\n",
       "      <th>count</th>\n",
       "      <td>8648.000000</td>\n",
       "    </tr>\n",
       "    <tr>\n",
       "      <th>mean</th>\n",
       "      <td>0.076506</td>\n",
       "    </tr>\n",
       "    <tr>\n",
       "      <th>std</th>\n",
       "      <td>0.052010</td>\n",
       "    </tr>\n",
       "    <tr>\n",
       "      <th>min</th>\n",
       "      <td>-0.007634</td>\n",
       "    </tr>\n",
       "    <tr>\n",
       "      <th>25%</th>\n",
       "      <td>0.000000</td>\n",
       "    </tr>\n",
       "    <tr>\n",
       "      <th>50%</th>\n",
       "      <td>0.093511</td>\n",
       "    </tr>\n",
       "    <tr>\n",
       "      <th>75%</th>\n",
       "      <td>0.116846</td>\n",
       "    </tr>\n",
       "    <tr>\n",
       "      <th>max</th>\n",
       "      <td>0.236973</td>\n",
       "    </tr>\n",
       "  </tbody>\n",
       "</table>\n",
       "</div>"
      ],
      "text/plain": [
       "                 0\n",
       "count  8648.000000\n",
       "mean      0.076506\n",
       "std       0.052010\n",
       "min      -0.007634\n",
       "25%       0.000000\n",
       "50%       0.093511\n",
       "75%       0.116846\n",
       "max       0.236973"
      ]
     },
     "execution_count": 79,
     "metadata": {},
     "output_type": "execute_result"
    }
   ],
   "source": [
    "pd.DataFrame(y_hat_test_lgd).describe()"
   ]
  },
  {
   "cell_type": "code",
   "execution_count": 80,
   "id": "f0895329",
   "metadata": {},
   "outputs": [],
   "source": [
    "y_hat_test_lgd = np.where(y_hat_test_lgd < 0, 0, y_hat_test_lgd)\n",
    "y_hat_test_lgd = np.where(y_hat_test_lgd > 1, 1, y_hat_test_lgd)"
   ]
  },
  {
   "cell_type": "code",
   "execution_count": 81,
   "id": "c1dde6cf",
   "metadata": {},
   "outputs": [
    {
     "data": {
      "text/html": [
       "<div>\n",
       "<style scoped>\n",
       "    .dataframe tbody tr th:only-of-type {\n",
       "        vertical-align: middle;\n",
       "    }\n",
       "\n",
       "    .dataframe tbody tr th {\n",
       "        vertical-align: top;\n",
       "    }\n",
       "\n",
       "    .dataframe thead th {\n",
       "        text-align: right;\n",
       "    }\n",
       "</style>\n",
       "<table border=\"1\" class=\"dataframe\">\n",
       "  <thead>\n",
       "    <tr style=\"text-align: right;\">\n",
       "      <th></th>\n",
       "      <th>0</th>\n",
       "    </tr>\n",
       "  </thead>\n",
       "  <tbody>\n",
       "    <tr>\n",
       "      <th>count</th>\n",
       "      <td>8648.000000</td>\n",
       "    </tr>\n",
       "    <tr>\n",
       "      <th>mean</th>\n",
       "      <td>0.076508</td>\n",
       "    </tr>\n",
       "    <tr>\n",
       "      <th>std</th>\n",
       "      <td>0.052007</td>\n",
       "    </tr>\n",
       "    <tr>\n",
       "      <th>min</th>\n",
       "      <td>0.000000</td>\n",
       "    </tr>\n",
       "    <tr>\n",
       "      <th>25%</th>\n",
       "      <td>0.000000</td>\n",
       "    </tr>\n",
       "    <tr>\n",
       "      <th>50%</th>\n",
       "      <td>0.093511</td>\n",
       "    </tr>\n",
       "    <tr>\n",
       "      <th>75%</th>\n",
       "      <td>0.116846</td>\n",
       "    </tr>\n",
       "    <tr>\n",
       "      <th>max</th>\n",
       "      <td>0.236973</td>\n",
       "    </tr>\n",
       "  </tbody>\n",
       "</table>\n",
       "</div>"
      ],
      "text/plain": [
       "                 0\n",
       "count  8648.000000\n",
       "mean      0.076508\n",
       "std       0.052007\n",
       "min       0.000000\n",
       "25%       0.000000\n",
       "50%       0.093511\n",
       "75%       0.116846\n",
       "max       0.236973"
      ]
     },
     "execution_count": 81,
     "metadata": {},
     "output_type": "execute_result"
    }
   ],
   "source": [
    "pd.DataFrame(y_hat_test_lgd).describe()"
   ]
  },
  {
   "cell_type": "markdown",
   "id": "d43b1a7b",
   "metadata": {},
   "source": [
    "## EAD Model"
   ]
  },
  {
   "cell_type": "markdown",
   "id": "7ab4bd81",
   "metadata": {},
   "source": [
    "### Estimation and Interpretation"
   ]
  },
  {
   "cell_type": "code",
   "execution_count": 82,
   "id": "922d5f87",
   "metadata": {},
   "outputs": [],
   "source": [
    "ead_inputs_train, ead_inputs_test, ead_targets_train, ead_targets_test = train_test_split(loan_data_defaults.drop(['good_bad', 'recovery_rate', 'recovery_rate_0_1', 'ccf'], axis = 1), loan_data_defaults['ccf'], test_size = 0.2, random_state = 42)"
   ]
  },
  {
   "cell_type": "code",
   "execution_count": 83,
   "id": "fe30b676",
   "metadata": {},
   "outputs": [
    {
     "data": {
      "text/plain": [
       "array(['id', 'member_id', 'loan_amnt', 'funded_amnt', 'funded_amnt_inv',\n",
       "       'term', 'int_rate', 'installment', 'grade', 'sub_grade',\n",
       "       'emp_title', 'emp_length', 'home_ownership', 'annual_inc',\n",
       "       'verification_status', 'issue_d', 'loan_status', 'pymnt_plan',\n",
       "       'url', 'desc', 'purpose', 'title', 'zip_code', 'addr_state', 'dti',\n",
       "       'delinq_2yrs', 'earliest_cr_line', 'inq_last_6mths',\n",
       "       'mths_since_last_delinq', 'mths_since_last_record', 'open_acc',\n",
       "       'pub_rec', 'revol_bal', 'revol_util', 'total_acc',\n",
       "       'initial_list_status', 'out_prncp', 'out_prncp_inv', 'total_pymnt',\n",
       "       'total_pymnt_inv', 'total_rec_prncp', 'total_rec_int',\n",
       "       'total_rec_late_fee', 'recoveries', 'collection_recovery_fee',\n",
       "       'last_pymnt_d', 'last_pymnt_amnt', 'next_pymnt_d',\n",
       "       'last_credit_pull_d', 'collections_12_mths_ex_med',\n",
       "       'mths_since_last_major_derog', 'policy_code', 'application_type',\n",
       "       'annual_inc_joint', 'dti_joint', 'verification_status_joint',\n",
       "       'acc_now_delinq', 'tot_coll_amt', 'tot_cur_bal', 'open_acc_6m',\n",
       "       'open_il_6m', 'open_il_12m', 'open_il_24m', 'mths_since_rcnt_il',\n",
       "       'total_bal_il', 'il_util', 'open_rv_12m', 'open_rv_24m',\n",
       "       'max_bal_bc', 'all_util', 'total_rev_hi_lim', 'inq_fi',\n",
       "       'total_cu_tl', 'inq_last_12m', 'emp_length_int',\n",
       "       'earliest_cr_line_date', 'mths_since_earliest_cr_line', 'term_int',\n",
       "       'issue_d_date', 'mths_since_issue_d', 'grade:A', 'grade:B',\n",
       "       'grade:C', 'grade:D', 'grade:E', 'grade:F', 'grade:G',\n",
       "       'sub_grade:A1', 'sub_grade:A2', 'sub_grade:A3', 'sub_grade:A4',\n",
       "       'sub_grade:A5', 'sub_grade:B1', 'sub_grade:B2', 'sub_grade:B3',\n",
       "       'sub_grade:B4', 'sub_grade:B5', 'sub_grade:C1', 'sub_grade:C2',\n",
       "       'sub_grade:C3', 'sub_grade:C4', 'sub_grade:C5', 'sub_grade:D1',\n",
       "       'sub_grade:D2', 'sub_grade:D3', 'sub_grade:D4', 'sub_grade:D5',\n",
       "       'sub_grade:E1', 'sub_grade:E2', 'sub_grade:E3', 'sub_grade:E4',\n",
       "       'sub_grade:E5', 'sub_grade:F1', 'sub_grade:F2', 'sub_grade:F3',\n",
       "       'sub_grade:F4', 'sub_grade:F5', 'sub_grade:G1', 'sub_grade:G2',\n",
       "       'sub_grade:G3', 'sub_grade:G4', 'sub_grade:G5',\n",
       "       'home_ownership:ANY', 'home_ownership:MORTGAGE',\n",
       "       'home_ownership:NONE', 'home_ownership:OTHER',\n",
       "       'home_ownership:OWN', 'home_ownership:RENT',\n",
       "       'verification_status:Not Verified',\n",
       "       'verification_status:Source Verified',\n",
       "       'verification_status:Verified', 'loan_status:Charged Off',\n",
       "       'loan_status:Current', 'loan_status:Default',\n",
       "       'loan_status:Does not meet the credit policy. Status:Charged Off',\n",
       "       'loan_status:Does not meet the credit policy. Status:Fully Paid',\n",
       "       'loan_status:Fully Paid', 'loan_status:In Grace Period',\n",
       "       'loan_status:Late (16-30 days)', 'loan_status:Late (31-120 days)',\n",
       "       'purpose:car', 'purpose:credit_card', 'purpose:debt_consolidation',\n",
       "       'purpose:educational', 'purpose:home_improvement', 'purpose:house',\n",
       "       'purpose:major_purchase', 'purpose:medical', 'purpose:moving',\n",
       "       'purpose:other', 'purpose:renewable_energy',\n",
       "       'purpose:small_business', 'purpose:vacation', 'purpose:wedding',\n",
       "       'addr_state:AK', 'addr_state:AL', 'addr_state:AR', 'addr_state:AZ',\n",
       "       'addr_state:CA', 'addr_state:CO', 'addr_state:CT', 'addr_state:DC',\n",
       "       'addr_state:DE', 'addr_state:FL', 'addr_state:GA', 'addr_state:HI',\n",
       "       'addr_state:IA', 'addr_state:ID', 'addr_state:IL', 'addr_state:IN',\n",
       "       'addr_state:KS', 'addr_state:KY', 'addr_state:LA', 'addr_state:MA',\n",
       "       'addr_state:MD', 'addr_state:ME', 'addr_state:MI', 'addr_state:MN',\n",
       "       'addr_state:MO', 'addr_state:MS', 'addr_state:MT', 'addr_state:NC',\n",
       "       'addr_state:NE', 'addr_state:NH', 'addr_state:NJ', 'addr_state:NM',\n",
       "       'addr_state:NV', 'addr_state:NY', 'addr_state:OH', 'addr_state:OK',\n",
       "       'addr_state:OR', 'addr_state:PA', 'addr_state:RI', 'addr_state:SC',\n",
       "       'addr_state:SD', 'addr_state:TN', 'addr_state:TX', 'addr_state:UT',\n",
       "       'addr_state:VA', 'addr_state:VT', 'addr_state:WA', 'addr_state:WI',\n",
       "       'addr_state:WV', 'addr_state:WY', 'initial_list_status:f',\n",
       "       'initial_list_status:w'], dtype=object)"
      ]
     },
     "execution_count": 83,
     "metadata": {},
     "output_type": "execute_result"
    }
   ],
   "source": [
    "ead_inputs_train.columns.values"
   ]
  },
  {
   "cell_type": "code",
   "execution_count": 84,
   "id": "1650990b",
   "metadata": {},
   "outputs": [],
   "source": [
    "ead_inputs_train = ead_inputs_train[features_all]"
   ]
  },
  {
   "cell_type": "code",
   "execution_count": 85,
   "id": "a8f34f0b",
   "metadata": {},
   "outputs": [],
   "source": [
    "ead_inputs_train = ead_inputs_train.drop(features_reference_cat, axis = 1)"
   ]
  },
  {
   "cell_type": "code",
   "execution_count": 86,
   "id": "326363c0",
   "metadata": {},
   "outputs": [
    {
     "name": "stderr",
     "output_type": "stream",
     "text": [
      "/Users/fernandoemirgarade/opt/anaconda3/envs/ibk_env/lib/python3.10/site-packages/sklearn/linear_model/_base.py:148: FutureWarning: 'normalize' was deprecated in version 1.0 and will be removed in 1.2. Please leave the normalize parameter to its default value to silence this warning. The default behavior of this estimator is to not do any normalization. If normalization is needed please use sklearn.preprocessing.StandardScaler instead.\n",
      "  warnings.warn(\n"
     ]
    },
    {
     "data": {
      "text/html": [
       "<style>#sk-container-id-2 {color: black;background-color: white;}#sk-container-id-2 pre{padding: 0;}#sk-container-id-2 div.sk-toggleable {background-color: white;}#sk-container-id-2 label.sk-toggleable__label {cursor: pointer;display: block;width: 100%;margin-bottom: 0;padding: 0.3em;box-sizing: border-box;text-align: center;}#sk-container-id-2 label.sk-toggleable__label-arrow:before {content: \"▸\";float: left;margin-right: 0.25em;color: #696969;}#sk-container-id-2 label.sk-toggleable__label-arrow:hover:before {color: black;}#sk-container-id-2 div.sk-estimator:hover label.sk-toggleable__label-arrow:before {color: black;}#sk-container-id-2 div.sk-toggleable__content {max-height: 0;max-width: 0;overflow: hidden;text-align: left;background-color: #f0f8ff;}#sk-container-id-2 div.sk-toggleable__content pre {margin: 0.2em;color: black;border-radius: 0.25em;background-color: #f0f8ff;}#sk-container-id-2 input.sk-toggleable__control:checked~div.sk-toggleable__content {max-height: 200px;max-width: 100%;overflow: auto;}#sk-container-id-2 input.sk-toggleable__control:checked~label.sk-toggleable__label-arrow:before {content: \"▾\";}#sk-container-id-2 div.sk-estimator input.sk-toggleable__control:checked~label.sk-toggleable__label {background-color: #d4ebff;}#sk-container-id-2 div.sk-label input.sk-toggleable__control:checked~label.sk-toggleable__label {background-color: #d4ebff;}#sk-container-id-2 input.sk-hidden--visually {border: 0;clip: rect(1px 1px 1px 1px);clip: rect(1px, 1px, 1px, 1px);height: 1px;margin: -1px;overflow: hidden;padding: 0;position: absolute;width: 1px;}#sk-container-id-2 div.sk-estimator {font-family: monospace;background-color: #f0f8ff;border: 1px dotted black;border-radius: 0.25em;box-sizing: border-box;margin-bottom: 0.5em;}#sk-container-id-2 div.sk-estimator:hover {background-color: #d4ebff;}#sk-container-id-2 div.sk-parallel-item::after {content: \"\";width: 100%;border-bottom: 1px solid gray;flex-grow: 1;}#sk-container-id-2 div.sk-label:hover label.sk-toggleable__label {background-color: #d4ebff;}#sk-container-id-2 div.sk-serial::before {content: \"\";position: absolute;border-left: 1px solid gray;box-sizing: border-box;top: 0;bottom: 0;left: 50%;z-index: 0;}#sk-container-id-2 div.sk-serial {display: flex;flex-direction: column;align-items: center;background-color: white;padding-right: 0.2em;padding-left: 0.2em;position: relative;}#sk-container-id-2 div.sk-item {position: relative;z-index: 1;}#sk-container-id-2 div.sk-parallel {display: flex;align-items: stretch;justify-content: center;background-color: white;position: relative;}#sk-container-id-2 div.sk-item::before, #sk-container-id-2 div.sk-parallel-item::before {content: \"\";position: absolute;border-left: 1px solid gray;box-sizing: border-box;top: 0;bottom: 0;left: 50%;z-index: -1;}#sk-container-id-2 div.sk-parallel-item {display: flex;flex-direction: column;z-index: 1;position: relative;background-color: white;}#sk-container-id-2 div.sk-parallel-item:first-child::after {align-self: flex-end;width: 50%;}#sk-container-id-2 div.sk-parallel-item:last-child::after {align-self: flex-start;width: 50%;}#sk-container-id-2 div.sk-parallel-item:only-child::after {width: 0;}#sk-container-id-2 div.sk-dashed-wrapped {border: 1px dashed gray;margin: 0 0.4em 0.5em 0.4em;box-sizing: border-box;padding-bottom: 0.4em;background-color: white;}#sk-container-id-2 div.sk-label label {font-family: monospace;font-weight: bold;display: inline-block;line-height: 1.2em;}#sk-container-id-2 div.sk-label-container {text-align: center;}#sk-container-id-2 div.sk-container {/* jupyter's `normalize.less` sets `[hidden] { display: none; }` but bootstrap.min.css set `[hidden] { display: none !important; }` so we also need the `!important` here to be able to override the default hidden behavior on the sphinx rendered scikit-learn.org. See: https://github.com/scikit-learn/scikit-learn/issues/21755 */display: inline-block !important;position: relative;}#sk-container-id-2 div.sk-text-repr-fallback {display: none;}</style><div id=\"sk-container-id-2\" class=\"sk-top-container\"><div class=\"sk-text-repr-fallback\"><pre>LinearRegression()</pre><b>In a Jupyter environment, please rerun this cell to show the HTML representation or trust the notebook. <br />On GitHub, the HTML representation is unable to render, please try loading this page with nbviewer.org.</b></div><div class=\"sk-container\" hidden><div class=\"sk-item\"><div class=\"sk-estimator sk-toggleable\"><input class=\"sk-toggleable__control sk-hidden--visually\" id=\"sk-estimator-id-2\" type=\"checkbox\" checked><label for=\"sk-estimator-id-2\" class=\"sk-toggleable__label sk-toggleable__label-arrow\">LinearRegression</label><div class=\"sk-toggleable__content\"><pre>LinearRegression()</pre></div></div></div></div></div>"
      ],
      "text/plain": [
       "LinearRegression()"
      ]
     },
     "execution_count": 86,
     "metadata": {},
     "output_type": "execute_result"
    }
   ],
   "source": [
    "reg_ead = LinearRegression()\n",
    "reg_ead.fit(ead_inputs_train, ead_targets_train)"
   ]
  },
  {
   "cell_type": "code",
   "execution_count": 87,
   "id": "a6e1603f-4047-4601-aebc-6c73f3f5dbc6",
   "metadata": {},
   "outputs": [],
   "source": [
    "pickle.dump(reg_ead, open('reg_ead.sav', 'wb'))"
   ]
  },
  {
   "cell_type": "code",
   "execution_count": 121,
   "id": "0292b5cf",
   "metadata": {},
   "outputs": [],
   "source": [
    "feature_name = ead_inputs_train.columns.values"
   ]
  },
  {
   "cell_type": "code",
   "execution_count": 122,
   "id": "049771e6",
   "metadata": {},
   "outputs": [
    {
     "data": {
      "text/html": [
       "<div>\n",
       "<style scoped>\n",
       "    .dataframe tbody tr th:only-of-type {\n",
       "        vertical-align: middle;\n",
       "    }\n",
       "\n",
       "    .dataframe tbody tr th {\n",
       "        vertical-align: top;\n",
       "    }\n",
       "\n",
       "    .dataframe thead th {\n",
       "        text-align: right;\n",
       "    }\n",
       "</style>\n",
       "<table border=\"1\" class=\"dataframe\">\n",
       "  <thead>\n",
       "    <tr style=\"text-align: right;\">\n",
       "      <th></th>\n",
       "      <th>Feature name</th>\n",
       "      <th>Coefficients</th>\n",
       "      <th>p_values</th>\n",
       "    </tr>\n",
       "  </thead>\n",
       "  <tbody>\n",
       "    <tr>\n",
       "      <th>0</th>\n",
       "      <td>Intercept</td>\n",
       "      <td>1.109746e+00</td>\n",
       "      <td>NaN</td>\n",
       "    </tr>\n",
       "    <tr>\n",
       "      <th>1</th>\n",
       "      <td>grade:A</td>\n",
       "      <td>-3.030033e-01</td>\n",
       "      <td>0.000000e+00</td>\n",
       "    </tr>\n",
       "    <tr>\n",
       "      <th>2</th>\n",
       "      <td>grade:B</td>\n",
       "      <td>-2.364277e-01</td>\n",
       "      <td>0.000000e+00</td>\n",
       "    </tr>\n",
       "    <tr>\n",
       "      <th>3</th>\n",
       "      <td>grade:C</td>\n",
       "      <td>-1.720232e-01</td>\n",
       "      <td>0.000000e+00</td>\n",
       "    </tr>\n",
       "    <tr>\n",
       "      <th>4</th>\n",
       "      <td>grade:D</td>\n",
       "      <td>-1.198470e-01</td>\n",
       "      <td>0.000000e+00</td>\n",
       "    </tr>\n",
       "    <tr>\n",
       "      <th>5</th>\n",
       "      <td>grade:E</td>\n",
       "      <td>-6.768713e-02</td>\n",
       "      <td>0.000000e+00</td>\n",
       "    </tr>\n",
       "    <tr>\n",
       "      <th>6</th>\n",
       "      <td>grade:F</td>\n",
       "      <td>-2.045907e-02</td>\n",
       "      <td>4.428795e-03</td>\n",
       "    </tr>\n",
       "    <tr>\n",
       "      <th>7</th>\n",
       "      <td>home_ownership:MORTGAGE</td>\n",
       "      <td>-6.343341e-03</td>\n",
       "      <td>2.632464e-03</td>\n",
       "    </tr>\n",
       "    <tr>\n",
       "      <th>8</th>\n",
       "      <td>home_ownership:NONE</td>\n",
       "      <td>-5.539064e-03</td>\n",
       "      <td>9.318931e-01</td>\n",
       "    </tr>\n",
       "    <tr>\n",
       "      <th>9</th>\n",
       "      <td>home_ownership:OTHER</td>\n",
       "      <td>-2.426052e-03</td>\n",
       "      <td>9.335820e-01</td>\n",
       "    </tr>\n",
       "    <tr>\n",
       "      <th>10</th>\n",
       "      <td>home_ownership:OWN</td>\n",
       "      <td>-1.619582e-03</td>\n",
       "      <td>6.366112e-01</td>\n",
       "    </tr>\n",
       "    <tr>\n",
       "      <th>11</th>\n",
       "      <td>verification_status:Not Verified</td>\n",
       "      <td>5.339510e-05</td>\n",
       "      <td>9.828295e-01</td>\n",
       "    </tr>\n",
       "    <tr>\n",
       "      <th>12</th>\n",
       "      <td>verification_status:Source Verified</td>\n",
       "      <td>8.967822e-03</td>\n",
       "      <td>7.828941e-05</td>\n",
       "    </tr>\n",
       "    <tr>\n",
       "      <th>13</th>\n",
       "      <td>purpose:car</td>\n",
       "      <td>7.904787e-04</td>\n",
       "      <td>9.330252e-01</td>\n",
       "    </tr>\n",
       "    <tr>\n",
       "      <th>14</th>\n",
       "      <td>purpose:debt_consolidation</td>\n",
       "      <td>1.264922e-02</td>\n",
       "      <td>5.898438e-07</td>\n",
       "    </tr>\n",
       "    <tr>\n",
       "      <th>15</th>\n",
       "      <td>purpose:educational</td>\n",
       "      <td>9.643587e-02</td>\n",
       "      <td>1.801025e-06</td>\n",
       "    </tr>\n",
       "    <tr>\n",
       "      <th>16</th>\n",
       "      <td>purpose:home_improvement</td>\n",
       "      <td>1.923044e-02</td>\n",
       "      <td>4.873543e-05</td>\n",
       "    </tr>\n",
       "    <tr>\n",
       "      <th>17</th>\n",
       "      <td>purpose:house</td>\n",
       "      <td>1.607120e-02</td>\n",
       "      <td>1.653651e-01</td>\n",
       "    </tr>\n",
       "    <tr>\n",
       "      <th>18</th>\n",
       "      <td>purpose:major_purchase</td>\n",
       "      <td>2.984917e-02</td>\n",
       "      <td>2.197793e-05</td>\n",
       "    </tr>\n",
       "    <tr>\n",
       "      <th>19</th>\n",
       "      <td>purpose:medical</td>\n",
       "      <td>3.962479e-02</td>\n",
       "      <td>5.238263e-06</td>\n",
       "    </tr>\n",
       "    <tr>\n",
       "      <th>20</th>\n",
       "      <td>purpose:moving</td>\n",
       "      <td>4.577630e-02</td>\n",
       "      <td>2.987383e-06</td>\n",
       "    </tr>\n",
       "    <tr>\n",
       "      <th>21</th>\n",
       "      <td>purpose:other</td>\n",
       "      <td>3.706744e-02</td>\n",
       "      <td>0.000000e+00</td>\n",
       "    </tr>\n",
       "    <tr>\n",
       "      <th>22</th>\n",
       "      <td>purpose:renewable_energy</td>\n",
       "      <td>7.212969e-02</td>\n",
       "      <td>8.889877e-03</td>\n",
       "    </tr>\n",
       "    <tr>\n",
       "      <th>23</th>\n",
       "      <td>purpose:small_business</td>\n",
       "      <td>5.128674e-02</td>\n",
       "      <td>0.000000e+00</td>\n",
       "    </tr>\n",
       "    <tr>\n",
       "      <th>24</th>\n",
       "      <td>purpose:vacation</td>\n",
       "      <td>1.874863e-02</td>\n",
       "      <td>1.152702e-01</td>\n",
       "    </tr>\n",
       "    <tr>\n",
       "      <th>25</th>\n",
       "      <td>purpose:wedding</td>\n",
       "      <td>4.350522e-02</td>\n",
       "      <td>2.032121e-04</td>\n",
       "    </tr>\n",
       "    <tr>\n",
       "      <th>26</th>\n",
       "      <td>initial_list_status:w</td>\n",
       "      <td>1.318126e-02</td>\n",
       "      <td>6.115181e-09</td>\n",
       "    </tr>\n",
       "    <tr>\n",
       "      <th>27</th>\n",
       "      <td>term_int</td>\n",
       "      <td>4.551882e-03</td>\n",
       "      <td>0.000000e+00</td>\n",
       "    </tr>\n",
       "    <tr>\n",
       "      <th>28</th>\n",
       "      <td>emp_length_int</td>\n",
       "      <td>-1.591478e-03</td>\n",
       "      <td>4.404626e-10</td>\n",
       "    </tr>\n",
       "    <tr>\n",
       "      <th>29</th>\n",
       "      <td>mths_since_issue_d</td>\n",
       "      <td>-4.305274e-03</td>\n",
       "      <td>0.000000e+00</td>\n",
       "    </tr>\n",
       "    <tr>\n",
       "      <th>30</th>\n",
       "      <td>mths_since_earliest_cr_line</td>\n",
       "      <td>-3.634030e-05</td>\n",
       "      <td>2.742071e-03</td>\n",
       "    </tr>\n",
       "    <tr>\n",
       "      <th>31</th>\n",
       "      <td>funded_amnt</td>\n",
       "      <td>2.212126e-06</td>\n",
       "      <td>7.225181e-03</td>\n",
       "    </tr>\n",
       "    <tr>\n",
       "      <th>32</th>\n",
       "      <td>int_rate</td>\n",
       "      <td>-1.172652e-02</td>\n",
       "      <td>0.000000e+00</td>\n",
       "    </tr>\n",
       "    <tr>\n",
       "      <th>33</th>\n",
       "      <td>installment</td>\n",
       "      <td>-6.865607e-05</td>\n",
       "      <td>7.429261e-03</td>\n",
       "    </tr>\n",
       "    <tr>\n",
       "      <th>34</th>\n",
       "      <td>annual_inc</td>\n",
       "      <td>5.021816e-09</td>\n",
       "      <td>8.574696e-01</td>\n",
       "    </tr>\n",
       "    <tr>\n",
       "      <th>35</th>\n",
       "      <td>dti</td>\n",
       "      <td>2.832769e-04</td>\n",
       "      <td>3.632507e-02</td>\n",
       "    </tr>\n",
       "    <tr>\n",
       "      <th>36</th>\n",
       "      <td>delinq_2yrs</td>\n",
       "      <td>4.833234e-04</td>\n",
       "      <td>6.946456e-01</td>\n",
       "    </tr>\n",
       "    <tr>\n",
       "      <th>37</th>\n",
       "      <td>inq_last_6mths</td>\n",
       "      <td>1.131678e-02</td>\n",
       "      <td>0.000000e+00</td>\n",
       "    </tr>\n",
       "    <tr>\n",
       "      <th>38</th>\n",
       "      <td>mths_since_last_delinq</td>\n",
       "      <td>-1.965980e-04</td>\n",
       "      <td>3.220434e-06</td>\n",
       "    </tr>\n",
       "    <tr>\n",
       "      <th>39</th>\n",
       "      <td>mths_since_last_record</td>\n",
       "      <td>-5.085639e-05</td>\n",
       "      <td>3.291896e-01</td>\n",
       "    </tr>\n",
       "    <tr>\n",
       "      <th>40</th>\n",
       "      <td>open_acc</td>\n",
       "      <td>-2.142130e-03</td>\n",
       "      <td>4.218847e-15</td>\n",
       "    </tr>\n",
       "    <tr>\n",
       "      <th>41</th>\n",
       "      <td>pub_rec</td>\n",
       "      <td>6.782062e-03</td>\n",
       "      <td>4.252750e-02</td>\n",
       "    </tr>\n",
       "    <tr>\n",
       "      <th>42</th>\n",
       "      <td>total_acc</td>\n",
       "      <td>4.518110e-04</td>\n",
       "      <td>1.902931e-04</td>\n",
       "    </tr>\n",
       "    <tr>\n",
       "      <th>43</th>\n",
       "      <td>acc_now_delinq</td>\n",
       "      <td>9.974801e-03</td>\n",
       "      <td>5.012787e-01</td>\n",
       "    </tr>\n",
       "    <tr>\n",
       "      <th>44</th>\n",
       "      <td>total_rev_hi_lim</td>\n",
       "      <td>2.166527e-07</td>\n",
       "      <td>8.196014e-05</td>\n",
       "    </tr>\n",
       "  </tbody>\n",
       "</table>\n",
       "</div>"
      ],
      "text/plain": [
       "                           Feature name  Coefficients      p_values\n",
       "0                             Intercept  1.109746e+00           NaN\n",
       "1                               grade:A -3.030033e-01  0.000000e+00\n",
       "2                               grade:B -2.364277e-01  0.000000e+00\n",
       "3                               grade:C -1.720232e-01  0.000000e+00\n",
       "4                               grade:D -1.198470e-01  0.000000e+00\n",
       "5                               grade:E -6.768713e-02  0.000000e+00\n",
       "6                               grade:F -2.045907e-02  4.428795e-03\n",
       "7               home_ownership:MORTGAGE -6.343341e-03  2.632464e-03\n",
       "8                   home_ownership:NONE -5.539064e-03  9.318931e-01\n",
       "9                  home_ownership:OTHER -2.426052e-03  9.335820e-01\n",
       "10                   home_ownership:OWN -1.619582e-03  6.366112e-01\n",
       "11     verification_status:Not Verified  5.339510e-05  9.828295e-01\n",
       "12  verification_status:Source Verified  8.967822e-03  7.828941e-05\n",
       "13                          purpose:car  7.904787e-04  9.330252e-01\n",
       "14           purpose:debt_consolidation  1.264922e-02  5.898438e-07\n",
       "15                  purpose:educational  9.643587e-02  1.801025e-06\n",
       "16             purpose:home_improvement  1.923044e-02  4.873543e-05\n",
       "17                        purpose:house  1.607120e-02  1.653651e-01\n",
       "18               purpose:major_purchase  2.984917e-02  2.197793e-05\n",
       "19                      purpose:medical  3.962479e-02  5.238263e-06\n",
       "20                       purpose:moving  4.577630e-02  2.987383e-06\n",
       "21                        purpose:other  3.706744e-02  0.000000e+00\n",
       "22             purpose:renewable_energy  7.212969e-02  8.889877e-03\n",
       "23               purpose:small_business  5.128674e-02  0.000000e+00\n",
       "24                     purpose:vacation  1.874863e-02  1.152702e-01\n",
       "25                      purpose:wedding  4.350522e-02  2.032121e-04\n",
       "26                initial_list_status:w  1.318126e-02  6.115181e-09\n",
       "27                             term_int  4.551882e-03  0.000000e+00\n",
       "28                       emp_length_int -1.591478e-03  4.404626e-10\n",
       "29                   mths_since_issue_d -4.305274e-03  0.000000e+00\n",
       "30          mths_since_earliest_cr_line -3.634030e-05  2.742071e-03\n",
       "31                          funded_amnt  2.212126e-06  7.225181e-03\n",
       "32                             int_rate -1.172652e-02  0.000000e+00\n",
       "33                          installment -6.865607e-05  7.429261e-03\n",
       "34                           annual_inc  5.021816e-09  8.574696e-01\n",
       "35                                  dti  2.832769e-04  3.632507e-02\n",
       "36                          delinq_2yrs  4.833234e-04  6.946456e-01\n",
       "37                       inq_last_6mths  1.131678e-02  0.000000e+00\n",
       "38               mths_since_last_delinq -1.965980e-04  3.220434e-06\n",
       "39               mths_since_last_record -5.085639e-05  3.291896e-01\n",
       "40                             open_acc -2.142130e-03  4.218847e-15\n",
       "41                              pub_rec  6.782062e-03  4.252750e-02\n",
       "42                            total_acc  4.518110e-04  1.902931e-04\n",
       "43                       acc_now_delinq  9.974801e-03  5.012787e-01\n",
       "44                     total_rev_hi_lim  2.166527e-07  8.196014e-05"
      ]
     },
     "execution_count": 122,
     "metadata": {},
     "output_type": "execute_result"
    }
   ],
   "source": [
    "summary_table = pd.DataFrame(columns = ['Feature name'], data = feature_name)\n",
    "summary_table['Coefficients'] = np.transpose(reg_ead.coef_)\n",
    "summary_table.index = summary_table.index + 1\n",
    "summary_table.loc[0] = ['Intercept', reg_ead.intercept_]\n",
    "summary_table = summary_table.sort_index()\n",
    "p_values = reg_ead.p\n",
    "p_values = np.append(np.nan,np.array(p_values))\n",
    "summary_table['p_values'] = p_values\n",
    "summary_table"
   ]
  },
  {
   "cell_type": "markdown",
   "id": "54ae3269",
   "metadata": {},
   "source": [
    "### Model Validation"
   ]
  },
  {
   "cell_type": "code",
   "execution_count": 123,
   "id": "d1dad5a3",
   "metadata": {},
   "outputs": [],
   "source": [
    "ead_inputs_test = ead_inputs_test[features_all]"
   ]
  },
  {
   "cell_type": "code",
   "execution_count": 124,
   "id": "49aee4cb",
   "metadata": {},
   "outputs": [],
   "source": [
    "ead_inputs_test = ead_inputs_test.drop(features_reference_cat, axis = 1)"
   ]
  },
  {
   "cell_type": "code",
   "execution_count": 125,
   "id": "e6952706",
   "metadata": {},
   "outputs": [],
   "source": [
    "y_hat_test_ead = reg_ead.predict(ead_inputs_test)"
   ]
  },
  {
   "cell_type": "code",
   "execution_count": 126,
   "id": "5215011d",
   "metadata": {},
   "outputs": [],
   "source": [
    "ead_targets_test_temp = ead_targets_test"
   ]
  },
  {
   "cell_type": "code",
   "execution_count": 127,
   "id": "bf302d5f",
   "metadata": {},
   "outputs": [],
   "source": [
    "ead_targets_test_temp = ead_targets_test_temp.reset_index(drop = True)"
   ]
  },
  {
   "cell_type": "code",
   "execution_count": 128,
   "id": "cf30df43",
   "metadata": {},
   "outputs": [
    {
     "data": {
      "text/html": [
       "<div>\n",
       "<style scoped>\n",
       "    .dataframe tbody tr th:only-of-type {\n",
       "        vertical-align: middle;\n",
       "    }\n",
       "\n",
       "    .dataframe tbody tr th {\n",
       "        vertical-align: top;\n",
       "    }\n",
       "\n",
       "    .dataframe thead th {\n",
       "        text-align: right;\n",
       "    }\n",
       "</style>\n",
       "<table border=\"1\" class=\"dataframe\">\n",
       "  <thead>\n",
       "    <tr style=\"text-align: right;\">\n",
       "      <th></th>\n",
       "      <th>ccf</th>\n",
       "      <th>0</th>\n",
       "    </tr>\n",
       "  </thead>\n",
       "  <tbody>\n",
       "    <tr>\n",
       "      <th>ccf</th>\n",
       "      <td>1.000000</td>\n",
       "      <td>0.530654</td>\n",
       "    </tr>\n",
       "    <tr>\n",
       "      <th>0</th>\n",
       "      <td>0.530654</td>\n",
       "      <td>1.000000</td>\n",
       "    </tr>\n",
       "  </tbody>\n",
       "</table>\n",
       "</div>"
      ],
      "text/plain": [
       "          ccf         0\n",
       "ccf  1.000000  0.530654\n",
       "0    0.530654  1.000000"
      ]
     },
     "execution_count": 128,
     "metadata": {},
     "output_type": "execute_result"
    }
   ],
   "source": [
    "pd.concat([ead_targets_test_temp, pd.DataFrame(y_hat_test_ead)], axis = 1).corr()"
   ]
  },
  {
   "cell_type": "code",
   "execution_count": 129,
   "id": "39448e09",
   "metadata": {},
   "outputs": [
    {
     "name": "stderr",
     "output_type": "stream",
     "text": [
      "/Users/fernando.garade/opt/anaconda3/envs/credit_risk/lib/python3.10/site-packages/seaborn/distributions.py:2619: FutureWarning: `distplot` is a deprecated function and will be removed in a future version. Please adapt your code to use either `displot` (a figure-level function with similar flexibility) or `histplot` (an axes-level function for histograms).\n",
      "  warnings.warn(msg, FutureWarning)\n"
     ]
    },
    {
     "data": {
      "text/plain": [
       "<AxesSubplot:xlabel='ccf', ylabel='Density'>"
      ]
     },
     "execution_count": 129,
     "metadata": {},
     "output_type": "execute_result"
    },
    {
     "data": {
      "image/png": "[encoded data removed]",
      "text/plain": [
       "<Figure size 432x288 with 1 Axes>"
      ]
     },
     "metadata": {},
     "output_type": "display_data"
    }
   ],
   "source": [
    "sns.distplot(ead_targets_test - y_hat_test_ead)"
   ]
  },
  {
   "cell_type": "code",
   "execution_count": 130,
   "id": "6855d030",
   "metadata": {},
   "outputs": [
    {
     "data": {
      "text/html": [
       "<div>\n",
       "<style scoped>\n",
       "    .dataframe tbody tr th:only-of-type {\n",
       "        vertical-align: middle;\n",
       "    }\n",
       "\n",
       "    .dataframe tbody tr th {\n",
       "        vertical-align: top;\n",
       "    }\n",
       "\n",
       "    .dataframe thead th {\n",
       "        text-align: right;\n",
       "    }\n",
       "</style>\n",
       "<table border=\"1\" class=\"dataframe\">\n",
       "  <thead>\n",
       "    <tr style=\"text-align: right;\">\n",
       "      <th></th>\n",
       "      <th>0</th>\n",
       "    </tr>\n",
       "  </thead>\n",
       "  <tbody>\n",
       "    <tr>\n",
       "      <th>count</th>\n",
       "      <td>8648.000000</td>\n",
       "    </tr>\n",
       "    <tr>\n",
       "      <th>mean</th>\n",
       "      <td>0.736013</td>\n",
       "    </tr>\n",
       "    <tr>\n",
       "      <th>std</th>\n",
       "      <td>0.105194</td>\n",
       "    </tr>\n",
       "    <tr>\n",
       "      <th>min</th>\n",
       "      <td>0.384774</td>\n",
       "    </tr>\n",
       "    <tr>\n",
       "      <th>25%</th>\n",
       "      <td>0.661553</td>\n",
       "    </tr>\n",
       "    <tr>\n",
       "      <th>50%</th>\n",
       "      <td>0.731750</td>\n",
       "    </tr>\n",
       "    <tr>\n",
       "      <th>75%</th>\n",
       "      <td>0.810625</td>\n",
       "    </tr>\n",
       "    <tr>\n",
       "      <th>max</th>\n",
       "      <td>1.161088</td>\n",
       "    </tr>\n",
       "  </tbody>\n",
       "</table>\n",
       "</div>"
      ],
      "text/plain": [
       "                 0\n",
       "count  8648.000000\n",
       "mean      0.736013\n",
       "std       0.105194\n",
       "min       0.384774\n",
       "25%       0.661553\n",
       "50%       0.731750\n",
       "75%       0.810625\n",
       "max       1.161088"
      ]
     },
     "execution_count": 130,
     "metadata": {},
     "output_type": "execute_result"
    }
   ],
   "source": [
    "pd.DataFrame(y_hat_test_ead).describe()"
   ]
  },
  {
   "cell_type": "code",
   "execution_count": 131,
   "id": "e616a2b6",
   "metadata": {},
   "outputs": [],
   "source": [
    "y_hat_test_ead = np.where(y_hat_test_ead < 0, 0, y_hat_test_ead)\n",
    "y_hat_test_ead = np.where(y_hat_test_ead > 1, 1, y_hat_test_ead)"
   ]
  },
  {
   "cell_type": "code",
   "execution_count": 132,
   "id": "e3693b91",
   "metadata": {},
   "outputs": [
    {
     "data": {
      "text/html": [
       "<div>\n",
       "<style scoped>\n",
       "    .dataframe tbody tr th:only-of-type {\n",
       "        vertical-align: middle;\n",
       "    }\n",
       "\n",
       "    .dataframe tbody tr th {\n",
       "        vertical-align: top;\n",
       "    }\n",
       "\n",
       "    .dataframe thead th {\n",
       "        text-align: right;\n",
       "    }\n",
       "</style>\n",
       "<table border=\"1\" class=\"dataframe\">\n",
       "  <thead>\n",
       "    <tr style=\"text-align: right;\">\n",
       "      <th></th>\n",
       "      <th>0</th>\n",
       "    </tr>\n",
       "  </thead>\n",
       "  <tbody>\n",
       "    <tr>\n",
       "      <th>count</th>\n",
       "      <td>8648.000000</td>\n",
       "    </tr>\n",
       "    <tr>\n",
       "      <th>mean</th>\n",
       "      <td>0.735992</td>\n",
       "    </tr>\n",
       "    <tr>\n",
       "      <th>std</th>\n",
       "      <td>0.105127</td>\n",
       "    </tr>\n",
       "    <tr>\n",
       "      <th>min</th>\n",
       "      <td>0.384774</td>\n",
       "    </tr>\n",
       "    <tr>\n",
       "      <th>25%</th>\n",
       "      <td>0.661553</td>\n",
       "    </tr>\n",
       "    <tr>\n",
       "      <th>50%</th>\n",
       "      <td>0.731750</td>\n",
       "    </tr>\n",
       "    <tr>\n",
       "      <th>75%</th>\n",
       "      <td>0.810625</td>\n",
       "    </tr>\n",
       "    <tr>\n",
       "      <th>max</th>\n",
       "      <td>1.000000</td>\n",
       "    </tr>\n",
       "  </tbody>\n",
       "</table>\n",
       "</div>"
      ],
      "text/plain": [
       "                 0\n",
       "count  8648.000000\n",
       "mean      0.735992\n",
       "std       0.105127\n",
       "min       0.384774\n",
       "25%       0.661553\n",
       "50%       0.731750\n",
       "75%       0.810625\n",
       "max       1.000000"
      ]
     },
     "execution_count": 132,
     "metadata": {},
     "output_type": "execute_result"
    }
   ],
   "source": [
    "pd.DataFrame(y_hat_test_ead).describe()"
   ]
  },
  {
   "cell_type": "markdown",
   "id": "965c3f5a",
   "metadata": {},
   "source": [
    "## Expected Loss"
   ]
  },
  {
   "cell_type": "code",
   "execution_count": 134,
   "id": "050c2b16",
   "metadata": {},
   "outputs": [
    {
     "data": {
      "text/html": [
       "<div>\n",
       "<style scoped>\n",
       "    .dataframe tbody tr th:only-of-type {\n",
       "        vertical-align: middle;\n",
       "    }\n",
       "\n",
       "    .dataframe tbody tr th {\n",
       "        vertical-align: top;\n",
       "    }\n",
       "\n",
       "    .dataframe thead th {\n",
       "        text-align: right;\n",
       "    }\n",
       "</style>\n",
       "<table border=\"1\" class=\"dataframe\">\n",
       "  <thead>\n",
       "    <tr style=\"text-align: right;\">\n",
       "      <th></th>\n",
       "      <th>id</th>\n",
       "      <th>member_id</th>\n",
       "      <th>loan_amnt</th>\n",
       "      <th>funded_amnt</th>\n",
       "      <th>funded_amnt_inv</th>\n",
       "      <th>term</th>\n",
       "      <th>int_rate</th>\n",
       "      <th>installment</th>\n",
       "      <th>grade</th>\n",
       "      <th>sub_grade</th>\n",
       "      <th>...</th>\n",
       "      <th>addr_state:UT</th>\n",
       "      <th>addr_state:VA</th>\n",
       "      <th>addr_state:VT</th>\n",
       "      <th>addr_state:WA</th>\n",
       "      <th>addr_state:WI</th>\n",
       "      <th>addr_state:WV</th>\n",
       "      <th>addr_state:WY</th>\n",
       "      <th>initial_list_status:f</th>\n",
       "      <th>initial_list_status:w</th>\n",
       "      <th>good_bad</th>\n",
       "    </tr>\n",
       "  </thead>\n",
       "  <tbody>\n",
       "    <tr>\n",
       "      <th>0</th>\n",
       "      <td>1077501</td>\n",
       "      <td>1296599</td>\n",
       "      <td>5000</td>\n",
       "      <td>5000</td>\n",
       "      <td>4975.0</td>\n",
       "      <td>36 months</td>\n",
       "      <td>10.65</td>\n",
       "      <td>162.87</td>\n",
       "      <td>B</td>\n",
       "      <td>B2</td>\n",
       "      <td>...</td>\n",
       "      <td>0</td>\n",
       "      <td>0</td>\n",
       "      <td>0</td>\n",
       "      <td>0</td>\n",
       "      <td>0</td>\n",
       "      <td>0</td>\n",
       "      <td>0</td>\n",
       "      <td>1</td>\n",
       "      <td>0</td>\n",
       "      <td>1</td>\n",
       "    </tr>\n",
       "    <tr>\n",
       "      <th>1</th>\n",
       "      <td>1077430</td>\n",
       "      <td>1314167</td>\n",
       "      <td>2500</td>\n",
       "      <td>2500</td>\n",
       "      <td>2500.0</td>\n",
       "      <td>60 months</td>\n",
       "      <td>15.27</td>\n",
       "      <td>59.83</td>\n",
       "      <td>C</td>\n",
       "      <td>C4</td>\n",
       "      <td>...</td>\n",
       "      <td>0</td>\n",
       "      <td>0</td>\n",
       "      <td>0</td>\n",
       "      <td>0</td>\n",
       "      <td>0</td>\n",
       "      <td>0</td>\n",
       "      <td>0</td>\n",
       "      <td>1</td>\n",
       "      <td>0</td>\n",
       "      <td>0</td>\n",
       "    </tr>\n",
       "    <tr>\n",
       "      <th>2</th>\n",
       "      <td>1077175</td>\n",
       "      <td>1313524</td>\n",
       "      <td>2400</td>\n",
       "      <td>2400</td>\n",
       "      <td>2400.0</td>\n",
       "      <td>36 months</td>\n",
       "      <td>15.96</td>\n",
       "      <td>84.33</td>\n",
       "      <td>C</td>\n",
       "      <td>C5</td>\n",
       "      <td>...</td>\n",
       "      <td>0</td>\n",
       "      <td>0</td>\n",
       "      <td>0</td>\n",
       "      <td>0</td>\n",
       "      <td>0</td>\n",
       "      <td>0</td>\n",
       "      <td>0</td>\n",
       "      <td>1</td>\n",
       "      <td>0</td>\n",
       "      <td>1</td>\n",
       "    </tr>\n",
       "    <tr>\n",
       "      <th>3</th>\n",
       "      <td>1076863</td>\n",
       "      <td>1277178</td>\n",
       "      <td>10000</td>\n",
       "      <td>10000</td>\n",
       "      <td>10000.0</td>\n",
       "      <td>36 months</td>\n",
       "      <td>13.49</td>\n",
       "      <td>339.31</td>\n",
       "      <td>C</td>\n",
       "      <td>C1</td>\n",
       "      <td>...</td>\n",
       "      <td>0</td>\n",
       "      <td>0</td>\n",
       "      <td>0</td>\n",
       "      <td>0</td>\n",
       "      <td>0</td>\n",
       "      <td>0</td>\n",
       "      <td>0</td>\n",
       "      <td>1</td>\n",
       "      <td>0</td>\n",
       "      <td>1</td>\n",
       "    </tr>\n",
       "    <tr>\n",
       "      <th>4</th>\n",
       "      <td>1075358</td>\n",
       "      <td>1311748</td>\n",
       "      <td>3000</td>\n",
       "      <td>3000</td>\n",
       "      <td>3000.0</td>\n",
       "      <td>60 months</td>\n",
       "      <td>12.69</td>\n",
       "      <td>67.79</td>\n",
       "      <td>B</td>\n",
       "      <td>B5</td>\n",
       "      <td>...</td>\n",
       "      <td>0</td>\n",
       "      <td>0</td>\n",
       "      <td>0</td>\n",
       "      <td>0</td>\n",
       "      <td>0</td>\n",
       "      <td>0</td>\n",
       "      <td>0</td>\n",
       "      <td>1</td>\n",
       "      <td>0</td>\n",
       "      <td>1</td>\n",
       "    </tr>\n",
       "  </tbody>\n",
       "</table>\n",
       "<p>5 rows × 207 columns</p>\n",
       "</div>"
      ],
      "text/plain": [
       "        id  member_id  loan_amnt  funded_amnt  funded_amnt_inv        term  \\\n",
       "0  1077501    1296599       5000         5000           4975.0   36 months   \n",
       "1  1077430    1314167       2500         2500           2500.0   60 months   \n",
       "2  1077175    1313524       2400         2400           2400.0   36 months   \n",
       "3  1076863    1277178      10000        10000          10000.0   36 months   \n",
       "4  1075358    1311748       3000         3000           3000.0   60 months   \n",
       "\n",
       "   int_rate  installment grade sub_grade  ... addr_state:UT addr_state:VA  \\\n",
       "0     10.65       162.87     B        B2  ...             0             0   \n",
       "1     15.27        59.83     C        C4  ...             0             0   \n",
       "2     15.96        84.33     C        C5  ...             0             0   \n",
       "3     13.49       339.31     C        C1  ...             0             0   \n",
       "4     12.69        67.79     B        B5  ...             0             0   \n",
       "\n",
       "  addr_state:VT  addr_state:WA addr_state:WI addr_state:WV addr_state:WY  \\\n",
       "0             0              0             0             0             0   \n",
       "1             0              0             0             0             0   \n",
       "2             0              0             0             0             0   \n",
       "3             0              0             0             0             0   \n",
       "4             0              0             0             0             0   \n",
       "\n",
       "  initial_list_status:f initial_list_status:w good_bad  \n",
       "0                     1                     0        1  \n",
       "1                     1                     0        0  \n",
       "2                     1                     0        1  \n",
       "3                     1                     0        1  \n",
       "4                     1                     0        1  \n",
       "\n",
       "[5 rows x 207 columns]"
      ]
     },
     "execution_count": 134,
     "metadata": {},
     "output_type": "execute_result"
    }
   ],
   "source": [
    "loan_data_preprocessed.head()"
   ]
  },
  {
   "cell_type": "code",
   "execution_count": 135,
   "id": "911a681e",
   "metadata": {},
   "outputs": [],
   "source": [
    "loan_data_preprocessed['mths_since_last_delinq'].fillna(0, inplace = True)"
   ]
  },
  {
   "cell_type": "code",
   "execution_count": 136,
   "id": "5433beba",
   "metadata": {},
   "outputs": [],
   "source": [
    "loan_data_preprocessed['mths_since_last_record'].fillna(0, inplace = True)"
   ]
  },
  {
   "cell_type": "code",
   "execution_count": 137,
   "id": "314dfc65",
   "metadata": {},
   "outputs": [],
   "source": [
    "loan_data_preprocessed_lgd_ead = loan_data_preprocessed[features_all]"
   ]
  },
  {
   "cell_type": "code",
   "execution_count": 138,
   "id": "e1302235",
   "metadata": {},
   "outputs": [],
   "source": [
    "loan_data_preprocessed_lgd_ead = loan_data_preprocessed_lgd_ead.drop(features_reference_cat, axis = 1)"
   ]
  },
  {
   "cell_type": "code",
   "execution_count": 139,
   "id": "c85e4fbe",
   "metadata": {},
   "outputs": [],
   "source": [
    "loan_data_preprocessed['recovery_rate_st_1'] = reg_lgd_st_1.model.predict(loan_data_preprocessed_lgd_ead)"
   ]
  },
  {
   "cell_type": "code",
   "execution_count": 140,
   "id": "cc574e3c",
   "metadata": {},
   "outputs": [],
   "source": [
    "loan_data_preprocessed['recovery_rate_st_2'] = reg_lgd_st_2.predict(loan_data_preprocessed_lgd_ead)"
   ]
  },
  {
   "cell_type": "code",
   "execution_count": 141,
   "id": "7ae83e2f",
   "metadata": {},
   "outputs": [],
   "source": [
    "loan_data_preprocessed['recovery_rate'] = loan_data_preprocessed['recovery_rate_st_1'] * loan_data_preprocessed['recovery_rate_st_2']"
   ]
  },
  {
   "cell_type": "code",
   "execution_count": 142,
   "id": "9a56e02b",
   "metadata": {},
   "outputs": [],
   "source": [
    "loan_data_preprocessed['recovery_rate'] = np.where(loan_data_preprocessed['recovery_rate'] < 0, 0, loan_data_preprocessed['recovery_rate'])\n",
    "loan_data_preprocessed['recovery_rate'] = np.where(loan_data_preprocessed['recovery_rate'] > 1, 1, loan_data_preprocessed['recovery_rate'])"
   ]
  },
  {
   "cell_type": "code",
   "execution_count": 143,
   "id": "56d6480d",
   "metadata": {},
   "outputs": [],
   "source": [
    "loan_data_preprocessed['LGD'] = 1 - loan_data_preprocessed['recovery_rate']"
   ]
  },
  {
   "cell_type": "code",
   "execution_count": 144,
   "id": "b260a7e3",
   "metadata": {},
   "outputs": [
    {
     "data": {
      "text/plain": [
       "count    466285.000000\n",
       "mean          0.932112\n",
       "std           0.058262\n",
       "min           0.357914\n",
       "25%           0.880516\n",
       "50%           0.913731\n",
       "75%           1.000000\n",
       "max           1.000000\n",
       "Name: LGD, dtype: float64"
      ]
     },
     "execution_count": 144,
     "metadata": {},
     "output_type": "execute_result"
    }
   ],
   "source": [
    "loan_data_preprocessed['LGD'].describe()"
   ]
  },
  {
   "cell_type": "code",
   "execution_count": 145,
   "id": "5c56793a",
   "metadata": {},
   "outputs": [],
   "source": [
    "loan_data_preprocessed['CCF'] = reg_ead.predict(loan_data_preprocessed_lgd_ead)"
   ]
  },
  {
   "cell_type": "code",
   "execution_count": 146,
   "id": "f7745d3b",
   "metadata": {},
   "outputs": [],
   "source": [
    "loan_data_preprocessed['CCF'] = np.where(loan_data_preprocessed['CCF'] < 0, 0, loan_data_preprocessed['CCF'])\n",
    "loan_data_preprocessed['CCF'] = np.where(loan_data_preprocessed['CCF'] > 1, 1, loan_data_preprocessed['CCF'])"
   ]
  },
  {
   "cell_type": "code",
   "execution_count": 147,
   "id": "757da684",
   "metadata": {},
   "outputs": [],
   "source": [
    "loan_data_preprocessed['EAD'] = loan_data_preprocessed['CCF'] * loan_data_preprocessed_lgd_ead['funded_amnt']"
   ]
  },
  {
   "cell_type": "code",
   "execution_count": 148,
   "id": "2340cb55",
   "metadata": {},
   "outputs": [
    {
     "data": {
      "text/plain": [
       "count    466285.000000\n",
       "mean      10814.846760\n",
       "std        6935.184562\n",
       "min         190.347372\n",
       "25%        5495.101413\n",
       "50%        9208.479591\n",
       "75%       14692.844549\n",
       "max       35000.000000\n",
       "Name: EAD, dtype: float64"
      ]
     },
     "execution_count": 148,
     "metadata": {},
     "output_type": "execute_result"
    }
   ],
   "source": [
    "loan_data_preprocessed['EAD'].describe()"
   ]
  },
  {
   "cell_type": "code",
   "execution_count": 149,
   "id": "87af2114",
   "metadata": {},
   "outputs": [
    {
     "data": {
      "text/html": [
       "<div>\n",
       "<style scoped>\n",
       "    .dataframe tbody tr th:only-of-type {\n",
       "        vertical-align: middle;\n",
       "    }\n",
       "\n",
       "    .dataframe tbody tr th {\n",
       "        vertical-align: top;\n",
       "    }\n",
       "\n",
       "    .dataframe thead th {\n",
       "        text-align: right;\n",
       "    }\n",
       "</style>\n",
       "<table border=\"1\" class=\"dataframe\">\n",
       "  <thead>\n",
       "    <tr style=\"text-align: right;\">\n",
       "      <th></th>\n",
       "      <th>id</th>\n",
       "      <th>member_id</th>\n",
       "      <th>loan_amnt</th>\n",
       "      <th>funded_amnt</th>\n",
       "      <th>funded_amnt_inv</th>\n",
       "      <th>term</th>\n",
       "      <th>int_rate</th>\n",
       "      <th>installment</th>\n",
       "      <th>grade</th>\n",
       "      <th>sub_grade</th>\n",
       "      <th>...</th>\n",
       "      <th>addr_state:WY</th>\n",
       "      <th>initial_list_status:f</th>\n",
       "      <th>initial_list_status:w</th>\n",
       "      <th>good_bad</th>\n",
       "      <th>recovery_rate_st_1</th>\n",
       "      <th>recovery_rate_st_2</th>\n",
       "      <th>recovery_rate</th>\n",
       "      <th>LGD</th>\n",
       "      <th>CCF</th>\n",
       "      <th>EAD</th>\n",
       "    </tr>\n",
       "  </thead>\n",
       "  <tbody>\n",
       "    <tr>\n",
       "      <th>0</th>\n",
       "      <td>1077501</td>\n",
       "      <td>1296599</td>\n",
       "      <td>5000</td>\n",
       "      <td>5000</td>\n",
       "      <td>4975.0</td>\n",
       "      <td>36 months</td>\n",
       "      <td>10.65</td>\n",
       "      <td>162.87</td>\n",
       "      <td>B</td>\n",
       "      <td>B2</td>\n",
       "      <td>...</td>\n",
       "      <td>0</td>\n",
       "      <td>1</td>\n",
       "      <td>0</td>\n",
       "      <td>1</td>\n",
       "      <td>1</td>\n",
       "      <td>0.086271</td>\n",
       "      <td>0.086271</td>\n",
       "      <td>0.913729</td>\n",
       "      <td>0.589922</td>\n",
       "      <td>2949.608449</td>\n",
       "    </tr>\n",
       "    <tr>\n",
       "      <th>1</th>\n",
       "      <td>1077430</td>\n",
       "      <td>1314167</td>\n",
       "      <td>2500</td>\n",
       "      <td>2500</td>\n",
       "      <td>2500.0</td>\n",
       "      <td>60 months</td>\n",
       "      <td>15.27</td>\n",
       "      <td>59.83</td>\n",
       "      <td>C</td>\n",
       "      <td>C4</td>\n",
       "      <td>...</td>\n",
       "      <td>0</td>\n",
       "      <td>1</td>\n",
       "      <td>0</td>\n",
       "      <td>0</td>\n",
       "      <td>1</td>\n",
       "      <td>0.084518</td>\n",
       "      <td>0.084518</td>\n",
       "      <td>0.915482</td>\n",
       "      <td>0.777773</td>\n",
       "      <td>1944.433378</td>\n",
       "    </tr>\n",
       "    <tr>\n",
       "      <th>2</th>\n",
       "      <td>1077175</td>\n",
       "      <td>1313524</td>\n",
       "      <td>2400</td>\n",
       "      <td>2400</td>\n",
       "      <td>2400.0</td>\n",
       "      <td>36 months</td>\n",
       "      <td>15.96</td>\n",
       "      <td>84.33</td>\n",
       "      <td>C</td>\n",
       "      <td>C5</td>\n",
       "      <td>...</td>\n",
       "      <td>0</td>\n",
       "      <td>1</td>\n",
       "      <td>0</td>\n",
       "      <td>1</td>\n",
       "      <td>1</td>\n",
       "      <td>0.080516</td>\n",
       "      <td>0.080516</td>\n",
       "      <td>0.919484</td>\n",
       "      <td>0.658306</td>\n",
       "      <td>1579.934302</td>\n",
       "    </tr>\n",
       "    <tr>\n",
       "      <th>3</th>\n",
       "      <td>1076863</td>\n",
       "      <td>1277178</td>\n",
       "      <td>10000</td>\n",
       "      <td>10000</td>\n",
       "      <td>10000.0</td>\n",
       "      <td>36 months</td>\n",
       "      <td>13.49</td>\n",
       "      <td>339.31</td>\n",
       "      <td>C</td>\n",
       "      <td>C1</td>\n",
       "      <td>...</td>\n",
       "      <td>0</td>\n",
       "      <td>1</td>\n",
       "      <td>0</td>\n",
       "      <td>1</td>\n",
       "      <td>1</td>\n",
       "      <td>0.095076</td>\n",
       "      <td>0.095076</td>\n",
       "      <td>0.904924</td>\n",
       "      <td>0.660656</td>\n",
       "      <td>6606.559612</td>\n",
       "    </tr>\n",
       "    <tr>\n",
       "      <th>4</th>\n",
       "      <td>1075358</td>\n",
       "      <td>1311748</td>\n",
       "      <td>3000</td>\n",
       "      <td>3000</td>\n",
       "      <td>3000.0</td>\n",
       "      <td>60 months</td>\n",
       "      <td>12.69</td>\n",
       "      <td>67.79</td>\n",
       "      <td>B</td>\n",
       "      <td>B5</td>\n",
       "      <td>...</td>\n",
       "      <td>0</td>\n",
       "      <td>1</td>\n",
       "      <td>0</td>\n",
       "      <td>1</td>\n",
       "      <td>1</td>\n",
       "      <td>0.088547</td>\n",
       "      <td>0.088547</td>\n",
       "      <td>0.911453</td>\n",
       "      <td>0.708211</td>\n",
       "      <td>2124.631667</td>\n",
       "    </tr>\n",
       "  </tbody>\n",
       "</table>\n",
       "<p>5 rows × 213 columns</p>\n",
       "</div>"
      ],
      "text/plain": [
       "        id  member_id  loan_amnt  funded_amnt  funded_amnt_inv        term  \\\n",
       "0  1077501    1296599       5000         5000           4975.0   36 months   \n",
       "1  1077430    1314167       2500         2500           2500.0   60 months   \n",
       "2  1077175    1313524       2400         2400           2400.0   36 months   \n",
       "3  1076863    1277178      10000        10000          10000.0   36 months   \n",
       "4  1075358    1311748       3000         3000           3000.0   60 months   \n",
       "\n",
       "   int_rate  installment grade sub_grade  ... addr_state:WY  \\\n",
       "0     10.65       162.87     B        B2  ...             0   \n",
       "1     15.27        59.83     C        C4  ...             0   \n",
       "2     15.96        84.33     C        C5  ...             0   \n",
       "3     13.49       339.31     C        C1  ...             0   \n",
       "4     12.69        67.79     B        B5  ...             0   \n",
       "\n",
       "  initial_list_status:f initial_list_status:w  good_bad recovery_rate_st_1  \\\n",
       "0                     1                     0         1                  1   \n",
       "1                     1                     0         0                  1   \n",
       "2                     1                     0         1                  1   \n",
       "3                     1                     0         1                  1   \n",
       "4                     1                     0         1                  1   \n",
       "\n",
       "  recovery_rate_st_2 recovery_rate       LGD       CCF          EAD  \n",
       "0           0.086271      0.086271  0.913729  0.589922  2949.608449  \n",
       "1           0.084518      0.084518  0.915482  0.777773  1944.433378  \n",
       "2           0.080516      0.080516  0.919484  0.658306  1579.934302  \n",
       "3           0.095076      0.095076  0.904924  0.660656  6606.559612  \n",
       "4           0.088547      0.088547  0.911453  0.708211  2124.631667  \n",
       "\n",
       "[5 rows x 213 columns]"
      ]
     },
     "execution_count": 149,
     "metadata": {},
     "output_type": "execute_result"
    }
   ],
   "source": [
    "loan_data_preprocessed.head()"
   ]
  },
  {
   "cell_type": "code",
   "execution_count": 150,
   "id": "7abfb15f",
   "metadata": {},
   "outputs": [],
   "source": [
    "loan_data_inputs_train = pd.read_csv('loan_data_inputs_train.csv')"
   ]
  },
  {
   "cell_type": "code",
   "execution_count": 151,
   "id": "d6076b65",
   "metadata": {},
   "outputs": [],
   "source": [
    "loan_data_inputs_test = pd.read_csv('loan_data_inputs_test.csv')"
   ]
  },
  {
   "cell_type": "code",
   "execution_count": 152,
   "id": "e24013a5",
   "metadata": {},
   "outputs": [],
   "source": [
    "loan_data_inputs_pd = pd.concat([loan_data_inputs_train, loan_data_inputs_test], axis = 0)"
   ]
  },
  {
   "cell_type": "code",
   "execution_count": 153,
   "id": "e43a3626",
   "metadata": {},
   "outputs": [
    {
     "data": {
      "text/plain": [
       "(466285, 328)"
      ]
     },
     "execution_count": 153,
     "metadata": {},
     "output_type": "execute_result"
    }
   ],
   "source": [
    "loan_data_inputs_pd.shape"
   ]
  },
  {
   "cell_type": "code",
   "execution_count": 154,
   "id": "4767abe6",
   "metadata": {},
   "outputs": [
    {
     "data": {
      "text/html": [
       "<div>\n",
       "<style scoped>\n",
       "    .dataframe tbody tr th:only-of-type {\n",
       "        vertical-align: middle;\n",
       "    }\n",
       "\n",
       "    .dataframe tbody tr th {\n",
       "        vertical-align: top;\n",
       "    }\n",
       "\n",
       "    .dataframe thead th {\n",
       "        text-align: right;\n",
       "    }\n",
       "</style>\n",
       "<table border=\"1\" class=\"dataframe\">\n",
       "  <thead>\n",
       "    <tr style=\"text-align: right;\">\n",
       "      <th></th>\n",
       "      <th>Unnamed: 0.1</th>\n",
       "      <th>Unnamed: 0</th>\n",
       "      <th>id</th>\n",
       "      <th>member_id</th>\n",
       "      <th>loan_amnt</th>\n",
       "      <th>funded_amnt</th>\n",
       "      <th>funded_amnt_inv</th>\n",
       "      <th>term</th>\n",
       "      <th>int_rate</th>\n",
       "      <th>installment</th>\n",
       "      <th>...</th>\n",
       "      <th>dti:&gt;35</th>\n",
       "      <th>mths_since_last_record:Missing</th>\n",
       "      <th>mths_since_last_record:0-2</th>\n",
       "      <th>mths_since_last_record:3-20</th>\n",
       "      <th>mths_since_last_record:21-31</th>\n",
       "      <th>mths_since_last_record:32-80</th>\n",
       "      <th>mths_since_last_record:81-86</th>\n",
       "      <th>mths_since_last_record:&gt;86</th>\n",
       "      <th>purpose:educ__sm_b__wedd__ren_en__mov__house</th>\n",
       "      <th>purpose:oth__med__vacation</th>\n",
       "    </tr>\n",
       "  </thead>\n",
       "  <tbody>\n",
       "    <tr>\n",
       "      <th>0</th>\n",
       "      <td>427211</td>\n",
       "      <td>427211</td>\n",
       "      <td>12796369</td>\n",
       "      <td>14818505</td>\n",
       "      <td>24000</td>\n",
       "      <td>24000</td>\n",
       "      <td>24000.0</td>\n",
       "      <td>36 months</td>\n",
       "      <td>8.90</td>\n",
       "      <td>762.08</td>\n",
       "      <td>...</td>\n",
       "      <td>0</td>\n",
       "      <td>1</td>\n",
       "      <td>0</td>\n",
       "      <td>0</td>\n",
       "      <td>0</td>\n",
       "      <td>0</td>\n",
       "      <td>0</td>\n",
       "      <td>0</td>\n",
       "      <td>0</td>\n",
       "      <td>0</td>\n",
       "    </tr>\n",
       "    <tr>\n",
       "      <th>1</th>\n",
       "      <td>206088</td>\n",
       "      <td>206088</td>\n",
       "      <td>1439740</td>\n",
       "      <td>1691948</td>\n",
       "      <td>10000</td>\n",
       "      <td>10000</td>\n",
       "      <td>10000.0</td>\n",
       "      <td>36 months</td>\n",
       "      <td>14.33</td>\n",
       "      <td>343.39</td>\n",
       "      <td>...</td>\n",
       "      <td>0</td>\n",
       "      <td>1</td>\n",
       "      <td>0</td>\n",
       "      <td>0</td>\n",
       "      <td>0</td>\n",
       "      <td>0</td>\n",
       "      <td>0</td>\n",
       "      <td>0</td>\n",
       "      <td>0</td>\n",
       "      <td>0</td>\n",
       "    </tr>\n",
       "    <tr>\n",
       "      <th>2</th>\n",
       "      <td>136020</td>\n",
       "      <td>136020</td>\n",
       "      <td>5214749</td>\n",
       "      <td>6556909</td>\n",
       "      <td>20425</td>\n",
       "      <td>20425</td>\n",
       "      <td>20425.0</td>\n",
       "      <td>36 months</td>\n",
       "      <td>8.90</td>\n",
       "      <td>648.56</td>\n",
       "      <td>...</td>\n",
       "      <td>0</td>\n",
       "      <td>1</td>\n",
       "      <td>0</td>\n",
       "      <td>0</td>\n",
       "      <td>0</td>\n",
       "      <td>0</td>\n",
       "      <td>0</td>\n",
       "      <td>0</td>\n",
       "      <td>0</td>\n",
       "      <td>0</td>\n",
       "    </tr>\n",
       "    <tr>\n",
       "      <th>3</th>\n",
       "      <td>412305</td>\n",
       "      <td>412305</td>\n",
       "      <td>13827698</td>\n",
       "      <td>15890016</td>\n",
       "      <td>17200</td>\n",
       "      <td>17200</td>\n",
       "      <td>17200.0</td>\n",
       "      <td>36 months</td>\n",
       "      <td>16.59</td>\n",
       "      <td>609.73</td>\n",
       "      <td>...</td>\n",
       "      <td>0</td>\n",
       "      <td>1</td>\n",
       "      <td>0</td>\n",
       "      <td>0</td>\n",
       "      <td>0</td>\n",
       "      <td>0</td>\n",
       "      <td>0</td>\n",
       "      <td>0</td>\n",
       "      <td>0</td>\n",
       "      <td>0</td>\n",
       "    </tr>\n",
       "    <tr>\n",
       "      <th>4</th>\n",
       "      <td>36159</td>\n",
       "      <td>36159</td>\n",
       "      <td>422455</td>\n",
       "      <td>496525</td>\n",
       "      <td>8400</td>\n",
       "      <td>8400</td>\n",
       "      <td>7450.0</td>\n",
       "      <td>36 months</td>\n",
       "      <td>12.84</td>\n",
       "      <td>282.40</td>\n",
       "      <td>...</td>\n",
       "      <td>0</td>\n",
       "      <td>1</td>\n",
       "      <td>0</td>\n",
       "      <td>0</td>\n",
       "      <td>0</td>\n",
       "      <td>0</td>\n",
       "      <td>0</td>\n",
       "      <td>0</td>\n",
       "      <td>1</td>\n",
       "      <td>0</td>\n",
       "    </tr>\n",
       "  </tbody>\n",
       "</table>\n",
       "<p>5 rows × 328 columns</p>\n",
       "</div>"
      ],
      "text/plain": [
       "   Unnamed: 0.1  Unnamed: 0        id  member_id  loan_amnt  funded_amnt  \\\n",
       "0        427211      427211  12796369   14818505      24000        24000   \n",
       "1        206088      206088   1439740    1691948      10000        10000   \n",
       "2        136020      136020   5214749    6556909      20425        20425   \n",
       "3        412305      412305  13827698   15890016      17200        17200   \n",
       "4         36159       36159    422455     496525       8400         8400   \n",
       "\n",
       "   funded_amnt_inv        term  int_rate  installment  ... dti:>35  \\\n",
       "0          24000.0   36 months      8.90       762.08  ...       0   \n",
       "1          10000.0   36 months     14.33       343.39  ...       0   \n",
       "2          20425.0   36 months      8.90       648.56  ...       0   \n",
       "3          17200.0   36 months     16.59       609.73  ...       0   \n",
       "4           7450.0   36 months     12.84       282.40  ...       0   \n",
       "\n",
       "  mths_since_last_record:Missing mths_since_last_record:0-2  \\\n",
       "0                              1                          0   \n",
       "1                              1                          0   \n",
       "2                              1                          0   \n",
       "3                              1                          0   \n",
       "4                              1                          0   \n",
       "\n",
       "  mths_since_last_record:3-20 mths_since_last_record:21-31  \\\n",
       "0                           0                            0   \n",
       "1                           0                            0   \n",
       "2                           0                            0   \n",
       "3                           0                            0   \n",
       "4                           0                            0   \n",
       "\n",
       "   mths_since_last_record:32-80 mths_since_last_record:81-86  \\\n",
       "0                             0                            0   \n",
       "1                             0                            0   \n",
       "2                             0                            0   \n",
       "3                             0                            0   \n",
       "4                             0                            0   \n",
       "\n",
       "  mths_since_last_record:>86 purpose:educ__sm_b__wedd__ren_en__mov__house  \\\n",
       "0                          0                                            0   \n",
       "1                          0                                            0   \n",
       "2                          0                                            0   \n",
       "3                          0                                            0   \n",
       "4                          0                                            1   \n",
       "\n",
       "  purpose:oth__med__vacation  \n",
       "0                          0  \n",
       "1                          0  \n",
       "2                          0  \n",
       "3                          0  \n",
       "4                          0  \n",
       "\n",
       "[5 rows x 328 columns]"
      ]
     },
     "execution_count": 154,
     "metadata": {},
     "output_type": "execute_result"
    }
   ],
   "source": [
    "loan_data_inputs_pd.head()"
   ]
  },
  {
   "cell_type": "code",
   "execution_count": 155,
   "id": "060eb55f",
   "metadata": {},
   "outputs": [],
   "source": [
    "loan_data_inputs_pd = loan_data_inputs_pd.set_index('Unnamed: 0')"
   ]
  },
  {
   "cell_type": "code",
   "execution_count": 156,
   "id": "575e97c6",
   "metadata": {},
   "outputs": [
    {
     "data": {
      "text/html": [
       "<div>\n",
       "<style scoped>\n",
       "    .dataframe tbody tr th:only-of-type {\n",
       "        vertical-align: middle;\n",
       "    }\n",
       "\n",
       "    .dataframe tbody tr th {\n",
       "        vertical-align: top;\n",
       "    }\n",
       "\n",
       "    .dataframe thead th {\n",
       "        text-align: right;\n",
       "    }\n",
       "</style>\n",
       "<table border=\"1\" class=\"dataframe\">\n",
       "  <thead>\n",
       "    <tr style=\"text-align: right;\">\n",
       "      <th></th>\n",
       "      <th>Unnamed: 0.1</th>\n",
       "      <th>id</th>\n",
       "      <th>member_id</th>\n",
       "      <th>loan_amnt</th>\n",
       "      <th>funded_amnt</th>\n",
       "      <th>funded_amnt_inv</th>\n",
       "      <th>term</th>\n",
       "      <th>int_rate</th>\n",
       "      <th>installment</th>\n",
       "      <th>grade</th>\n",
       "      <th>...</th>\n",
       "      <th>dti:&gt;35</th>\n",
       "      <th>mths_since_last_record:Missing</th>\n",
       "      <th>mths_since_last_record:0-2</th>\n",
       "      <th>mths_since_last_record:3-20</th>\n",
       "      <th>mths_since_last_record:21-31</th>\n",
       "      <th>mths_since_last_record:32-80</th>\n",
       "      <th>mths_since_last_record:81-86</th>\n",
       "      <th>mths_since_last_record:&gt;86</th>\n",
       "      <th>purpose:educ__sm_b__wedd__ren_en__mov__house</th>\n",
       "      <th>purpose:oth__med__vacation</th>\n",
       "    </tr>\n",
       "    <tr>\n",
       "      <th>Unnamed: 0</th>\n",
       "      <th></th>\n",
       "      <th></th>\n",
       "      <th></th>\n",
       "      <th></th>\n",
       "      <th></th>\n",
       "      <th></th>\n",
       "      <th></th>\n",
       "      <th></th>\n",
       "      <th></th>\n",
       "      <th></th>\n",
       "      <th></th>\n",
       "      <th></th>\n",
       "      <th></th>\n",
       "      <th></th>\n",
       "      <th></th>\n",
       "      <th></th>\n",
       "      <th></th>\n",
       "      <th></th>\n",
       "      <th></th>\n",
       "      <th></th>\n",
       "      <th></th>\n",
       "    </tr>\n",
       "  </thead>\n",
       "  <tbody>\n",
       "    <tr>\n",
       "      <th>427211</th>\n",
       "      <td>427211</td>\n",
       "      <td>12796369</td>\n",
       "      <td>14818505</td>\n",
       "      <td>24000</td>\n",
       "      <td>24000</td>\n",
       "      <td>24000.0</td>\n",
       "      <td>36 months</td>\n",
       "      <td>8.90</td>\n",
       "      <td>762.08</td>\n",
       "      <td>A</td>\n",
       "      <td>...</td>\n",
       "      <td>0</td>\n",
       "      <td>1</td>\n",
       "      <td>0</td>\n",
       "      <td>0</td>\n",
       "      <td>0</td>\n",
       "      <td>0</td>\n",
       "      <td>0</td>\n",
       "      <td>0</td>\n",
       "      <td>0</td>\n",
       "      <td>0</td>\n",
       "    </tr>\n",
       "    <tr>\n",
       "      <th>206088</th>\n",
       "      <td>206088</td>\n",
       "      <td>1439740</td>\n",
       "      <td>1691948</td>\n",
       "      <td>10000</td>\n",
       "      <td>10000</td>\n",
       "      <td>10000.0</td>\n",
       "      <td>36 months</td>\n",
       "      <td>14.33</td>\n",
       "      <td>343.39</td>\n",
       "      <td>C</td>\n",
       "      <td>...</td>\n",
       "      <td>0</td>\n",
       "      <td>1</td>\n",
       "      <td>0</td>\n",
       "      <td>0</td>\n",
       "      <td>0</td>\n",
       "      <td>0</td>\n",
       "      <td>0</td>\n",
       "      <td>0</td>\n",
       "      <td>0</td>\n",
       "      <td>0</td>\n",
       "    </tr>\n",
       "    <tr>\n",
       "      <th>136020</th>\n",
       "      <td>136020</td>\n",
       "      <td>5214749</td>\n",
       "      <td>6556909</td>\n",
       "      <td>20425</td>\n",
       "      <td>20425</td>\n",
       "      <td>20425.0</td>\n",
       "      <td>36 months</td>\n",
       "      <td>8.90</td>\n",
       "      <td>648.56</td>\n",
       "      <td>A</td>\n",
       "      <td>...</td>\n",
       "      <td>0</td>\n",
       "      <td>1</td>\n",
       "      <td>0</td>\n",
       "      <td>0</td>\n",
       "      <td>0</td>\n",
       "      <td>0</td>\n",
       "      <td>0</td>\n",
       "      <td>0</td>\n",
       "      <td>0</td>\n",
       "      <td>0</td>\n",
       "    </tr>\n",
       "    <tr>\n",
       "      <th>412305</th>\n",
       "      <td>412305</td>\n",
       "      <td>13827698</td>\n",
       "      <td>15890016</td>\n",
       "      <td>17200</td>\n",
       "      <td>17200</td>\n",
       "      <td>17200.0</td>\n",
       "      <td>36 months</td>\n",
       "      <td>16.59</td>\n",
       "      <td>609.73</td>\n",
       "      <td>D</td>\n",
       "      <td>...</td>\n",
       "      <td>0</td>\n",
       "      <td>1</td>\n",
       "      <td>0</td>\n",
       "      <td>0</td>\n",
       "      <td>0</td>\n",
       "      <td>0</td>\n",
       "      <td>0</td>\n",
       "      <td>0</td>\n",
       "      <td>0</td>\n",
       "      <td>0</td>\n",
       "    </tr>\n",
       "    <tr>\n",
       "      <th>36159</th>\n",
       "      <td>36159</td>\n",
       "      <td>422455</td>\n",
       "      <td>496525</td>\n",
       "      <td>8400</td>\n",
       "      <td>8400</td>\n",
       "      <td>7450.0</td>\n",
       "      <td>36 months</td>\n",
       "      <td>12.84</td>\n",
       "      <td>282.40</td>\n",
       "      <td>C</td>\n",
       "      <td>...</td>\n",
       "      <td>0</td>\n",
       "      <td>1</td>\n",
       "      <td>0</td>\n",
       "      <td>0</td>\n",
       "      <td>0</td>\n",
       "      <td>0</td>\n",
       "      <td>0</td>\n",
       "      <td>0</td>\n",
       "      <td>1</td>\n",
       "      <td>0</td>\n",
       "    </tr>\n",
       "  </tbody>\n",
       "</table>\n",
       "<p>5 rows × 327 columns</p>\n",
       "</div>"
      ],
      "text/plain": [
       "            Unnamed: 0.1        id  member_id  loan_amnt  funded_amnt  \\\n",
       "Unnamed: 0                                                              \n",
       "427211            427211  12796369   14818505      24000        24000   \n",
       "206088            206088   1439740    1691948      10000        10000   \n",
       "136020            136020   5214749    6556909      20425        20425   \n",
       "412305            412305  13827698   15890016      17200        17200   \n",
       "36159              36159    422455     496525       8400         8400   \n",
       "\n",
       "            funded_amnt_inv        term  int_rate  installment grade  ...  \\\n",
       "Unnamed: 0                                                            ...   \n",
       "427211              24000.0   36 months      8.90       762.08     A  ...   \n",
       "206088              10000.0   36 months     14.33       343.39     C  ...   \n",
       "136020              20425.0   36 months      8.90       648.56     A  ...   \n",
       "412305              17200.0   36 months     16.59       609.73     D  ...   \n",
       "36159                7450.0   36 months     12.84       282.40     C  ...   \n",
       "\n",
       "           dti:>35 mths_since_last_record:Missing mths_since_last_record:0-2  \\\n",
       "Unnamed: 0                                                                     \n",
       "427211           0                              1                          0   \n",
       "206088           0                              1                          0   \n",
       "136020           0                              1                          0   \n",
       "412305           0                              1                          0   \n",
       "36159            0                              1                          0   \n",
       "\n",
       "           mths_since_last_record:3-20  mths_since_last_record:21-31  \\\n",
       "Unnamed: 0                                                             \n",
       "427211                               0                             0   \n",
       "206088                               0                             0   \n",
       "136020                               0                             0   \n",
       "412305                               0                             0   \n",
       "36159                                0                             0   \n",
       "\n",
       "           mths_since_last_record:32-80 mths_since_last_record:81-86  \\\n",
       "Unnamed: 0                                                             \n",
       "427211                                0                            0   \n",
       "206088                                0                            0   \n",
       "136020                                0                            0   \n",
       "412305                                0                            0   \n",
       "36159                                 0                            0   \n",
       "\n",
       "           mths_since_last_record:>86  \\\n",
       "Unnamed: 0                              \n",
       "427211                              0   \n",
       "206088                              0   \n",
       "136020                              0   \n",
       "412305                              0   \n",
       "36159                               0   \n",
       "\n",
       "           purpose:educ__sm_b__wedd__ren_en__mov__house  \\\n",
       "Unnamed: 0                                                \n",
       "427211                                                0   \n",
       "206088                                                0   \n",
       "136020                                                0   \n",
       "412305                                                0   \n",
       "36159                                                 1   \n",
       "\n",
       "           purpose:oth__med__vacation  \n",
       "Unnamed: 0                             \n",
       "427211                              0  \n",
       "206088                              0  \n",
       "136020                              0  \n",
       "412305                              0  \n",
       "36159                               0  \n",
       "\n",
       "[5 rows x 327 columns]"
      ]
     },
     "execution_count": 156,
     "metadata": {},
     "output_type": "execute_result"
    }
   ],
   "source": [
    "loan_data_inputs_pd.head()"
   ]
  },
  {
   "cell_type": "code",
   "execution_count": 160,
   "id": "6cb36908",
   "metadata": {},
   "outputs": [],
   "source": [
    "features_all_pd = ['grade:A',\n",
    "'grade:B',\n",
    "'grade:C',\n",
    "'grade:D',\n",
    "'grade:E',\n",
    "'grade:F',\n",
    "'grade:G',\n",
    "'home_ownership:RENT_OTHER_NONE_ANY',\n",
    "'home_ownership:OWN',\n",
    "'home_ownership:MORTGAGE',\n",
    "'addr_state:ND_NE_IA_NV_FL_HI_AL',\n",
    "'addr_state:NM_VA',\n",
    "'addr_state:NY',\n",
    "'addr_state:OK_TN_MO_LA_MD_NC',\n",
    "'addr_state:CA',\n",
    "'addr_state:UT_KY_AZ_NJ',\n",
    "'addr_state:AR_MI_PA_OH_MN',\n",
    "'addr_state:RI_MA_DE_SD_IN',\n",
    "'addr_state:GA_WA_OR',\n",
    "'addr_state:WI_MT',\n",
    "'addr_state:TX',\n",
    "'addr_state:IL_CT',\n",
    "'addr_state:KS_SC_CO_VT_AK_MS',\n",
    "'addr_state:WV_NH_WY_DC_ME_ID',\n",
    "'verification_status:Not Verified',\n",
    "'verification_status:Source Verified',\n",
    "'verification_status:Verified',\n",
    "'purpose:educ__sm_b__wedd__ren_en__mov__house',\n",
    "'purpose:credit_card',\n",
    "'purpose:debt_consolidation',\n",
    "'purpose:oth__med__vacation',\n",
    "'purpose:major_purch__car__home_impr',\n",
    "'initial_list_status:f',\n",
    "'initial_list_status:w',\n",
    "'term:36',\n",
    "'term:60',\n",
    "'emp_length_int:0',\n",
    "'emp_length_int:1',\n",
    "'emp_length_int:2-4',\n",
    "'emp_length_int:5-6',\n",
    "'emp_length_int:7-9',\n",
    "'emp_length_int:10',\n",
    "'mths_since_issue_d:<38',\n",
    "'mths_since_issue_d:38-39',\n",
    "'mths_since_issue_d:40-41',\n",
    "'mths_since_issue_d:42-48',\n",
    "'mths_since_issue_d:49-52',\n",
    "'mths_since_issue_d:53-64',\n",
    "'mths_since_issue_d:65-84',\n",
    "'mths_since_issue_d:>84',\n",
    "'int_rate:<9.548',\n",
    "'int_rate:9.548-12.025',\n",
    "'int_rate:12.025-15.74',\n",
    "'int_rate:15.74-20.281',\n",
    "'int_rate:>20.281',\n",
    "'mths_since_earliest_cr_line:<140',\n",
    "'mths_since_earliest_cr_line:141-164',\n",
    "'mths_since_earliest_cr_line:165-247',\n",
    "'mths_since_earliest_cr_line:248-270',\n",
    "'mths_since_earliest_cr_line:271-352',\n",
    "'mths_since_earliest_cr_line:>352',\n",
    "'inq_last_6mths:0',\n",
    "'inq_last_6mths:1-2',\n",
    "'inq_last_6mths:3-6',\n",
    "'inq_last_6mths:>6',\n",
    "'acc_now_delinq:0',\n",
    "'acc_now_delinq:>=1',\n",
    "'annual_inc:<20K',\n",
    "'annual_inc:20K-30K',\n",
    "'annual_inc:30K-40K',\n",
    "'annual_inc:40K-50K',\n",
    "'annual_inc:50K-60K',\n",
    "'annual_inc:60K-70K',\n",
    "'annual_inc:70K-80K',\n",
    "'annual_inc:80K-90K',\n",
    "'annual_inc:90K-100K',\n",
    "'annual_inc:100K-120K',\n",
    "'annual_inc:120K-140K',\n",
    "'annual_inc:>140K',\n",
    "'dti:<=1.4',\n",
    "'dti:1.4-3.5',\n",
    "'dti:3.5-7.7',\n",
    "'dti:7.7-10.5',\n",
    "'dti:10.5-16.1',\n",
    "'dti:16.1-20.3',\n",
    "'dti:20.3-21.7',\n",
    "'dti:21.7-22.4',\n",
    "'dti:22.4-35',\n",
    "'dti:>35',\n",
    "'mths_since_last_delinq:Missing',\n",
    "'mths_since_last_delinq:0-3',\n",
    "'mths_since_last_delinq:4-30',\n",
    "'mths_since_last_delinq:31-56',\n",
    "'mths_since_last_delinq:>=57',\n",
    "'mths_since_last_record:Missing',\n",
    "'mths_since_last_record:0-2',\n",
    "'mths_since_last_record:3-20',\n",
    "'mths_since_last_record:21-31',\n",
    "'mths_since_last_record:32-80',\n",
    "'mths_since_last_record:81-86',\n",
    "'mths_since_last_record:>86']"
   ]
  },
  {
   "cell_type": "code",
   "execution_count": 163,
   "id": "a00cddc3",
   "metadata": {},
   "outputs": [],
   "source": [
    "ref_categories_pd = ['grade:G',\n",
    "'home_ownership:RENT_OTHER_NONE_ANY',\n",
    "'addr_state:ND_NE_IA_NV_FL_HI_AL',\n",
    "'verification_status:Verified',\n",
    "'purpose:educ__sm_b__wedd__ren_en__mov__house',\n",
    "'initial_list_status:f',\n",
    "'term:60',\n",
    "'emp_length_int:0',\n",
    "'mths_since_issue_d:>84',\n",
    "'int_rate:>20.281',\n",
    "'mths_since_earliest_cr_line:<140',\n",
    "'inq_last_6mths:>6',\n",
    "'acc_now_delinq:0',\n",
    "'annual_inc:<20K',\n",
    "'dti:>35',\n",
    "'mths_since_last_delinq:0-3',\n",
    "'mths_since_last_record:0-2']"
   ]
  },
  {
   "cell_type": "code",
   "execution_count": 162,
   "id": "71e6537f",
   "metadata": {},
   "outputs": [],
   "source": [
    "loan_data_inputs_pd_temp = loan_data_inputs_pd[features_all_pd]"
   ]
  },
  {
   "cell_type": "code",
   "execution_count": 164,
   "id": "cd59c622",
   "metadata": {},
   "outputs": [],
   "source": [
    "loan_data_inputs_pd_temp = loan_data_inputs_pd_temp.drop(ref_categories_pd, axis = 1)"
   ]
  },
  {
   "cell_type": "code",
   "execution_count": 165,
   "id": "439990c4",
   "metadata": {},
   "outputs": [
    {
     "data": {
      "text/plain": [
       "(466285, 84)"
      ]
     },
     "execution_count": 165,
     "metadata": {},
     "output_type": "execute_result"
    }
   ],
   "source": [
    "loan_data_inputs_pd_temp.shape"
   ]
  },
  {
   "cell_type": "code",
   "execution_count": 166,
   "id": "f23541e5",
   "metadata": {},
   "outputs": [],
   "source": [
    "reg_pd = pickle.load(open('pd_model.sav', 'rb'))"
   ]
  },
  {
   "cell_type": "code",
   "execution_count": 167,
   "id": "ce36763a",
   "metadata": {},
   "outputs": [
    {
     "data": {
      "text/plain": [
       "array([0.02956176, 0.09199724, 0.03734369, ..., 0.02677902, 0.04025101,\n",
       "       0.04763147])"
      ]
     },
     "execution_count": 167,
     "metadata": {},
     "output_type": "execute_result"
    }
   ],
   "source": [
    "reg_pd.model.predict_proba(loan_data_inputs_pd_temp)[: ][: , 0]"
   ]
  },
  {
   "cell_type": "code",
   "execution_count": 168,
   "id": "a645e05a",
   "metadata": {},
   "outputs": [],
   "source": [
    "loan_data_inputs_pd['PD'] = reg_pd.model.predict_proba(loan_data_inputs_pd_temp)[: ][: , 0]"
   ]
  },
  {
   "cell_type": "code",
   "execution_count": 169,
   "id": "5287b19d",
   "metadata": {},
   "outputs": [
    {
     "data": {
      "text/plain": [
       "Unnamed: 0\n",
       "427211    0.029562\n",
       "206088    0.091997\n",
       "136020    0.037344\n",
       "412305    0.204221\n",
       "36159     0.200136\n",
       "Name: PD, dtype: float64"
      ]
     },
     "execution_count": 169,
     "metadata": {},
     "output_type": "execute_result"
    }
   ],
   "source": [
    "loan_data_inputs_pd['PD'].head()"
   ]
  },
  {
   "cell_type": "code",
   "execution_count": 170,
   "id": "b4abc918",
   "metadata": {},
   "outputs": [
    {
     "data": {
      "text/plain": [
       "count    466285.000000\n",
       "mean          0.109322\n",
       "std           0.070955\n",
       "min           0.007300\n",
       "25%           0.056072\n",
       "50%           0.093511\n",
       "75%           0.146572\n",
       "max           0.645007\n",
       "Name: PD, dtype: float64"
      ]
     },
     "execution_count": 170,
     "metadata": {},
     "output_type": "execute_result"
    }
   ],
   "source": [
    "loan_data_inputs_pd['PD'].describe()"
   ]
  },
  {
   "cell_type": "code",
   "execution_count": 171,
   "id": "0dd15aa5",
   "metadata": {},
   "outputs": [],
   "source": [
    "loan_data_preprocessed_new = pd.concat([loan_data_preprocessed, loan_data_inputs_pd], axis = 1)"
   ]
  },
  {
   "cell_type": "code",
   "execution_count": 172,
   "id": "d1666f86",
   "metadata": {},
   "outputs": [
    {
     "data": {
      "text/plain": [
       "(466285, 541)"
      ]
     },
     "execution_count": 172,
     "metadata": {},
     "output_type": "execute_result"
    }
   ],
   "source": [
    "loan_data_preprocessed_new.shape"
   ]
  },
  {
   "cell_type": "code",
   "execution_count": 173,
   "id": "ff87790f",
   "metadata": {},
   "outputs": [
    {
     "data": {
      "text/html": [
       "<div>\n",
       "<style scoped>\n",
       "    .dataframe tbody tr th:only-of-type {\n",
       "        vertical-align: middle;\n",
       "    }\n",
       "\n",
       "    .dataframe tbody tr th {\n",
       "        vertical-align: top;\n",
       "    }\n",
       "\n",
       "    .dataframe thead th {\n",
       "        text-align: right;\n",
       "    }\n",
       "</style>\n",
       "<table border=\"1\" class=\"dataframe\">\n",
       "  <thead>\n",
       "    <tr style=\"text-align: right;\">\n",
       "      <th></th>\n",
       "      <th>id</th>\n",
       "      <th>member_id</th>\n",
       "      <th>loan_amnt</th>\n",
       "      <th>funded_amnt</th>\n",
       "      <th>funded_amnt_inv</th>\n",
       "      <th>term</th>\n",
       "      <th>int_rate</th>\n",
       "      <th>installment</th>\n",
       "      <th>grade</th>\n",
       "      <th>sub_grade</th>\n",
       "      <th>...</th>\n",
       "      <th>mths_since_last_record:Missing</th>\n",
       "      <th>mths_since_last_record:0-2</th>\n",
       "      <th>mths_since_last_record:3-20</th>\n",
       "      <th>mths_since_last_record:21-31</th>\n",
       "      <th>mths_since_last_record:32-80</th>\n",
       "      <th>mths_since_last_record:81-86</th>\n",
       "      <th>mths_since_last_record:&gt;86</th>\n",
       "      <th>purpose:educ__sm_b__wedd__ren_en__mov__house</th>\n",
       "      <th>purpose:oth__med__vacation</th>\n",
       "      <th>PD</th>\n",
       "    </tr>\n",
       "  </thead>\n",
       "  <tbody>\n",
       "    <tr>\n",
       "      <th>0</th>\n",
       "      <td>1077501</td>\n",
       "      <td>1296599</td>\n",
       "      <td>5000</td>\n",
       "      <td>5000</td>\n",
       "      <td>4975.0</td>\n",
       "      <td>36 months</td>\n",
       "      <td>10.65</td>\n",
       "      <td>162.87</td>\n",
       "      <td>B</td>\n",
       "      <td>B2</td>\n",
       "      <td>...</td>\n",
       "      <td>1</td>\n",
       "      <td>0</td>\n",
       "      <td>0</td>\n",
       "      <td>0</td>\n",
       "      <td>0</td>\n",
       "      <td>0</td>\n",
       "      <td>0</td>\n",
       "      <td>0</td>\n",
       "      <td>0</td>\n",
       "      <td>0.164790</td>\n",
       "    </tr>\n",
       "    <tr>\n",
       "      <th>1</th>\n",
       "      <td>1077430</td>\n",
       "      <td>1314167</td>\n",
       "      <td>2500</td>\n",
       "      <td>2500</td>\n",
       "      <td>2500.0</td>\n",
       "      <td>60 months</td>\n",
       "      <td>15.27</td>\n",
       "      <td>59.83</td>\n",
       "      <td>C</td>\n",
       "      <td>C4</td>\n",
       "      <td>...</td>\n",
       "      <td>1</td>\n",
       "      <td>0</td>\n",
       "      <td>0</td>\n",
       "      <td>0</td>\n",
       "      <td>0</td>\n",
       "      <td>0</td>\n",
       "      <td>0</td>\n",
       "      <td>0</td>\n",
       "      <td>0</td>\n",
       "      <td>0.282677</td>\n",
       "    </tr>\n",
       "    <tr>\n",
       "      <th>2</th>\n",
       "      <td>1077175</td>\n",
       "      <td>1313524</td>\n",
       "      <td>2400</td>\n",
       "      <td>2400</td>\n",
       "      <td>2400.0</td>\n",
       "      <td>36 months</td>\n",
       "      <td>15.96</td>\n",
       "      <td>84.33</td>\n",
       "      <td>C</td>\n",
       "      <td>C5</td>\n",
       "      <td>...</td>\n",
       "      <td>1</td>\n",
       "      <td>0</td>\n",
       "      <td>0</td>\n",
       "      <td>0</td>\n",
       "      <td>0</td>\n",
       "      <td>0</td>\n",
       "      <td>0</td>\n",
       "      <td>1</td>\n",
       "      <td>0</td>\n",
       "      <td>0.231053</td>\n",
       "    </tr>\n",
       "    <tr>\n",
       "      <th>3</th>\n",
       "      <td>1076863</td>\n",
       "      <td>1277178</td>\n",
       "      <td>10000</td>\n",
       "      <td>10000</td>\n",
       "      <td>10000.0</td>\n",
       "      <td>36 months</td>\n",
       "      <td>13.49</td>\n",
       "      <td>339.31</td>\n",
       "      <td>C</td>\n",
       "      <td>C1</td>\n",
       "      <td>...</td>\n",
       "      <td>1</td>\n",
       "      <td>0</td>\n",
       "      <td>0</td>\n",
       "      <td>0</td>\n",
       "      <td>0</td>\n",
       "      <td>0</td>\n",
       "      <td>0</td>\n",
       "      <td>0</td>\n",
       "      <td>1</td>\n",
       "      <td>0.208820</td>\n",
       "    </tr>\n",
       "    <tr>\n",
       "      <th>4</th>\n",
       "      <td>1075358</td>\n",
       "      <td>1311748</td>\n",
       "      <td>3000</td>\n",
       "      <td>3000</td>\n",
       "      <td>3000.0</td>\n",
       "      <td>60 months</td>\n",
       "      <td>12.69</td>\n",
       "      <td>67.79</td>\n",
       "      <td>B</td>\n",
       "      <td>B5</td>\n",
       "      <td>...</td>\n",
       "      <td>1</td>\n",
       "      <td>0</td>\n",
       "      <td>0</td>\n",
       "      <td>0</td>\n",
       "      <td>0</td>\n",
       "      <td>0</td>\n",
       "      <td>0</td>\n",
       "      <td>0</td>\n",
       "      <td>1</td>\n",
       "      <td>0.129372</td>\n",
       "    </tr>\n",
       "  </tbody>\n",
       "</table>\n",
       "<p>5 rows × 541 columns</p>\n",
       "</div>"
      ],
      "text/plain": [
       "        id  member_id  loan_amnt  funded_amnt  funded_amnt_inv        term  \\\n",
       "0  1077501    1296599       5000         5000           4975.0   36 months   \n",
       "1  1077430    1314167       2500         2500           2500.0   60 months   \n",
       "2  1077175    1313524       2400         2400           2400.0   36 months   \n",
       "3  1076863    1277178      10000        10000          10000.0   36 months   \n",
       "4  1075358    1311748       3000         3000           3000.0   60 months   \n",
       "\n",
       "   int_rate  installment grade sub_grade  ... mths_since_last_record:Missing  \\\n",
       "0     10.65       162.87     B        B2  ...                              1   \n",
       "1     15.27        59.83     C        C4  ...                              1   \n",
       "2     15.96        84.33     C        C5  ...                              1   \n",
       "3     13.49       339.31     C        C1  ...                              1   \n",
       "4     12.69        67.79     B        B5  ...                              1   \n",
       "\n",
       "  mths_since_last_record:0-2 mths_since_last_record:3-20  \\\n",
       "0                          0                           0   \n",
       "1                          0                           0   \n",
       "2                          0                           0   \n",
       "3                          0                           0   \n",
       "4                          0                           0   \n",
       "\n",
       "   mths_since_last_record:21-31 mths_since_last_record:32-80  \\\n",
       "0                             0                            0   \n",
       "1                             0                            0   \n",
       "2                             0                            0   \n",
       "3                             0                            0   \n",
       "4                             0                            0   \n",
       "\n",
       "  mths_since_last_record:81-86 mths_since_last_record:>86  \\\n",
       "0                            0                          0   \n",
       "1                            0                          0   \n",
       "2                            0                          0   \n",
       "3                            0                          0   \n",
       "4                            0                          0   \n",
       "\n",
       "  purpose:educ__sm_b__wedd__ren_en__mov__house purpose:oth__med__vacation  \\\n",
       "0                                            0                          0   \n",
       "1                                            0                          0   \n",
       "2                                            1                          0   \n",
       "3                                            0                          1   \n",
       "4                                            0                          1   \n",
       "\n",
       "         PD  \n",
       "0  0.164790  \n",
       "1  0.282677  \n",
       "2  0.231053  \n",
       "3  0.208820  \n",
       "4  0.129372  \n",
       "\n",
       "[5 rows x 541 columns]"
      ]
     },
     "execution_count": 173,
     "metadata": {},
     "output_type": "execute_result"
    }
   ],
   "source": [
    "loan_data_preprocessed_new.head()"
   ]
  },
  {
   "cell_type": "code",
   "execution_count": 174,
   "id": "20d50d77",
   "metadata": {},
   "outputs": [],
   "source": [
    "loan_data_preprocessed_new['EL'] = loan_data_preprocessed_new['PD'] * loan_data_preprocessed_new['LGD'] * loan_data_preprocessed_new['EAD']"
   ]
  },
  {
   "cell_type": "code",
   "execution_count": 175,
   "id": "e86d2519",
   "metadata": {},
   "outputs": [
    {
     "data": {
      "text/plain": [
       "count    466285.000000\n",
       "mean       1094.395071\n",
       "std        1112.044558\n",
       "min           9.533426\n",
       "25%         357.684883\n",
       "50%         714.516058\n",
       "75%        1422.054806\n",
       "max       12274.350811\n",
       "Name: EL, dtype: float64"
      ]
     },
     "execution_count": 175,
     "metadata": {},
     "output_type": "execute_result"
    }
   ],
   "source": [
    "loan_data_preprocessed_new['EL'].describe()"
   ]
  },
  {
   "cell_type": "code",
   "execution_count": 176,
   "id": "8f2b384a",
   "metadata": {},
   "outputs": [
    {
     "data": {
      "text/html": [
       "<div>\n",
       "<style scoped>\n",
       "    .dataframe tbody tr th:only-of-type {\n",
       "        vertical-align: middle;\n",
       "    }\n",
       "\n",
       "    .dataframe tbody tr th {\n",
       "        vertical-align: top;\n",
       "    }\n",
       "\n",
       "    .dataframe thead th {\n",
       "        text-align: right;\n",
       "    }\n",
       "</style>\n",
       "<table border=\"1\" class=\"dataframe\">\n",
       "  <thead>\n",
       "    <tr style=\"text-align: right;\">\n",
       "      <th></th>\n",
       "      <th>funded_amnt</th>\n",
       "      <th>funded_amnt</th>\n",
       "      <th>PD</th>\n",
       "      <th>LGD</th>\n",
       "      <th>EAD</th>\n",
       "      <th>EL</th>\n",
       "    </tr>\n",
       "  </thead>\n",
       "  <tbody>\n",
       "    <tr>\n",
       "      <th>0</th>\n",
       "      <td>5000</td>\n",
       "      <td>5000</td>\n",
       "      <td>0.164790</td>\n",
       "      <td>0.913729</td>\n",
       "      <td>2949.608449</td>\n",
       "      <td>444.131269</td>\n",
       "    </tr>\n",
       "    <tr>\n",
       "      <th>1</th>\n",
       "      <td>2500</td>\n",
       "      <td>2500</td>\n",
       "      <td>0.282677</td>\n",
       "      <td>0.915482</td>\n",
       "      <td>1944.433378</td>\n",
       "      <td>503.191820</td>\n",
       "    </tr>\n",
       "    <tr>\n",
       "      <th>2</th>\n",
       "      <td>2400</td>\n",
       "      <td>2400</td>\n",
       "      <td>0.231053</td>\n",
       "      <td>0.919484</td>\n",
       "      <td>1579.934302</td>\n",
       "      <td>335.656597</td>\n",
       "    </tr>\n",
       "    <tr>\n",
       "      <th>3</th>\n",
       "      <td>10000</td>\n",
       "      <td>10000</td>\n",
       "      <td>0.208820</td>\n",
       "      <td>0.904924</td>\n",
       "      <td>6606.559612</td>\n",
       "      <td>1248.415757</td>\n",
       "    </tr>\n",
       "    <tr>\n",
       "      <th>4</th>\n",
       "      <td>3000</td>\n",
       "      <td>3000</td>\n",
       "      <td>0.129372</td>\n",
       "      <td>0.911453</td>\n",
       "      <td>2124.631667</td>\n",
       "      <td>250.529505</td>\n",
       "    </tr>\n",
       "  </tbody>\n",
       "</table>\n",
       "</div>"
      ],
      "text/plain": [
       "   funded_amnt  funded_amnt        PD       LGD          EAD           EL\n",
       "0         5000         5000  0.164790  0.913729  2949.608449   444.131269\n",
       "1         2500         2500  0.282677  0.915482  1944.433378   503.191820\n",
       "2         2400         2400  0.231053  0.919484  1579.934302   335.656597\n",
       "3        10000        10000  0.208820  0.904924  6606.559612  1248.415757\n",
       "4         3000         3000  0.129372  0.911453  2124.631667   250.529505"
      ]
     },
     "execution_count": 176,
     "metadata": {},
     "output_type": "execute_result"
    }
   ],
   "source": [
    "loan_data_preprocessed_new[['funded_amnt', 'PD', 'LGD', 'EAD', 'EL']].head()"
   ]
  },
  {
   "cell_type": "code",
   "execution_count": 177,
   "id": "534b158e",
   "metadata": {},
   "outputs": [
    {
     "data": {
      "text/html": [
       "<div>\n",
       "<style scoped>\n",
       "    .dataframe tbody tr th:only-of-type {\n",
       "        vertical-align: middle;\n",
       "    }\n",
       "\n",
       "    .dataframe tbody tr th {\n",
       "        vertical-align: top;\n",
       "    }\n",
       "\n",
       "    .dataframe thead th {\n",
       "        text-align: right;\n",
       "    }\n",
       "</style>\n",
       "<table border=\"1\" class=\"dataframe\">\n",
       "  <thead>\n",
       "    <tr style=\"text-align: right;\">\n",
       "      <th></th>\n",
       "      <th>funded_amnt</th>\n",
       "      <th>funded_amnt</th>\n",
       "    </tr>\n",
       "  </thead>\n",
       "  <tbody>\n",
       "    <tr>\n",
       "      <th>count</th>\n",
       "      <td>466285.000000</td>\n",
       "      <td>466285.000000</td>\n",
       "    </tr>\n",
       "    <tr>\n",
       "      <th>mean</th>\n",
       "      <td>14291.801044</td>\n",
       "      <td>14291.801044</td>\n",
       "    </tr>\n",
       "    <tr>\n",
       "      <th>std</th>\n",
       "      <td>8274.371300</td>\n",
       "      <td>8274.371300</td>\n",
       "    </tr>\n",
       "    <tr>\n",
       "      <th>min</th>\n",
       "      <td>500.000000</td>\n",
       "      <td>500.000000</td>\n",
       "    </tr>\n",
       "    <tr>\n",
       "      <th>25%</th>\n",
       "      <td>8000.000000</td>\n",
       "      <td>8000.000000</td>\n",
       "    </tr>\n",
       "    <tr>\n",
       "      <th>50%</th>\n",
       "      <td>12000.000000</td>\n",
       "      <td>12000.000000</td>\n",
       "    </tr>\n",
       "    <tr>\n",
       "      <th>75%</th>\n",
       "      <td>20000.000000</td>\n",
       "      <td>20000.000000</td>\n",
       "    </tr>\n",
       "    <tr>\n",
       "      <th>max</th>\n",
       "      <td>35000.000000</td>\n",
       "      <td>35000.000000</td>\n",
       "    </tr>\n",
       "  </tbody>\n",
       "</table>\n",
       "</div>"
      ],
      "text/plain": [
       "         funded_amnt    funded_amnt\n",
       "count  466285.000000  466285.000000\n",
       "mean    14291.801044   14291.801044\n",
       "std      8274.371300    8274.371300\n",
       "min       500.000000     500.000000\n",
       "25%      8000.000000    8000.000000\n",
       "50%     12000.000000   12000.000000\n",
       "75%     20000.000000   20000.000000\n",
       "max     35000.000000   35000.000000"
      ]
     },
     "execution_count": 177,
     "metadata": {},
     "output_type": "execute_result"
    }
   ],
   "source": [
    "loan_data_preprocessed_new['funded_amnt'].describe()"
   ]
  },
  {
   "cell_type": "code",
   "execution_count": 178,
   "id": "3d1bd759",
   "metadata": {},
   "outputs": [
    {
     "data": {
      "text/plain": [
       "510300005.8754629"
      ]
     },
     "execution_count": 178,
     "metadata": {},
     "output_type": "execute_result"
    }
   ],
   "source": [
    "loan_data_preprocessed_new['EL'].sum()"
   ]
  },
  {
   "cell_type": "code",
   "execution_count": 179,
   "id": "919729df",
   "metadata": {},
   "outputs": [
    {
     "data": {
      "text/plain": [
       "funded_amnt    6664052450\n",
       "funded_amnt    6664052450\n",
       "dtype: int64"
      ]
     },
     "execution_count": 179,
     "metadata": {},
     "output_type": "execute_result"
    }
   ],
   "source": [
    "loan_data_preprocessed_new['funded_amnt'].sum()"
   ]
  },
  {
   "cell_type": "code",
   "execution_count": 180,
   "id": "7428b47c",
   "metadata": {},
   "outputs": [
    {
     "data": {
      "text/plain": [
       "funded_amnt    0.076575\n",
       "funded_amnt    0.076575\n",
       "dtype: float64"
      ]
     },
     "execution_count": 180,
     "metadata": {},
     "output_type": "execute_result"
    }
   ],
   "source": [
    "loan_data_preprocessed_new['EL'].sum() / loan_data_preprocessed_new['funded_amnt'].sum()"
   ]
  },
  {
   "cell_type": "code",
   "execution_count": null,
   "id": "356a7ab4",
   "metadata": {},
   "outputs": [],
   "source": []
  }
 ],
 "metadata": {
  "kernelspec": {
   "display_name": "Python 3 (ipykernel)",
   "language": "python",
   "name": "python3"
  },
  "language_info": {
   "codemirror_mode": {
    "name": "ipython",
    "version": 3
   },
   "file_extension": ".py",
   "mimetype": "text/x-python",
   "name": "python",
   "nbconvert_exporter": "python",
   "pygments_lexer": "ipython3",
   "version": "3.10.4"
  }
 },
 "nbformat": 4,
 "nbformat_minor": 5
}
